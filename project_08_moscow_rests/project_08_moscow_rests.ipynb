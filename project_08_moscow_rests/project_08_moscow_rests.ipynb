{
 "cells": [
  {
   "cell_type": "markdown",
   "metadata": {},
   "source": [
    "<BR>"
   ]
  },
  {
   "cell_type": "markdown",
   "metadata": {},
   "source": [
    "# Рынок заведений общественного питания Москвы"
   ]
  },
  {
   "cell_type": "markdown",
   "metadata": {},
   "source": [
    "<BR>"
   ]
  },
  {
   "cell_type": "markdown",
   "metadata": {},
   "source": [
    "## Описание"
   ]
  },
  {
   "cell_type": "markdown",
   "metadata": {},
   "source": [
    "Мы решили открыть небольшое кафе в Москве. Оно оригинальное — гостей должны обслуживать роботы. Проект многообещающий, но дорогой. Вместе с партнёрами мы решили обратиться к инвесторам. Их интересует текущее положение дел на рынке.  \n"
   ]
  },
  {
   "cell_type": "markdown",
   "metadata": {},
   "source": [
    "## Необходимо"
   ]
  },
  {
   "cell_type": "markdown",
   "metadata": {},
   "source": [
    "Нам необходимо понять, сможем ли мы снискать популярность на долгое время, когда все насмотрятся на роботов-официантов."
   ]
  },
  {
   "cell_type": "markdown",
   "metadata": {},
   "source": [
    "## Данные"
   ]
  },
  {
   "cell_type": "markdown",
   "metadata": {},
   "source": [
    "Таблица **rest_data** (путь к файлу: /datasets/rest_data.csv. ):  \n",
    " - *id* — идентификатор объекта;  \n",
    " - *object_name* — название объекта общественного питания;  \n",
    " - *chain* — сетевой ресторан;  \n",
    " - *object_type* — тип объекта общественного питания;  \n",
    " - *address* — адрес;  \n",
    " - *number* — количество посадочных мест."
   ]
  },
  {
   "cell_type": "markdown",
   "metadata": {},
   "source": [
    "<a id='section_id_100'></a> "
   ]
  },
  {
   "cell_type": "markdown",
   "metadata": {},
   "source": [
    "## Оглавление"
   ]
  },
  {
   "cell_type": "markdown",
   "metadata": {},
   "source": [
    "\n",
    "    \n",
    "- [Презентация](#section_id_5) \n",
    "- [Шаг 1. Общая информация](#section_id_11) \n",
    "  - [1.1 Импорт библиотек](#section_id_12) \n",
    "  - [1.2 Изучение общей информации](#section_id_12)\n",
    "  - [1.3 Вывод  ](#section_id_13)\n",
    "- [Шаг 2. Предобработка данных](#section_id_2)\n",
    "  - [2.1 Названия объектов общественного питания](#section_id_21)\n",
    "  - [2.2 Выбросы и нули в количестве посадочных мест ](#section_id_22)\n",
    "  - [2.3 Вывод  ](#section_id_23)\n",
    "- [Шаг 3. Анализ данных ](#section_id_3)\n",
    "  - [3.1 Соотношение объектов общественного питания по количеству ](#section_id_31)\n",
    "  - [3.2 Соотношение сетевых и несетевых заведений по количеству.](#section_id_32)\n",
    "  - [3.3 Соотношение вида объекта общественного питания и сетевого распространения](#section_id_33)   \n",
    "  - [3.4 Характерные черты для сетевых заведений](#section_id_34)\n",
    "  - [3.5 Среднее количество посадочных мест](#section_id_35)\n",
    "  - [3.6 Топ-10 улиц по количеству объектов общественного питания](#section_id_36) \n",
    "  - [3.7 Улицы с одним объектом общественного питания](#section_id_37)\n",
    "  - [3.8 Распределение количества посадочных мест для улиц с большим количеством объектов общественного питания](#section_id_38)\n",
    "- [Шаг 4. Итог](#section_id_4)\n"
   ]
  },
  {
   "cell_type": "markdown",
   "metadata": {},
   "source": [
    "<BR>\n",
    "<a id='section_id_5'></a>    ______________________________________________________________________________________________________________________________"
   ]
  },
  {
   "cell_type": "markdown",
   "metadata": {},
   "source": [
    "# Презентация "
   ]
  },
  {
   "cell_type": "markdown",
   "metadata": {},
   "source": [
    "\n",
    "\n",
    "https://drive.google.com/file/d/1MQlVtSNY9ZfmBn0QdcSI8URkUHHgES6q/view?usp=sharing"
   ]
  },
  {
   "cell_type": "markdown",
   "metadata": {},
   "source": [
    "<BR>\n",
    "    ______________________________________________________________________________________________________________________________"
   ]
  },
  {
   "cell_type": "markdown",
   "metadata": {},
   "source": [
    "# Шаг 1. Изучение общей информации <a id='section_id_1'></a>"
   ]
  },
  {
   "cell_type": "markdown",
   "metadata": {},
   "source": [
    "## 1.1 Импорт библиотек <a id='section_id_11'></a>"
   ]
  },
  {
   "cell_type": "code",
   "execution_count": 1,
   "metadata": {},
   "outputs": [],
   "source": [
    "import pandas as pd\n",
    "\n",
    "import matplotlib.pyplot as plt\n",
    "import seaborn as sns\n",
    "sns.set_style(\"darkgrid\", {\"axes.facecolor\": \".9\"})   # общий стиль для графиков"
   ]
  },
  {
   "cell_type": "markdown",
   "metadata": {},
   "source": [
    "## 1.2 Изучение общей информации <a id='section_id_12'></a>"
   ]
  },
  {
   "cell_type": "code",
   "execution_count": 2,
   "metadata": {},
   "outputs": [
    {
     "data": {
      "text/html": [
       "<div>\n",
       "<style scoped>\n",
       "    .dataframe tbody tr th:only-of-type {\n",
       "        vertical-align: middle;\n",
       "    }\n",
       "\n",
       "    .dataframe tbody tr th {\n",
       "        vertical-align: top;\n",
       "    }\n",
       "\n",
       "    .dataframe thead th {\n",
       "        text-align: right;\n",
       "    }\n",
       "</style>\n",
       "<table border=\"1\" class=\"dataframe\">\n",
       "  <thead>\n",
       "    <tr style=\"text-align: right;\">\n",
       "      <th></th>\n",
       "      <th>id</th>\n",
       "      <th>object_name</th>\n",
       "      <th>chain</th>\n",
       "      <th>object_type</th>\n",
       "      <th>address</th>\n",
       "      <th>number</th>\n",
       "    </tr>\n",
       "  </thead>\n",
       "  <tbody>\n",
       "    <tr>\n",
       "      <td>0</td>\n",
       "      <td>151635</td>\n",
       "      <td>СМЕТАНА</td>\n",
       "      <td>нет</td>\n",
       "      <td>кафе</td>\n",
       "      <td>город Москва, улица Егора Абакумова, дом 9</td>\n",
       "      <td>48</td>\n",
       "    </tr>\n",
       "    <tr>\n",
       "      <td>1</td>\n",
       "      <td>77874</td>\n",
       "      <td>Родник</td>\n",
       "      <td>нет</td>\n",
       "      <td>кафе</td>\n",
       "      <td>город Москва, улица Талалихина, дом 2/1, корпус 1</td>\n",
       "      <td>35</td>\n",
       "    </tr>\n",
       "    <tr>\n",
       "      <td>2</td>\n",
       "      <td>24309</td>\n",
       "      <td>Кафе «Академия»</td>\n",
       "      <td>нет</td>\n",
       "      <td>кафе</td>\n",
       "      <td>город Москва, Абельмановская улица, дом 6</td>\n",
       "      <td>95</td>\n",
       "    </tr>\n",
       "    <tr>\n",
       "      <td>3</td>\n",
       "      <td>21894</td>\n",
       "      <td>ПИЦЦЕТОРИЯ</td>\n",
       "      <td>да</td>\n",
       "      <td>кафе</td>\n",
       "      <td>город Москва, Абрамцевская улица, дом 1</td>\n",
       "      <td>40</td>\n",
       "    </tr>\n",
       "    <tr>\n",
       "      <td>4</td>\n",
       "      <td>119365</td>\n",
       "      <td>Кафе «Вишневая метель»</td>\n",
       "      <td>нет</td>\n",
       "      <td>кафе</td>\n",
       "      <td>город Москва, Абрамцевская улица, дом 9, корпус 1</td>\n",
       "      <td>50</td>\n",
       "    </tr>\n",
       "  </tbody>\n",
       "</table>\n",
       "</div>"
      ],
      "text/plain": [
       "       id             object_name chain object_type  \\\n",
       "0  151635                 СМЕТАНА   нет        кафе   \n",
       "1   77874                  Родник   нет        кафе   \n",
       "2   24309         Кафе «Академия»   нет        кафе   \n",
       "3   21894              ПИЦЦЕТОРИЯ    да        кафе   \n",
       "4  119365  Кафе «Вишневая метель»   нет        кафе   \n",
       "\n",
       "                                             address  number  \n",
       "0         город Москва, улица Егора Абакумова, дом 9      48  \n",
       "1  город Москва, улица Талалихина, дом 2/1, корпус 1      35  \n",
       "2          город Москва, Абельмановская улица, дом 6      95  \n",
       "3            город Москва, Абрамцевская улица, дом 1      40  \n",
       "4  город Москва, Абрамцевская улица, дом 9, корпус 1      50  "
      ]
     },
     "execution_count": 2,
     "metadata": {},
     "output_type": "execute_result"
    }
   ],
   "source": [
    "# откорем данные, посмотрим первые пять строк таблицы\n",
    "df = pd.read_csv('/datasets/rest_data.csv')\n",
    "df.head()"
   ]
  },
  {
   "cell_type": "markdown",
   "metadata": {},
   "source": [
    "названия столбцов впорядке"
   ]
  },
  {
   "cell_type": "code",
   "execution_count": 3,
   "metadata": {},
   "outputs": [
    {
     "data": {
      "text/plain": [
       "(15366, 6)"
      ]
     },
     "execution_count": 3,
     "metadata": {},
     "output_type": "execute_result"
    }
   ],
   "source": [
    "# размеры датасета\n",
    "df.shape"
   ]
  },
  {
   "cell_type": "code",
   "execution_count": 4,
   "metadata": {},
   "outputs": [
    {
     "name": "stdout",
     "output_type": "stream",
     "text": [
      "<class 'pandas.core.frame.DataFrame'>\n",
      "RangeIndex: 15366 entries, 0 to 15365\n",
      "Data columns (total 6 columns):\n",
      "id             15366 non-null int64\n",
      "object_name    15366 non-null object\n",
      "chain          15366 non-null object\n",
      "object_type    15366 non-null object\n",
      "address        15366 non-null object\n",
      "number         15366 non-null int64\n",
      "dtypes: int64(2), object(4)\n",
      "memory usage: 720.4+ KB\n"
     ]
    }
   ],
   "source": [
    "# общая информация\n",
    "df.info()"
   ]
  },
  {
   "cell_type": "markdown",
   "metadata": {},
   "source": [
    "тип данных впорядке, пропусков нет"
   ]
  },
  {
   "cell_type": "code",
   "execution_count": 5,
   "metadata": {},
   "outputs": [
    {
     "data": {
      "text/plain": [
       "0"
      ]
     },
     "execution_count": 5,
     "metadata": {},
     "output_type": "execute_result"
    }
   ],
   "source": [
    "# наличие дубликатов\n",
    "df.duplicated().sum()"
   ]
  },
  {
   "cell_type": "code",
   "execution_count": 6,
   "metadata": {},
   "outputs": [
    {
     "data": {
      "text/plain": [
       "15366"
      ]
     },
     "execution_count": 6,
     "metadata": {},
     "output_type": "execute_result"
    }
   ],
   "source": [
    "# идентификатор объекта \n",
    "df['id'].nunique()"
   ]
  },
  {
   "cell_type": "markdown",
   "metadata": {},
   "source": [
    "15366/15366, id уникальны"
   ]
  },
  {
   "cell_type": "code",
   "execution_count": 7,
   "metadata": {},
   "outputs": [
    {
     "data": {
      "text/plain": [
       "Столовая                                          267\n",
       "Кафе                                              236\n",
       "Шаурма                                            234\n",
       "KFC                                               155\n",
       "Шоколадница                                       142\n",
       "                                                 ... \n",
       "Буфет «Согдиана»                                    1\n",
       "Предприятие быстрого обслуживания «ДОДО Пицца»      1\n",
       "Кафе ДАДА                                           1\n",
       "Smart Kitchen                                       1\n",
       "WayMe                                               1\n",
       "Name: object_name, Length: 10393, dtype: int64"
      ]
     },
     "execution_count": 7,
     "metadata": {},
     "output_type": "execute_result"
    }
   ],
   "source": [
    "# названия объектов общественного питания\n",
    "df['object_name'].value_counts()"
   ]
  },
  {
   "cell_type": "code",
   "execution_count": 8,
   "metadata": {},
   "outputs": [
    {
     "data": {
      "text/plain": [
       "10393"
      ]
     },
     "execution_count": 8,
     "metadata": {},
     "output_type": "execute_result"
    }
   ],
   "source": [
    "df['object_name'].nunique()"
   ]
  },
  {
   "cell_type": "markdown",
   "metadata": {},
   "source": [
    "очень много названий, нужно будет проверить на пересечение и совпадение "
   ]
  },
  {
   "cell_type": "code",
   "execution_count": 9,
   "metadata": {},
   "outputs": [
    {
     "data": {
      "text/plain": [
       "нет    12398\n",
       "да      2968\n",
       "Name: chain, dtype: int64"
      ]
     },
     "execution_count": 9,
     "metadata": {},
     "output_type": "execute_result"
    }
   ],
   "source": [
    "# сетевой ресторан\n",
    "df['chain'].value_counts(dropna=False)"
   ]
  },
  {
   "cell_type": "markdown",
   "metadata": {},
   "source": [
    "есть только два варианта, пропусков и аномалий не наблюдаем"
   ]
  },
  {
   "cell_type": "code",
   "execution_count": 10,
   "metadata": {},
   "outputs": [
    {
     "data": {
      "text/plain": [
       "кафе                                 6099\n",
       "столовая                             2587\n",
       "ресторан                             2285\n",
       "предприятие быстрого обслуживания    1923\n",
       "бар                                   856\n",
       "буфет                                 585\n",
       "кафетерий                             398\n",
       "закусочная                            360\n",
       "магазин (отдел кулинарии)             273\n",
       "Name: object_type, dtype: int64"
      ]
     },
     "execution_count": 10,
     "metadata": {},
     "output_type": "execute_result"
    }
   ],
   "source": [
    "# типы объектов общественного питания\n",
    "df['object_type'].value_counts(dropna=False)"
   ]
  },
  {
   "cell_type": "markdown",
   "metadata": {},
   "source": [
    "с типами питания все впорядке"
   ]
  },
  {
   "cell_type": "code",
   "execution_count": 11,
   "metadata": {},
   "outputs": [
    {
     "data": {
      "text/plain": [
       "count    15366.000000\n",
       "mean        59.547182\n",
       "std         74.736833\n",
       "min          0.000000\n",
       "25%         12.000000\n",
       "50%         40.000000\n",
       "75%         80.000000\n",
       "max       1700.000000\n",
       "Name: number, dtype: float64"
      ]
     },
     "execution_count": 11,
     "metadata": {},
     "output_type": "execute_result"
    }
   ],
   "source": [
    "# количество посадочных мест\n",
    "df['number'].describe()"
   ]
  },
  {
   "cell_type": "markdown",
   "metadata": {},
   "source": [
    "максимальное количество мест 1700, минимальное 0, похоже на выбросы и аномалии"
   ]
  },
  {
   "cell_type": "code",
   "execution_count": 12,
   "metadata": {
    "scrolled": false
   },
   "outputs": [
    {
     "data": {
      "image/png": "[encoded data removed]",
      "text/plain": [
       "<Figure size 864x432 with 1 Axes>"
      ]
     },
     "metadata": {},
     "output_type": "display_data"
    }
   ],
   "source": [
    "# построим ящик с усами\n",
    "df.boxplot('number',  figsize=(12,6), whis=[5,95])\n",
    "plt.title('Количество посадочных мест')\n",
    "plt.show()"
   ]
  },
  {
   "cell_type": "markdown",
   "metadata": {},
   "source": [
    "имеются нули и выбросы"
   ]
  },
  {
   "cell_type": "markdown",
   "metadata": {},
   "source": [
    "## 1.3 Вывод <a id='section_id_13'></a>"
   ]
  },
  {
   "cell_type": "markdown",
   "metadata": {},
   "source": [
    "**названия столбцов впорядке**  \n",
    "**типы данных впорядке**  \n",
    "**пропусков нет**   \n",
    "**необходимо проверить *object_name*, названия объектов общественного питания**  \n",
    "**в *number* имеются выбросы и нули**  \n",
    "  \n",
    "  \n",
    "  \n",
    "[оглавление](#section_id_100)"
   ]
  },
  {
   "cell_type": "markdown",
   "metadata": {},
   "source": [
    "<BR>\n",
    "    ______________________________________________________________________________________________________________________________"
   ]
  },
  {
   "cell_type": "markdown",
   "metadata": {},
   "source": [
    "# Шаг 2. Предобработка данных <a id='section_id_2'></a>"
   ]
  },
  {
   "cell_type": "markdown",
   "metadata": {},
   "source": [
    "## 2.1  Названия объектов общественного питания<a id='section_id_21'></a>"
   ]
  },
  {
   "cell_type": "code",
   "execution_count": 13,
   "metadata": {},
   "outputs": [
    {
     "data": {
      "text/html": [
       "<div>\n",
       "<style scoped>\n",
       "    .dataframe tbody tr th:only-of-type {\n",
       "        vertical-align: middle;\n",
       "    }\n",
       "\n",
       "    .dataframe tbody tr th {\n",
       "        vertical-align: top;\n",
       "    }\n",
       "\n",
       "    .dataframe thead th {\n",
       "        text-align: right;\n",
       "    }\n",
       "</style>\n",
       "<table border=\"1\" class=\"dataframe\">\n",
       "  <thead>\n",
       "    <tr style=\"text-align: right;\">\n",
       "      <th></th>\n",
       "      <th>id</th>\n",
       "      <th>object_name</th>\n",
       "      <th>chain</th>\n",
       "      <th>object_type</th>\n",
       "      <th>address</th>\n",
       "      <th>number</th>\n",
       "    </tr>\n",
       "  </thead>\n",
       "  <tbody>\n",
       "    <tr>\n",
       "      <td>0</td>\n",
       "      <td>151635</td>\n",
       "      <td>СМЕТАНА</td>\n",
       "      <td>нет</td>\n",
       "      <td>кафе</td>\n",
       "      <td>город Москва, улица Егора Абакумова, дом 9</td>\n",
       "      <td>48</td>\n",
       "    </tr>\n",
       "    <tr>\n",
       "      <td>1</td>\n",
       "      <td>77874</td>\n",
       "      <td>Родник</td>\n",
       "      <td>нет</td>\n",
       "      <td>кафе</td>\n",
       "      <td>город Москва, улица Талалихина, дом 2/1, корпус 1</td>\n",
       "      <td>35</td>\n",
       "    </tr>\n",
       "    <tr>\n",
       "      <td>2</td>\n",
       "      <td>24309</td>\n",
       "      <td>Кафе «Академия»</td>\n",
       "      <td>нет</td>\n",
       "      <td>кафе</td>\n",
       "      <td>город Москва, Абельмановская улица, дом 6</td>\n",
       "      <td>95</td>\n",
       "    </tr>\n",
       "    <tr>\n",
       "      <td>3</td>\n",
       "      <td>21894</td>\n",
       "      <td>ПИЦЦЕТОРИЯ</td>\n",
       "      <td>да</td>\n",
       "      <td>кафе</td>\n",
       "      <td>город Москва, Абрамцевская улица, дом 1</td>\n",
       "      <td>40</td>\n",
       "    </tr>\n",
       "    <tr>\n",
       "      <td>4</td>\n",
       "      <td>119365</td>\n",
       "      <td>Кафе «Вишневая метель»</td>\n",
       "      <td>нет</td>\n",
       "      <td>кафе</td>\n",
       "      <td>город Москва, Абрамцевская улица, дом 9, корпус 1</td>\n",
       "      <td>50</td>\n",
       "    </tr>\n",
       "  </tbody>\n",
       "</table>\n",
       "</div>"
      ],
      "text/plain": [
       "       id             object_name chain object_type  \\\n",
       "0  151635                 СМЕТАНА   нет        кафе   \n",
       "1   77874                  Родник   нет        кафе   \n",
       "2   24309         Кафе «Академия»   нет        кафе   \n",
       "3   21894              ПИЦЦЕТОРИЯ    да        кафе   \n",
       "4  119365  Кафе «Вишневая метель»   нет        кафе   \n",
       "\n",
       "                                             address  number  \n",
       "0         город Москва, улица Егора Абакумова, дом 9      48  \n",
       "1  город Москва, улица Талалихина, дом 2/1, корпус 1      35  \n",
       "2          город Москва, Абельмановская улица, дом 6      95  \n",
       "3            город Москва, Абрамцевская улица, дом 1      40  \n",
       "4  город Москва, Абрамцевская улица, дом 9, корпус 1      50  "
      ]
     },
     "execution_count": 13,
     "metadata": {},
     "output_type": "execute_result"
    }
   ],
   "source": [
    "df.head()"
   ]
  },
  {
   "cell_type": "code",
   "execution_count": 14,
   "metadata": {},
   "outputs": [
    {
     "data": {
      "text/plain": [
       "Столовая       267\n",
       "Кафе           236\n",
       "Шаурма         234\n",
       "KFC            155\n",
       "Шоколадница    142\n",
       "Макдоналдс     122\n",
       "Бургер Кинг    122\n",
       "Name: object_name, dtype: int64"
      ]
     },
     "execution_count": 14,
     "metadata": {},
     "output_type": "execute_result"
    }
   ],
   "source": [
    "# посмотрим 7 самых часто встречаемых названий объектов общественного питания\n",
    "df['object_name'].value_counts().head(7)"
   ]
  },
  {
   "cell_type": "code",
   "execution_count": 15,
   "metadata": {},
   "outputs": [
    {
     "data": {
      "text/plain": [
       "['Столовая',\n",
       " 'Кафе',\n",
       " 'Шаурма',\n",
       " 'KFC',\n",
       " 'Шоколадница',\n",
       " 'Макдоналдс',\n",
       " 'Бургер Кинг',\n",
       " \"Домино'с Пицца\",\n",
       " 'Теремок',\n",
       " 'Крошка Картошка',\n",
       " 'Пекарня',\n",
       " 'Милти',\n",
       " 'Суши Wok',\n",
       " 'Буфет',\n",
       " 'СТОЛОВАЯ',\n",
       " 'Папа Джонс',\n",
       " 'Школьно-базовая столовая',\n",
       " 'Кофе с собой',\n",
       " 'Чайхона №1',\n",
       " 'КАФЕ',\n",
       " 'Выпечка',\n",
       " 'Кафетерий',\n",
       " 'Хинкальная',\n",
       " 'Якитория',\n",
       " 'Додо Пицца',\n",
       " 'Кофе Хаус',\n",
       " 'Starbucks',\n",
       " 'Кофейня',\n",
       " 'МАКДОНАЛДС',\n",
       " 'Subway']"
      ]
     },
     "execution_count": 15,
     "metadata": {},
     "output_type": "execute_result"
    }
   ],
   "source": [
    "# посмотрим на топ 30 названий\n",
    "x = list(df['object_name'].value_counts().head(30).index)\n",
    "x"
   ]
  },
  {
   "cell_type": "code",
   "execution_count": 16,
   "metadata": {},
   "outputs": [
    {
     "data": {
      "text/plain": [
       "10393"
      ]
     },
     "execution_count": 16,
     "metadata": {},
     "output_type": "execute_result"
    }
   ],
   "source": [
    "# уникальные названия ДО\n",
    "df['object_name'].nunique()"
   ]
  },
  {
   "cell_type": "code",
   "execution_count": 17,
   "metadata": {},
   "outputs": [],
   "source": [
    "# приведем все названия к нижнему регистру\n",
    "df['object_name'] = df['object_name'].str.lower()"
   ]
  },
  {
   "cell_type": "code",
   "execution_count": 18,
   "metadata": {},
   "outputs": [],
   "source": [
    "# поменяем названия, приведем к одному виду\n",
    "df['object_name'].replace('subway','сабвей', inplace=True)\n",
    "df['object_name'].replace('mcdonalds', 'макдоналдс', inplace=True)\n",
    "df['object_name'].replace('teremok', 'теремок', inplace=True)\n",
    "df['object_name'].replace('starbucks', 'старбакс', inplace=True)"
   ]
  },
  {
   "cell_type": "code",
   "execution_count": 19,
   "metadata": {},
   "outputs": [
    {
     "data": {
      "text/plain": [
       "9920"
      ]
     },
     "execution_count": 19,
     "metadata": {},
     "output_type": "execute_result"
    }
   ],
   "source": [
    "# уникальные названия ПОСЛЕ\n",
    "df['object_name'].nunique()"
   ]
  },
  {
   "cell_type": "markdown",
   "metadata": {},
   "source": [
    "*Убрали 400 названий, которые повторялись, из за того что были напечатаны разным регистром.*  \n",
    "  \n",
    "*Менять язык названий, выделять леммы по ключевому слову, или по самому распространенному брэнду считаю не корректно, так как есть понятия авторских прав на название брэнда, из-за чего мы можем объеденить на самом деле разные объекты, в один.*  \n",
    "\n",
    "*Очень похожие названия могут быть опечаткой человека при заполнении данных, и два названия незначительно отличающиеся, могут на самом деле быть одним и тем же.*  \n",
    "\n",
    "*А может быть напротив, эти бренды на самом деле являются разными объектами общественного питания, просто их названия очень похожи. Возможно это был замысел авторов.*\n",
    "\n",
    "*Закон о плагиате, регламентирующий насколько названия разных брендов могут быть похожими, очень размыт.  \n",
    "Данный вопрос корректней решать в Федеральном институте промышленной собственности.  \n",
    "Поэтому считаю, что достаточно привести все названия к нижнему регистру, в остальном довериться источнику, и ни чего не менять.*"
   ]
  },
  {
   "cell_type": "markdown",
   "metadata": {},
   "source": [
    "## 2.2  Выбросы и нули в количестве посадочных мест<a id='section_id_22'></a>"
   ]
  },
  {
   "cell_type": "code",
   "execution_count": 20,
   "metadata": {},
   "outputs": [
    {
     "data": {
      "text/html": [
       "<div>\n",
       "<style scoped>\n",
       "    .dataframe tbody tr th:only-of-type {\n",
       "        vertical-align: middle;\n",
       "    }\n",
       "\n",
       "    .dataframe tbody tr th {\n",
       "        vertical-align: top;\n",
       "    }\n",
       "\n",
       "    .dataframe thead th {\n",
       "        text-align: right;\n",
       "    }\n",
       "</style>\n",
       "<table border=\"1\" class=\"dataframe\">\n",
       "  <thead>\n",
       "    <tr style=\"text-align: right;\">\n",
       "      <th></th>\n",
       "      <th>id</th>\n",
       "      <th>object_name</th>\n",
       "      <th>chain</th>\n",
       "      <th>object_type</th>\n",
       "      <th>address</th>\n",
       "      <th>number</th>\n",
       "    </tr>\n",
       "  </thead>\n",
       "  <tbody>\n",
       "    <tr>\n",
       "      <td>0</td>\n",
       "      <td>151635</td>\n",
       "      <td>сметана</td>\n",
       "      <td>нет</td>\n",
       "      <td>кафе</td>\n",
       "      <td>город Москва, улица Егора Абакумова, дом 9</td>\n",
       "      <td>48</td>\n",
       "    </tr>\n",
       "    <tr>\n",
       "      <td>1</td>\n",
       "      <td>77874</td>\n",
       "      <td>родник</td>\n",
       "      <td>нет</td>\n",
       "      <td>кафе</td>\n",
       "      <td>город Москва, улица Талалихина, дом 2/1, корпус 1</td>\n",
       "      <td>35</td>\n",
       "    </tr>\n",
       "    <tr>\n",
       "      <td>2</td>\n",
       "      <td>24309</td>\n",
       "      <td>кафе «академия»</td>\n",
       "      <td>нет</td>\n",
       "      <td>кафе</td>\n",
       "      <td>город Москва, Абельмановская улица, дом 6</td>\n",
       "      <td>95</td>\n",
       "    </tr>\n",
       "    <tr>\n",
       "      <td>3</td>\n",
       "      <td>21894</td>\n",
       "      <td>пиццетория</td>\n",
       "      <td>да</td>\n",
       "      <td>кафе</td>\n",
       "      <td>город Москва, Абрамцевская улица, дом 1</td>\n",
       "      <td>40</td>\n",
       "    </tr>\n",
       "    <tr>\n",
       "      <td>4</td>\n",
       "      <td>119365</td>\n",
       "      <td>кафе «вишневая метель»</td>\n",
       "      <td>нет</td>\n",
       "      <td>кафе</td>\n",
       "      <td>город Москва, Абрамцевская улица, дом 9, корпус 1</td>\n",
       "      <td>50</td>\n",
       "    </tr>\n",
       "  </tbody>\n",
       "</table>\n",
       "</div>"
      ],
      "text/plain": [
       "       id             object_name chain object_type  \\\n",
       "0  151635                 сметана   нет        кафе   \n",
       "1   77874                  родник   нет        кафе   \n",
       "2   24309         кафе «академия»   нет        кафе   \n",
       "3   21894              пиццетория    да        кафе   \n",
       "4  119365  кафе «вишневая метель»   нет        кафе   \n",
       "\n",
       "                                             address  number  \n",
       "0         город Москва, улица Егора Абакумова, дом 9      48  \n",
       "1  город Москва, улица Талалихина, дом 2/1, корпус 1      35  \n",
       "2          город Москва, Абельмановская улица, дом 6      95  \n",
       "3            город Москва, Абрамцевская улица, дом 1      40  \n",
       "4  город Москва, Абрамцевская улица, дом 9, корпус 1      50  "
      ]
     },
     "execution_count": 20,
     "metadata": {},
     "output_type": "execute_result"
    }
   ],
   "source": [
    "# первые пять строк датасета\n",
    "df.head()"
   ]
  },
  {
   "cell_type": "code",
   "execution_count": 21,
   "metadata": {},
   "outputs": [
    {
     "data": {
      "image/png": "[encoded data removed]",
      "text/plain": [
       "<Figure size 864x432 with 1 Axes>"
      ]
     },
     "metadata": {},
     "output_type": "display_data"
    }
   ],
   "source": [
    "# посмотрим распределение количества посадочных мест на гистограмме\n",
    "df['number'].hist(bins=100, figsize=(12,6));\n",
    "plt.title('\\nРаспределение количества посадочных мест\\n')\n",
    "plt.xlabel(\"\\nколичество посадочных мест\")\n",
    "plt.ylabel(\"количесво заведений\\n\")\n",
    "plt.show()"
   ]
  },
  {
   "cell_type": "code",
   "execution_count": 22,
   "metadata": {},
   "outputs": [
    {
     "data": {
      "text/plain": [
       "1621"
      ]
     },
     "execution_count": 22,
     "metadata": {},
     "output_type": "execute_result"
    }
   ],
   "source": [
    "# общее количество заведений с количеством посадочных мест равное нулю\n",
    "df.query('number == 0').shape[0]"
   ]
  },
  {
   "cell_type": "code",
   "execution_count": 23,
   "metadata": {},
   "outputs": [
    {
     "data": {
      "text/html": [
       "<div>\n",
       "<style scoped>\n",
       "    .dataframe tbody tr th:only-of-type {\n",
       "        vertical-align: middle;\n",
       "    }\n",
       "\n",
       "    .dataframe tbody tr th {\n",
       "        vertical-align: top;\n",
       "    }\n",
       "\n",
       "    .dataframe thead th {\n",
       "        text-align: right;\n",
       "    }\n",
       "</style>\n",
       "<table border=\"1\" class=\"dataframe\">\n",
       "  <thead>\n",
       "    <tr style=\"text-align: right;\">\n",
       "      <th></th>\n",
       "      <th>id</th>\n",
       "      <th>object_name</th>\n",
       "      <th>chain</th>\n",
       "      <th>object_type</th>\n",
       "      <th>address</th>\n",
       "      <th>number</th>\n",
       "    </tr>\n",
       "  </thead>\n",
       "  <tbody>\n",
       "    <tr>\n",
       "      <td>13595</td>\n",
       "      <td>223344</td>\n",
       "      <td>шаурма</td>\n",
       "      <td>нет</td>\n",
       "      <td>предприятие быстрого обслуживания</td>\n",
       "      <td>город Москва, Новослободская улица, дом 35</td>\n",
       "      <td>0</td>\n",
       "    </tr>\n",
       "    <tr>\n",
       "      <td>11662</td>\n",
       "      <td>173417</td>\n",
       "      <td>fresh bar</td>\n",
       "      <td>нет</td>\n",
       "      <td>бар</td>\n",
       "      <td>город Москва, Комсомольская площадь, дом 6, со...</td>\n",
       "      <td>0</td>\n",
       "    </tr>\n",
       "    <tr>\n",
       "      <td>11645</td>\n",
       "      <td>182306</td>\n",
       "      <td>правда кофе</td>\n",
       "      <td>нет</td>\n",
       "      <td>кафетерий</td>\n",
       "      <td>город Москва, Николоямская улица, дом 29, стро...</td>\n",
       "      <td>0</td>\n",
       "    </tr>\n",
       "    <tr>\n",
       "      <td>7295</td>\n",
       "      <td>144587</td>\n",
       "      <td>кафе</td>\n",
       "      <td>нет</td>\n",
       "      <td>буфет</td>\n",
       "      <td>город Москва, Ясеневая улица, дом 13</td>\n",
       "      <td>0</td>\n",
       "    </tr>\n",
       "    <tr>\n",
       "      <td>8980</td>\n",
       "      <td>159144</td>\n",
       "      <td>предприятие быстрого питания</td>\n",
       "      <td>нет</td>\n",
       "      <td>предприятие быстрого обслуживания</td>\n",
       "      <td>город Москва, Южнобутовская улица, дом 50, кор...</td>\n",
       "      <td>0</td>\n",
       "    </tr>\n",
       "    <tr>\n",
       "      <td>14910</td>\n",
       "      <td>215253</td>\n",
       "      <td>ciao pizza</td>\n",
       "      <td>нет</td>\n",
       "      <td>кафе</td>\n",
       "      <td>город Москва, Ходынский бульвар, дом 4</td>\n",
       "      <td>0</td>\n",
       "    </tr>\n",
       "    <tr>\n",
       "      <td>11659</td>\n",
       "      <td>173413</td>\n",
       "      <td>чайхона тандыр хаус</td>\n",
       "      <td>нет</td>\n",
       "      <td>кафе</td>\n",
       "      <td>город Москва, Комсомольская площадь, дом 6, со...</td>\n",
       "      <td>0</td>\n",
       "    </tr>\n",
       "    <tr>\n",
       "      <td>13895</td>\n",
       "      <td>206186</td>\n",
       "      <td>кулинария</td>\n",
       "      <td>нет</td>\n",
       "      <td>магазин (отдел кулинарии)</td>\n",
       "      <td>город Москва, Кронштадтский бульвар, дом 47</td>\n",
       "      <td>0</td>\n",
       "    </tr>\n",
       "    <tr>\n",
       "      <td>12815</td>\n",
       "      <td>200770</td>\n",
       "      <td>шаурма, пекарня</td>\n",
       "      <td>нет</td>\n",
       "      <td>закусочная</td>\n",
       "      <td>город Москва, Уральская улица, дом 4Г</td>\n",
       "      <td>0</td>\n",
       "    </tr>\n",
       "    <tr>\n",
       "      <td>10588</td>\n",
       "      <td>185071</td>\n",
       "      <td>кофе</td>\n",
       "      <td>нет</td>\n",
       "      <td>кафе</td>\n",
       "      <td>город Москва, Челябинская улица, дом 17</td>\n",
       "      <td>0</td>\n",
       "    </tr>\n",
       "  </tbody>\n",
       "</table>\n",
       "</div>"
      ],
      "text/plain": [
       "           id                   object_name chain  \\\n",
       "13595  223344                        шаурма   нет   \n",
       "11662  173417                     fresh bar   нет   \n",
       "11645  182306                   правда кофе   нет   \n",
       "7295   144587                          кафе   нет   \n",
       "8980   159144  предприятие быстрого питания   нет   \n",
       "14910  215253                    ciao pizza   нет   \n",
       "11659  173413           чайхона тандыр хаус   нет   \n",
       "13895  206186                     кулинария   нет   \n",
       "12815  200770               шаурма, пекарня   нет   \n",
       "10588  185071                          кофе   нет   \n",
       "\n",
       "                             object_type  \\\n",
       "13595  предприятие быстрого обслуживания   \n",
       "11662                                бар   \n",
       "11645                          кафетерий   \n",
       "7295                               буфет   \n",
       "8980   предприятие быстрого обслуживания   \n",
       "14910                               кафе   \n",
       "11659                               кафе   \n",
       "13895          магазин (отдел кулинарии)   \n",
       "12815                         закусочная   \n",
       "10588                               кафе   \n",
       "\n",
       "                                                 address  number  \n",
       "13595         город Москва, Новослободская улица, дом 35       0  \n",
       "11662  город Москва, Комсомольская площадь, дом 6, со...       0  \n",
       "11645  город Москва, Николоямская улица, дом 29, стро...       0  \n",
       "7295                город Москва, Ясеневая улица, дом 13       0  \n",
       "8980   город Москва, Южнобутовская улица, дом 50, кор...       0  \n",
       "14910             город Москва, Ходынский бульвар, дом 4       0  \n",
       "11659  город Москва, Комсомольская площадь, дом 6, со...       0  \n",
       "13895        город Москва, Кронштадтский бульвар, дом 47       0  \n",
       "12815              город Москва, Уральская улица, дом 4Г       0  \n",
       "10588            город Москва, Челябинская улица, дом 17       0  "
      ]
     },
     "execution_count": 23,
     "metadata": {},
     "output_type": "execute_result"
    }
   ],
   "source": [
    "df.query('number == 0').sample(10)"
   ]
  },
  {
   "cell_type": "markdown",
   "metadata": {},
   "source": [
    "По закону некоторые виды заведений могут не оборудоваться посадочными местами, таким образом их количество в таблице будет равно нулю.  Возможность проверить реальный тип заведения, с предоставленными в этой таблице, с типами заведений которым по закону можно не иметь посадочных мест, не нахожу.  \n",
    "  \n",
    "Поэтому, нули оставляем."
   ]
  },
  {
   "cell_type": "code",
   "execution_count": 26,
   "metadata": {},
   "outputs": [
    {
     "data": {
      "text/plain": [
       "15366"
      ]
     },
     "execution_count": 26,
     "metadata": {},
     "output_type": "execute_result"
    }
   ],
   "source": [
    "# посмотрим сколько осталось данных\n",
    "df.shape[0]"
   ]
  },
  {
   "cell_type": "markdown",
   "metadata": {},
   "source": [
    "## 2.3 Вывод <a id='section_id_23'></a>"
   ]
  },
  {
   "cell_type": "markdown",
   "metadata": {},
   "source": [
    "**в `object_name` все названия привели к нижнему регистру**  \n",
    "**в `number` нули оставили, выбросы не трогали**  "
   ]
  },
  {
   "cell_type": "markdown",
   "metadata": {},
   "source": [
    " \n",
    "  \n",
    "[оглавление](#section_id_100)"
   ]
  },
  {
   "cell_type": "markdown",
   "metadata": {},
   "source": [
    "<BR>\n",
    "    ______________________________________________________________________________________________________________________________"
   ]
  },
  {
   "cell_type": "markdown",
   "metadata": {},
   "source": [
    "# Шаг 3. Анализ данных <a id='section_id_3'></a>"
   ]
  },
  {
   "cell_type": "markdown",
   "metadata": {},
   "source": [
    "## 3.1 Соотношение объектов общественного питания по количеству  <a id='section_id_31'></a>"
   ]
  },
  {
   "cell_type": "code",
   "execution_count": 27,
   "metadata": {},
   "outputs": [
    {
     "data": {
      "text/html": [
       "<div>\n",
       "<style scoped>\n",
       "    .dataframe tbody tr th:only-of-type {\n",
       "        vertical-align: middle;\n",
       "    }\n",
       "\n",
       "    .dataframe tbody tr th {\n",
       "        vertical-align: top;\n",
       "    }\n",
       "\n",
       "    .dataframe thead th {\n",
       "        text-align: right;\n",
       "    }\n",
       "</style>\n",
       "<table border=\"1\" class=\"dataframe\">\n",
       "  <thead>\n",
       "    <tr style=\"text-align: right;\">\n",
       "      <th></th>\n",
       "      <th>id</th>\n",
       "      <th>object_name</th>\n",
       "      <th>chain</th>\n",
       "      <th>object_type</th>\n",
       "      <th>address</th>\n",
       "      <th>number</th>\n",
       "    </tr>\n",
       "  </thead>\n",
       "  <tbody>\n",
       "    <tr>\n",
       "      <td>0</td>\n",
       "      <td>151635</td>\n",
       "      <td>сметана</td>\n",
       "      <td>нет</td>\n",
       "      <td>кафе</td>\n",
       "      <td>город Москва, улица Егора Абакумова, дом 9</td>\n",
       "      <td>48</td>\n",
       "    </tr>\n",
       "    <tr>\n",
       "      <td>1</td>\n",
       "      <td>77874</td>\n",
       "      <td>родник</td>\n",
       "      <td>нет</td>\n",
       "      <td>кафе</td>\n",
       "      <td>город Москва, улица Талалихина, дом 2/1, корпус 1</td>\n",
       "      <td>35</td>\n",
       "    </tr>\n",
       "    <tr>\n",
       "      <td>2</td>\n",
       "      <td>24309</td>\n",
       "      <td>кафе «академия»</td>\n",
       "      <td>нет</td>\n",
       "      <td>кафе</td>\n",
       "      <td>город Москва, Абельмановская улица, дом 6</td>\n",
       "      <td>95</td>\n",
       "    </tr>\n",
       "    <tr>\n",
       "      <td>3</td>\n",
       "      <td>21894</td>\n",
       "      <td>пиццетория</td>\n",
       "      <td>да</td>\n",
       "      <td>кафе</td>\n",
       "      <td>город Москва, Абрамцевская улица, дом 1</td>\n",
       "      <td>40</td>\n",
       "    </tr>\n",
       "    <tr>\n",
       "      <td>4</td>\n",
       "      <td>119365</td>\n",
       "      <td>кафе «вишневая метель»</td>\n",
       "      <td>нет</td>\n",
       "      <td>кафе</td>\n",
       "      <td>город Москва, Абрамцевская улица, дом 9, корпус 1</td>\n",
       "      <td>50</td>\n",
       "    </tr>\n",
       "  </tbody>\n",
       "</table>\n",
       "</div>"
      ],
      "text/plain": [
       "       id             object_name chain object_type  \\\n",
       "0  151635                 сметана   нет        кафе   \n",
       "1   77874                  родник   нет        кафе   \n",
       "2   24309         кафе «академия»   нет        кафе   \n",
       "3   21894              пиццетория    да        кафе   \n",
       "4  119365  кафе «вишневая метель»   нет        кафе   \n",
       "\n",
       "                                             address  number  \n",
       "0         город Москва, улица Егора Абакумова, дом 9      48  \n",
       "1  город Москва, улица Талалихина, дом 2/1, корпус 1      35  \n",
       "2          город Москва, Абельмановская улица, дом 6      95  \n",
       "3            город Москва, Абрамцевская улица, дом 1      40  \n",
       "4  город Москва, Абрамцевская улица, дом 9, корпус 1      50  "
      ]
     },
     "execution_count": 27,
     "metadata": {},
     "output_type": "execute_result"
    }
   ],
   "source": [
    "# первые пять строк датасета\n",
    "df.head()"
   ]
  },
  {
   "cell_type": "markdown",
   "metadata": {},
   "source": [
    "<a id='section_id_001'>"
   ]
  },
  {
   "cell_type": "code",
   "execution_count": 28,
   "metadata": {},
   "outputs": [
    {
     "data": {
      "image/png": "[encoded data removed]",
      "text/plain": [
       "<Figure size 864x432 with 1 Axes>"
      ]
     },
     "metadata": {},
     "output_type": "display_data"
    }
   ],
   "source": [
    "# построим график\n",
    "df['object_type'].value_counts().sort_values().plot(kind='barh',figsize=(12,6))\n",
    "plt.title('\\nграфик 1\\n Соотношение объектов общественного питания по количеству\\n',fontsize=15)\n",
    "plt.xlabel(\"\\nколичество\")\n",
    "plt.ylabel(\"тип объекта\\n\")\n",
    "plt.show()"
   ]
  },
  {
   "cell_type": "markdown",
   "metadata": {},
   "source": [
    "*кафе, самый популярный тип объекта общественного питание в Москве*\n",
    "  \n",
    "[оглавление](#section_id_100)  \n",
    "  \n",
    "[итог](#section_id_4)  "
   ]
  },
  {
   "cell_type": "markdown",
   "metadata": {},
   "source": [
    "## 3.2 Соотношение сетевых и несетевых заведений по количеству<a id='section_id_32'></a>"
   ]
  },
  {
   "cell_type": "code",
   "execution_count": 29,
   "metadata": {},
   "outputs": [
    {
     "data": {
      "image/png": "[encoded data removed]",
      "text/plain": [
       "<Figure size 864x432 with 1 Axes>"
      ]
     },
     "metadata": {},
     "output_type": "display_data"
    }
   ],
   "source": [
    "# поменяем значения да/нет на сетевые/частные\n",
    "df['chain'] = df['chain'].replace('да','сетевые') \n",
    "df['chain'] = df['chain'].replace('нет','несетевые')\n",
    "\n",
    "# визуализируем соотношение сетевых заведений по количеству\n",
    "df['chain'].value_counts().plot(kind='bar',figsize=(12,6),rot=0, color=['C0','C1'])\n",
    "plt.title('\\nСоотношение сетевых \\nи несетевых заведений по количеству\\n',fontsize=15) \n",
    "plt.ylabel(\"количество\\n\")\n",
    "plt.show()"
   ]
  },
  {
   "cell_type": "markdown",
   "metadata": {},
   "source": [
    "*сетевых заведений значительно меньше несетевых*\n",
    "  \n",
    "[оглавление](#section_id_100)"
   ]
  },
  {
   "cell_type": "markdown",
   "metadata": {},
   "source": [
    "## 3.3  Соотношение вида объекта общественного питания и сетевого распространения<a id='section_id_33'></a>"
   ]
  },
  {
   "cell_type": "code",
   "execution_count": 30,
   "metadata": {},
   "outputs": [
    {
     "data": {
      "image/png": "[encoded data removed]",
      "text/plain": [
       "<Figure size 864x432 with 1 Axes>"
      ]
     },
     "metadata": {},
     "output_type": "display_data"
    }
   ],
   "source": [
    "fig = plt.figure(figsize=(12,6))\n",
    "sns.countplot(y='object_type', hue='chain', data=df)\n",
    "plt.title('\\nСоотношение вида объекта общественного питания \\nи сетевого распространения \\n',fontsize=15) \n",
    "plt.xlabel(\"\\nколичество\")\n",
    "plt.ylabel(\"тип объекта\\n\")\n",
    "plt.show()"
   ]
  },
  {
   "cell_type": "code",
   "execution_count": 31,
   "metadata": {},
   "outputs": [],
   "source": [
    "# сгруппируем по типу заведений и типу распространения, посчитаем количество заведений\n",
    "df_chain_count = df.groupby(['object_type','chain'])['id'].count().reset_index().rename(columns={'id':'chain_count'})"
   ]
  },
  {
   "cell_type": "code",
   "execution_count": 32,
   "metadata": {},
   "outputs": [],
   "source": [
    "# сгруппируем по типу заведений, посчитаем общее количество заведений в каждом типе заведений\n",
    "df_total_count = df.groupby('object_type')['id'].count().reset_index().rename(columns={'id':'total_count'})"
   ]
  },
  {
   "cell_type": "code",
   "execution_count": 33,
   "metadata": {},
   "outputs": [],
   "source": [
    "# объеденим данные\n",
    "df_chain_count = df_chain_count.merge(df_total_count,on='object_type')"
   ]
  },
  {
   "cell_type": "code",
   "execution_count": 34,
   "metadata": {},
   "outputs": [
    {
     "data": {
      "text/html": [
       "<div>\n",
       "<style scoped>\n",
       "    .dataframe tbody tr th:only-of-type {\n",
       "        vertical-align: middle;\n",
       "    }\n",
       "\n",
       "    .dataframe tbody tr th {\n",
       "        vertical-align: top;\n",
       "    }\n",
       "\n",
       "    .dataframe thead th {\n",
       "        text-align: right;\n",
       "    }\n",
       "</style>\n",
       "<table border=\"1\" class=\"dataframe\">\n",
       "  <thead>\n",
       "    <tr style=\"text-align: right;\">\n",
       "      <th></th>\n",
       "      <th>object_type</th>\n",
       "      <th>chain</th>\n",
       "      <th>chain_count</th>\n",
       "      <th>total_count</th>\n",
       "      <th>ratio</th>\n",
       "    </tr>\n",
       "  </thead>\n",
       "  <tbody>\n",
       "    <tr>\n",
       "      <td>0</td>\n",
       "      <td>бар</td>\n",
       "      <td>несетевые</td>\n",
       "      <td>819</td>\n",
       "      <td>856</td>\n",
       "      <td>95.68</td>\n",
       "    </tr>\n",
       "    <tr>\n",
       "      <td>1</td>\n",
       "      <td>бар</td>\n",
       "      <td>сетевые</td>\n",
       "      <td>37</td>\n",
       "      <td>856</td>\n",
       "      <td>4.32</td>\n",
       "    </tr>\n",
       "    <tr>\n",
       "      <td>2</td>\n",
       "      <td>буфет</td>\n",
       "      <td>несетевые</td>\n",
       "      <td>574</td>\n",
       "      <td>585</td>\n",
       "      <td>98.12</td>\n",
       "    </tr>\n",
       "    <tr>\n",
       "      <td>3</td>\n",
       "      <td>буфет</td>\n",
       "      <td>сетевые</td>\n",
       "      <td>11</td>\n",
       "      <td>585</td>\n",
       "      <td>1.88</td>\n",
       "    </tr>\n",
       "    <tr>\n",
       "      <td>4</td>\n",
       "      <td>закусочная</td>\n",
       "      <td>несетевые</td>\n",
       "      <td>304</td>\n",
       "      <td>360</td>\n",
       "      <td>84.44</td>\n",
       "    </tr>\n",
       "    <tr>\n",
       "      <td>5</td>\n",
       "      <td>закусочная</td>\n",
       "      <td>сетевые</td>\n",
       "      <td>56</td>\n",
       "      <td>360</td>\n",
       "      <td>15.56</td>\n",
       "    </tr>\n",
       "    <tr>\n",
       "      <td>6</td>\n",
       "      <td>кафе</td>\n",
       "      <td>несетевые</td>\n",
       "      <td>4703</td>\n",
       "      <td>6099</td>\n",
       "      <td>77.11</td>\n",
       "    </tr>\n",
       "    <tr>\n",
       "      <td>7</td>\n",
       "      <td>кафе</td>\n",
       "      <td>сетевые</td>\n",
       "      <td>1396</td>\n",
       "      <td>6099</td>\n",
       "      <td>22.89</td>\n",
       "    </tr>\n",
       "    <tr>\n",
       "      <td>8</td>\n",
       "      <td>кафетерий</td>\n",
       "      <td>несетевые</td>\n",
       "      <td>346</td>\n",
       "      <td>398</td>\n",
       "      <td>86.93</td>\n",
       "    </tr>\n",
       "    <tr>\n",
       "      <td>9</td>\n",
       "      <td>кафетерий</td>\n",
       "      <td>сетевые</td>\n",
       "      <td>52</td>\n",
       "      <td>398</td>\n",
       "      <td>13.07</td>\n",
       "    </tr>\n",
       "    <tr>\n",
       "      <td>10</td>\n",
       "      <td>магазин (отдел кулинарии)</td>\n",
       "      <td>несетевые</td>\n",
       "      <td>195</td>\n",
       "      <td>273</td>\n",
       "      <td>71.43</td>\n",
       "    </tr>\n",
       "    <tr>\n",
       "      <td>11</td>\n",
       "      <td>магазин (отдел кулинарии)</td>\n",
       "      <td>сетевые</td>\n",
       "      <td>78</td>\n",
       "      <td>273</td>\n",
       "      <td>28.57</td>\n",
       "    </tr>\n",
       "    <tr>\n",
       "      <td>12</td>\n",
       "      <td>предприятие быстрого обслуживания</td>\n",
       "      <td>несетевые</td>\n",
       "      <td>1132</td>\n",
       "      <td>1923</td>\n",
       "      <td>58.87</td>\n",
       "    </tr>\n",
       "    <tr>\n",
       "      <td>13</td>\n",
       "      <td>предприятие быстрого обслуживания</td>\n",
       "      <td>сетевые</td>\n",
       "      <td>791</td>\n",
       "      <td>1923</td>\n",
       "      <td>41.13</td>\n",
       "    </tr>\n",
       "    <tr>\n",
       "      <td>14</td>\n",
       "      <td>ресторан</td>\n",
       "      <td>несетевые</td>\n",
       "      <td>1741</td>\n",
       "      <td>2285</td>\n",
       "      <td>76.19</td>\n",
       "    </tr>\n",
       "    <tr>\n",
       "      <td>15</td>\n",
       "      <td>ресторан</td>\n",
       "      <td>сетевые</td>\n",
       "      <td>544</td>\n",
       "      <td>2285</td>\n",
       "      <td>23.81</td>\n",
       "    </tr>\n",
       "    <tr>\n",
       "      <td>16</td>\n",
       "      <td>столовая</td>\n",
       "      <td>несетевые</td>\n",
       "      <td>2584</td>\n",
       "      <td>2587</td>\n",
       "      <td>99.88</td>\n",
       "    </tr>\n",
       "    <tr>\n",
       "      <td>17</td>\n",
       "      <td>столовая</td>\n",
       "      <td>сетевые</td>\n",
       "      <td>3</td>\n",
       "      <td>2587</td>\n",
       "      <td>0.12</td>\n",
       "    </tr>\n",
       "  </tbody>\n",
       "</table>\n",
       "</div>"
      ],
      "text/plain": [
       "                          object_type      chain  chain_count  total_count  \\\n",
       "0                                 бар  несетевые          819          856   \n",
       "1                                 бар    сетевые           37          856   \n",
       "2                               буфет  несетевые          574          585   \n",
       "3                               буфет    сетевые           11          585   \n",
       "4                          закусочная  несетевые          304          360   \n",
       "5                          закусочная    сетевые           56          360   \n",
       "6                                кафе  несетевые         4703         6099   \n",
       "7                                кафе    сетевые         1396         6099   \n",
       "8                           кафетерий  несетевые          346          398   \n",
       "9                           кафетерий    сетевые           52          398   \n",
       "10          магазин (отдел кулинарии)  несетевые          195          273   \n",
       "11          магазин (отдел кулинарии)    сетевые           78          273   \n",
       "12  предприятие быстрого обслуживания  несетевые         1132         1923   \n",
       "13  предприятие быстрого обслуживания    сетевые          791         1923   \n",
       "14                           ресторан  несетевые         1741         2285   \n",
       "15                           ресторан    сетевые          544         2285   \n",
       "16                           столовая  несетевые         2584         2587   \n",
       "17                           столовая    сетевые            3         2587   \n",
       "\n",
       "    ratio  \n",
       "0   95.68  \n",
       "1    4.32  \n",
       "2   98.12  \n",
       "3    1.88  \n",
       "4   84.44  \n",
       "5   15.56  \n",
       "6   77.11  \n",
       "7   22.89  \n",
       "8   86.93  \n",
       "9   13.07  \n",
       "10  71.43  \n",
       "11  28.57  \n",
       "12  58.87  \n",
       "13  41.13  \n",
       "14  76.19  \n",
       "15  23.81  \n",
       "16  99.88  \n",
       "17   0.12  "
      ]
     },
     "execution_count": 34,
     "metadata": {},
     "output_type": "execute_result"
    }
   ],
   "source": [
    "# создадим новый столбец, доли сетевых/несетевых заведений в кадом типе заведений\n",
    "df_chain_count['ratio'] = df_chain_count['chain_count'] * 100 / df_chain_count['total_count']\n",
    "df_chain_count['ratio'] = df_chain_count['ratio'].round(2)\n",
    "df_chain_count"
   ]
  },
  {
   "cell_type": "markdown",
   "metadata": {},
   "source": [
    "<a id='section_id_002'>"
   ]
  },
  {
   "cell_type": "code",
   "execution_count": 35,
   "metadata": {},
   "outputs": [
    {
     "data": {
      "image/png": "[encoded data removed]",
      "text/plain": [
       "<Figure size 864x432 with 1 Axes>"
      ]
     },
     "metadata": {},
     "output_type": "display_data"
    }
   ],
   "source": [
    "# отрисуем график\n",
    "ax = df_chain_count.groupby('object_type').agg({'ratio':'max'}).rename(columns={'ratio':'несетевые'})\\\n",
    ".plot(kind='barh',legend=True, figsize=(12,6))\n",
    "\n",
    "df_chain_count.groupby('object_type').agg({'ratio':'min'}).rename(columns={'ratio':'сетевые'})\\\n",
    ".plot(kind='barh', ax=ax, color='orange', legend=True,figsize=(12,6))\n",
    "\n",
    "plt.title('\\nграфик 2\\n Доля сетевого / несетевого типа распространения к\\n виду обьекта общественного питания\\n',fontsize=15) \n",
    "plt.xlabel(\"\\nдоля\")\n",
    "plt.ylabel(\"тип объекта\\n\")\n",
    "plt.show()"
   ]
  },
  {
   "cell_type": "markdown",
   "metadata": {},
   "source": [
    "*в целом во всех типах заведений, основной тип распространения - несетевой  \n",
    "самая высокая доля сетевого распространения имеется в фастфуде, почти 40%  \n",
    "столовых с сетевым распространением вообще нет*  \n",
    "  \n",
    "[оглавление](#section_id_100)\n",
    "  \n",
    "[итог](#section_id_4)  "
   ]
  },
  {
   "cell_type": "markdown",
   "metadata": {},
   "source": [
    "## 3.4  Характерные черты для сетевых заведений<a id='section_id_34'></a>"
   ]
  },
  {
   "cell_type": "code",
   "execution_count": 36,
   "metadata": {},
   "outputs": [
    {
     "data": {
      "text/html": [
       "<div>\n",
       "<style scoped>\n",
       "    .dataframe tbody tr th:only-of-type {\n",
       "        vertical-align: middle;\n",
       "    }\n",
       "\n",
       "    .dataframe tbody tr th {\n",
       "        vertical-align: top;\n",
       "    }\n",
       "\n",
       "    .dataframe thead th {\n",
       "        text-align: right;\n",
       "    }\n",
       "</style>\n",
       "<table border=\"1\" class=\"dataframe\">\n",
       "  <thead>\n",
       "    <tr style=\"text-align: right;\">\n",
       "      <th></th>\n",
       "      <th>id</th>\n",
       "      <th>object_name</th>\n",
       "      <th>chain</th>\n",
       "      <th>object_type</th>\n",
       "      <th>address</th>\n",
       "      <th>number</th>\n",
       "    </tr>\n",
       "  </thead>\n",
       "  <tbody>\n",
       "    <tr>\n",
       "      <td>0</td>\n",
       "      <td>151635</td>\n",
       "      <td>сметана</td>\n",
       "      <td>несетевые</td>\n",
       "      <td>кафе</td>\n",
       "      <td>город Москва, улица Егора Абакумова, дом 9</td>\n",
       "      <td>48</td>\n",
       "    </tr>\n",
       "    <tr>\n",
       "      <td>1</td>\n",
       "      <td>77874</td>\n",
       "      <td>родник</td>\n",
       "      <td>несетевые</td>\n",
       "      <td>кафе</td>\n",
       "      <td>город Москва, улица Талалихина, дом 2/1, корпус 1</td>\n",
       "      <td>35</td>\n",
       "    </tr>\n",
       "    <tr>\n",
       "      <td>2</td>\n",
       "      <td>24309</td>\n",
       "      <td>кафе «академия»</td>\n",
       "      <td>несетевые</td>\n",
       "      <td>кафе</td>\n",
       "      <td>город Москва, Абельмановская улица, дом 6</td>\n",
       "      <td>95</td>\n",
       "    </tr>\n",
       "    <tr>\n",
       "      <td>3</td>\n",
       "      <td>21894</td>\n",
       "      <td>пиццетория</td>\n",
       "      <td>сетевые</td>\n",
       "      <td>кафе</td>\n",
       "      <td>город Москва, Абрамцевская улица, дом 1</td>\n",
       "      <td>40</td>\n",
       "    </tr>\n",
       "    <tr>\n",
       "      <td>4</td>\n",
       "      <td>119365</td>\n",
       "      <td>кафе «вишневая метель»</td>\n",
       "      <td>несетевые</td>\n",
       "      <td>кафе</td>\n",
       "      <td>город Москва, Абрамцевская улица, дом 9, корпус 1</td>\n",
       "      <td>50</td>\n",
       "    </tr>\n",
       "  </tbody>\n",
       "</table>\n",
       "</div>"
      ],
      "text/plain": [
       "       id             object_name      chain object_type  \\\n",
       "0  151635                 сметана  несетевые        кафе   \n",
       "1   77874                  родник  несетевые        кафе   \n",
       "2   24309         кафе «академия»  несетевые        кафе   \n",
       "3   21894              пиццетория    сетевые        кафе   \n",
       "4  119365  кафе «вишневая метель»  несетевые        кафе   \n",
       "\n",
       "                                             address  number  \n",
       "0         город Москва, улица Егора Абакумова, дом 9      48  \n",
       "1  город Москва, улица Талалихина, дом 2/1, корпус 1      35  \n",
       "2          город Москва, Абельмановская улица, дом 6      95  \n",
       "3            город Москва, Абрамцевская улица, дом 1      40  \n",
       "4  город Москва, Абрамцевская улица, дом 9, корпус 1      50  "
      ]
     },
     "execution_count": 36,
     "metadata": {},
     "output_type": "execute_result"
    }
   ],
   "source": [
    "# первые пять строк датасета\n",
    "df.head()"
   ]
  },
  {
   "cell_type": "code",
   "execution_count": 37,
   "metadata": {},
   "outputs": [
    {
     "data": {
      "image/png": "[encoded data removed]",
      "text/plain": [
       "<Figure size 1152x864 with 1 Axes>"
      ]
     },
     "metadata": {},
     "output_type": "display_data"
    }
   ],
   "source": [
    "# сформируем срез сетевых объектов\n",
    "df_chain = df.query('chain == \"сетевые\"')\n",
    "\n",
    "# для визуализации соотношения создадим график виолончель \n",
    "fig = plt.figure(figsize=(16,12))\n",
    "sns.violinplot(y='object_type',x='number',data=df_chain)\n",
    "plt.xlabel(\"\\nколичество посадочных мест\")\n",
    "plt.ylabel(\"тип объекта, и их количество\")\n",
    "plt.title('\\nСоотношение вида общественного питания и количества посадочных мест в сетевых заведениях \\n',fontsize=18) \n",
    "plt.show()"
   ]
  },
  {
   "cell_type": "markdown",
   "metadata": {},
   "source": [
    "*в заведениях с сетевым типом распространения  \n",
    "большинство типов заведения имеют большее количество точек, с небольшим количеством посадочных мест  \n",
    "только рестораны и столовые имееют среднее количество посадочных мест около 100, и их совсем не много* "
   ]
  },
  {
   "cell_type": "markdown",
   "metadata": {},
   "source": [
    "Посмотрим на характерное распределение посадочных мест, в зависимости от размера филиальной сети"
   ]
  },
  {
   "cell_type": "code",
   "execution_count": 38,
   "metadata": {},
   "outputs": [],
   "source": [
    "# найдем размер сети филиалов\n",
    "net_size = df_chain.groupby('object_name').agg({'object_name':'count'}).rename(columns={'object_name':'net_size'})\n",
    "net_size = net_size.sort_values('net_size', ascending=False)"
   ]
  },
  {
   "cell_type": "code",
   "execution_count": 39,
   "metadata": {},
   "outputs": [],
   "source": [
    "# присоединяем по названию размер сети\n",
    "df_chain = df_chain.merge(net_size, on='object_name')"
   ]
  },
  {
   "cell_type": "markdown",
   "metadata": {},
   "source": [
    "<a id='section_id_003'>"
   ]
  },
  {
   "cell_type": "code",
   "execution_count": 40,
   "metadata": {},
   "outputs": [
    {
     "data": {
      "image/png": "[encoded data removed]",
      "text/plain": [
       "<Figure size 504x504 with 3 Axes>"
      ]
     },
     "metadata": {},
     "output_type": "display_data"
    }
   ],
   "source": [
    "# отрисуем график\n",
    "with sns.axes_style(\"white\"):\n",
    "    ax = sns.jointplot(x='net_size', y='number', data=df_chain, kind='hex', height=7, bins=20)\n",
    "\n",
    "plt.suptitle('график 3. Характерное распределение посадочных мест,\\n в зависимости от размера сети\\n', y=1.02, fontsize=15, style=\"italic\")\n",
    "ax.set_axis_labels('\\nКоличество заведений в сети', 'Количество посадочных мест\\n');    "
   ]
  },
  {
   "cell_type": "markdown",
   "metadata": {},
   "source": [
    "*Преобладают заведения с малым количеством филиалов и малым количеством посадочных мест, также достаточно много сетей с большим количеством филиалов и малым числом посадочных мест. Общий тренд - число посадочных мест не более 100.*"
   ]
  },
  {
   "cell_type": "markdown",
   "metadata": {},
   "source": [
    "\n",
    "  \n",
    "[оглавление](#section_id_100)  \n",
    "  \n",
    "[итог](#section_id_4)     "
   ]
  },
  {
   "cell_type": "markdown",
   "metadata": {},
   "source": [
    "## 3.5  Среднее количество посадочных мест<a id='section_id_35'></a>"
   ]
  },
  {
   "cell_type": "markdown",
   "metadata": {},
   "source": [
    "Для каждого вида объекта общественного питания определим среднее количество посадочных мест.  \n"
   ]
  },
  {
   "cell_type": "markdown",
   "metadata": {},
   "source": [
    "<a id='section_id_004'>"
   ]
  },
  {
   "cell_type": "code",
   "execution_count": 41,
   "metadata": {},
   "outputs": [
    {
     "data": {
      "image/png": "[encoded data removed]",
      "text/plain": [
       "<Figure size 864x432 with 1 Axes>"
      ]
     },
     "metadata": {},
     "output_type": "display_data"
    }
   ],
   "source": [
    "# сгруппируем по виду, посчитаем среднее, и построим график\n",
    "df.groupby('object_type').agg({'number':'mean'}).sort_values(by='number').plot(kind='barh',figsize=(12,6))\n",
    "plt.title('\\nграфик 4\\n Cреднее количество посадочных мест \\n',fontsize=18) \n",
    "plt.xlabel(\"\\nсреднее количество мест\")\n",
    "plt.ylabel(\"тип объекта\\n\")\n",
    "plt.show()"
   ]
  },
  {
   "cell_type": "markdown",
   "metadata": {},
   "source": [
    "*Столовые и рестораны в среднем имеют наибольшее количество посадочных мест*"
   ]
  },
  {
   "cell_type": "markdown",
   "metadata": {},
   "source": [
    " \n",
    "  \n",
    "[оглавление](#section_id_100)  \n",
    "  \n",
    "[итог](#section_id_4)    "
   ]
  },
  {
   "cell_type": "markdown",
   "metadata": {},
   "source": [
    "## 3.6 Топ-10 улиц по количеству объектов общественного питания <a id='section_id_36'></a>"
   ]
  },
  {
   "cell_type": "markdown",
   "metadata": {},
   "source": [
    "Построем график топ-10 улиц по количеству объектов общественного питания.  \n",
    "Воспользуемся внешней информацией, что бы понять — в каких районах Москвы находятся эти улицы"
   ]
  },
  {
   "cell_type": "code",
   "execution_count": 42,
   "metadata": {},
   "outputs": [
    {
     "data": {
      "text/html": [
       "<div>\n",
       "<style scoped>\n",
       "    .dataframe tbody tr th:only-of-type {\n",
       "        vertical-align: middle;\n",
       "    }\n",
       "\n",
       "    .dataframe tbody tr th {\n",
       "        vertical-align: top;\n",
       "    }\n",
       "\n",
       "    .dataframe thead th {\n",
       "        text-align: right;\n",
       "    }\n",
       "</style>\n",
       "<table border=\"1\" class=\"dataframe\">\n",
       "  <thead>\n",
       "    <tr style=\"text-align: right;\">\n",
       "      <th></th>\n",
       "      <th>streetname</th>\n",
       "      <th>area</th>\n",
       "    </tr>\n",
       "  </thead>\n",
       "  <tbody>\n",
       "    <tr>\n",
       "      <td>0</td>\n",
       "      <td>Выставочный переулок</td>\n",
       "      <td>Пресненский район</td>\n",
       "    </tr>\n",
       "    <tr>\n",
       "      <td>1</td>\n",
       "      <td>улица Гашека</td>\n",
       "      <td>Пресненский район</td>\n",
       "    </tr>\n",
       "    <tr>\n",
       "      <td>2</td>\n",
       "      <td>Большая Никитская улица</td>\n",
       "      <td>Пресненский район</td>\n",
       "    </tr>\n",
       "    <tr>\n",
       "      <td>3</td>\n",
       "      <td>Глубокий переулок</td>\n",
       "      <td>Пресненский район</td>\n",
       "    </tr>\n",
       "    <tr>\n",
       "      <td>4</td>\n",
       "      <td>Большой Гнездниковский переулок</td>\n",
       "      <td>Пресненский район</td>\n",
       "    </tr>\n",
       "  </tbody>\n",
       "</table>\n",
       "</div>"
      ],
      "text/plain": [
       "                        streetname               area\n",
       "0             Выставочный переулок  Пресненский район\n",
       "1                     улица Гашека  Пресненский район\n",
       "2          Большая Никитская улица  Пресненский район\n",
       "3                Глубокий переулок  Пресненский район\n",
       "4  Большой Гнездниковский переулок  Пресненский район"
      ]
     },
     "execution_count": 42,
     "metadata": {},
     "output_type": "execute_result"
    }
   ],
   "source": [
    "# подгрузим данные с адресами районов и улиц Москвы\n",
    "df_street_moscow = pd.read_csv('https://raw.githubusercontent.com/Distans/temp/main/mosgaz-streets.csv')\n",
    "\n",
    "# оставим только названия улиц и районов\n",
    "df_street_moscow = df_street_moscow[['streetname','area']]\n",
    "\n",
    "# выведем первые пять строк\n",
    "df_street_moscow.head()"
   ]
  },
  {
   "cell_type": "code",
   "execution_count": 43,
   "metadata": {},
   "outputs": [],
   "source": [
    "# создадим словарь 'район' / 'количество улиц встречающихся в нем'\n",
    "dict_count_area = dict(df_street_moscow['area'].value_counts())"
   ]
  },
  {
   "cell_type": "code",
   "execution_count": 44,
   "metadata": {},
   "outputs": [],
   "source": [
    "# добавим стобец с количеством улиц в районе напротив каждого района\n",
    "def f_rank(x):\n",
    "    return dict_count_area[x]\n",
    "\n",
    "df_street_moscow['area_rank'] = df_street_moscow['area'].apply(f_rank) "
   ]
  },
  {
   "cell_type": "code",
   "execution_count": 45,
   "metadata": {},
   "outputs": [],
   "source": [
    "# переименум столбцы\n",
    "df_street_moscow.columns = ['street','area','area_rank']"
   ]
  },
  {
   "cell_type": "code",
   "execution_count": 46,
   "metadata": {
    "scrolled": true
   },
   "outputs": [],
   "source": [
    "# создадим список улиц Москвы\n",
    "list_street_moscow = df_street_moscow.groupby('street')['street'].max()\n",
    "list_street_moscow = list(list_street_moscow)"
   ]
  },
  {
   "cell_type": "code",
   "execution_count": 47,
   "metadata": {},
   "outputs": [],
   "source": [
    "#len(list_street_moscow)"
   ]
  },
  {
   "cell_type": "code",
   "execution_count": 48,
   "metadata": {},
   "outputs": [],
   "source": [
    "# функция для того что бы убрать пробелы в начале и конце строк адресов    \n",
    "def f_strip(x):\n",
    "    l = []\n",
    "    for i in x:\n",
    "        i = i.strip()\n",
    "        l.append(i)\n",
    "    return l \n",
    "\n",
    "# функция для проверки наличия адреса в общем списке улиц Москвы list_street_moscow\n",
    "def f_search(x):\n",
    "    l = []\n",
    "    for i in x:\n",
    "        if i in list_street_moscow:\n",
    "            l.append(i)\n",
    "        else:\n",
    "            continue\n",
    "            \n",
    "    if len(l) == 0:\n",
    "        l.append('пусто')\n",
    "    for j in l:\n",
    "        return j          "
   ]
  },
  {
   "cell_type": "code",
   "execution_count": 49,
   "metadata": {},
   "outputs": [
    {
     "data": {
      "text/html": [
       "<div>\n",
       "<style scoped>\n",
       "    .dataframe tbody tr th:only-of-type {\n",
       "        vertical-align: middle;\n",
       "    }\n",
       "\n",
       "    .dataframe tbody tr th {\n",
       "        vertical-align: top;\n",
       "    }\n",
       "\n",
       "    .dataframe thead th {\n",
       "        text-align: right;\n",
       "    }\n",
       "</style>\n",
       "<table border=\"1\" class=\"dataframe\">\n",
       "  <thead>\n",
       "    <tr style=\"text-align: right;\">\n",
       "      <th></th>\n",
       "      <th>id</th>\n",
       "      <th>object_name</th>\n",
       "      <th>chain</th>\n",
       "      <th>object_type</th>\n",
       "      <th>address</th>\n",
       "      <th>number</th>\n",
       "      <th>street</th>\n",
       "    </tr>\n",
       "  </thead>\n",
       "  <tbody>\n",
       "    <tr>\n",
       "      <td>0</td>\n",
       "      <td>151635</td>\n",
       "      <td>сметана</td>\n",
       "      <td>несетевые</td>\n",
       "      <td>кафе</td>\n",
       "      <td>город Москва, улица Егора Абакумова, дом 9</td>\n",
       "      <td>48</td>\n",
       "      <td>улица Егора Абакумова</td>\n",
       "    </tr>\n",
       "    <tr>\n",
       "      <td>1</td>\n",
       "      <td>77874</td>\n",
       "      <td>родник</td>\n",
       "      <td>несетевые</td>\n",
       "      <td>кафе</td>\n",
       "      <td>город Москва, улица Талалихина, дом 2/1, корпус 1</td>\n",
       "      <td>35</td>\n",
       "      <td>улица Талалихина</td>\n",
       "    </tr>\n",
       "    <tr>\n",
       "      <td>2</td>\n",
       "      <td>24309</td>\n",
       "      <td>кафе «академия»</td>\n",
       "      <td>несетевые</td>\n",
       "      <td>кафе</td>\n",
       "      <td>город Москва, Абельмановская улица, дом 6</td>\n",
       "      <td>95</td>\n",
       "      <td>Абельмановская улица</td>\n",
       "    </tr>\n",
       "    <tr>\n",
       "      <td>3</td>\n",
       "      <td>21894</td>\n",
       "      <td>пиццетория</td>\n",
       "      <td>сетевые</td>\n",
       "      <td>кафе</td>\n",
       "      <td>город Москва, Абрамцевская улица, дом 1</td>\n",
       "      <td>40</td>\n",
       "      <td>Абрамцевская улица</td>\n",
       "    </tr>\n",
       "    <tr>\n",
       "      <td>4</td>\n",
       "      <td>119365</td>\n",
       "      <td>кафе «вишневая метель»</td>\n",
       "      <td>несетевые</td>\n",
       "      <td>кафе</td>\n",
       "      <td>город Москва, Абрамцевская улица, дом 9, корпус 1</td>\n",
       "      <td>50</td>\n",
       "      <td>Абрамцевская улица</td>\n",
       "    </tr>\n",
       "  </tbody>\n",
       "</table>\n",
       "</div>"
      ],
      "text/plain": [
       "       id             object_name      chain object_type  \\\n",
       "0  151635                 сметана  несетевые        кафе   \n",
       "1   77874                  родник  несетевые        кафе   \n",
       "2   24309         кафе «академия»  несетевые        кафе   \n",
       "3   21894              пиццетория    сетевые        кафе   \n",
       "4  119365  кафе «вишневая метель»  несетевые        кафе   \n",
       "\n",
       "                                             address  number  \\\n",
       "0         город Москва, улица Егора Абакумова, дом 9      48   \n",
       "1  город Москва, улица Талалихина, дом 2/1, корпус 1      35   \n",
       "2          город Москва, Абельмановская улица, дом 6      95   \n",
       "3            город Москва, Абрамцевская улица, дом 1      40   \n",
       "4  город Москва, Абрамцевская улица, дом 9, корпус 1      50   \n",
       "\n",
       "                  street  \n",
       "0  улица Егора Абакумова  \n",
       "1       улица Талалихина  \n",
       "2   Абельмановская улица  \n",
       "3     Абрамцевская улица  \n",
       "4     Абрамцевская улица  "
      ]
     },
     "execution_count": 49,
     "metadata": {},
     "output_type": "execute_result"
    }
   ],
   "source": [
    "# создадим новый столбец street в df, применив функцию split к address\n",
    "df['street'] = df['address'].str.split(',')\n",
    "\n",
    "# далее уберем пробелы из всех строк street с помощью f_strip\n",
    "df['street'] = df['street'].apply(f_strip)\n",
    "\n",
    "# проведем поиск адресов из общего списка адресов применив функцию f_search\n",
    "df['street'] = df['street'].apply(f_search)\n",
    "\n",
    "# выведем первые пять строк\n",
    "df.head()"
   ]
  },
  {
   "cell_type": "code",
   "execution_count": 50,
   "metadata": {},
   "outputs": [
    {
     "data": {
      "text/plain": [
       "пусто                     613\n",
       "город Зеленоград          232\n",
       "проспект Мира             204\n",
       "Профсоюзная улица         183\n",
       "Ленинградский проспект    173\n",
       "Пресненская набережная    167\n",
       "Варшавское шоссе          165\n",
       "Ленинский проспект        148\n",
       "проспект Вернадского      132\n",
       "Кутузовский проспект      114\n",
       "Name: street, dtype: int64"
      ]
     },
     "execution_count": 50,
     "metadata": {},
     "output_type": "execute_result"
    }
   ],
   "source": [
    "# проверим что получилось, посмотрим топ-10 улиц по количеству заведений, а так же проверим есть ли потеряшки\n",
    "df['street'].value_counts(dropna=False).head(10)"
   ]
  },
  {
   "cell_type": "markdown",
   "metadata": {},
   "source": [
    "613 адреса не нашлось в общем списке адресов  \n",
    "232 адреса относятся к городу Зеленоград"
   ]
  },
  {
   "cell_type": "code",
   "execution_count": 51,
   "metadata": {},
   "outputs": [
    {
     "data": {
      "text/html": [
       "<div>\n",
       "<style scoped>\n",
       "    .dataframe tbody tr th:only-of-type {\n",
       "        vertical-align: middle;\n",
       "    }\n",
       "\n",
       "    .dataframe tbody tr th {\n",
       "        vertical-align: top;\n",
       "    }\n",
       "\n",
       "    .dataframe thead th {\n",
       "        text-align: right;\n",
       "    }\n",
       "</style>\n",
       "<table border=\"1\" class=\"dataframe\">\n",
       "  <thead>\n",
       "    <tr style=\"text-align: right;\">\n",
       "      <th></th>\n",
       "      <th>street</th>\n",
       "      <th>area</th>\n",
       "      <th>area_rank</th>\n",
       "    </tr>\n",
       "  </thead>\n",
       "  <tbody>\n",
       "    <tr>\n",
       "      <td>1700</td>\n",
       "      <td>город Зеленоград</td>\n",
       "      <td>Район Крюково</td>\n",
       "      <td>53</td>\n",
       "    </tr>\n",
       "    <tr>\n",
       "      <td>1757</td>\n",
       "      <td>город Зеленоград</td>\n",
       "      <td>Район Матушкино-Савелки</td>\n",
       "      <td>39</td>\n",
       "    </tr>\n",
       "    <tr>\n",
       "      <td>1801</td>\n",
       "      <td>город Зеленоград</td>\n",
       "      <td>Панфиловский район</td>\n",
       "      <td>29</td>\n",
       "    </tr>\n",
       "  </tbody>\n",
       "</table>\n",
       "</div>"
      ],
      "text/plain": [
       "                street                     area  area_rank\n",
       "1700  город Зеленоград            Район Крюково         53\n",
       "1757  город Зеленоград  Район Матушкино-Савелки         39\n",
       "1801  город Зеленоград       Панфиловский район         29"
      ]
     },
     "execution_count": 51,
     "metadata": {},
     "output_type": "execute_result"
    }
   ],
   "source": [
    "df_street_moscow.query('street == \"город Зеленоград\"')"
   ]
  },
  {
   "cell_type": "markdown",
   "metadata": {},
   "source": [
    "город Зеленоград, один из 12 административных округов Москвы. Расположен в 37 км к северо-западу от центра Москвы.  \n",
    "Первый из трёх округов, которые были образованы на территориях, полностью находящихся за пределами Московской кольцевой автомобильной дороги.  \n",
    "Мы рассматриваем перспективы будующего заведения общественного питания непосредственно в Москве.  \n",
    "Поэтому адреса находящиеся в городе Зеленоград будут сильно искажать статистику, и дальнейший анализ."
   ]
  },
  {
   "cell_type": "code",
   "execution_count": 52,
   "metadata": {},
   "outputs": [],
   "source": [
    "# уберем город Зеленоград из бощего датасета\n",
    "df = df.query('street != \"город Зеленоград\"')"
   ]
  },
  {
   "cell_type": "code",
   "execution_count": 53,
   "metadata": {},
   "outputs": [
    {
     "data": {
      "text/html": [
       "<div>\n",
       "<style scoped>\n",
       "    .dataframe tbody tr th:only-of-type {\n",
       "        vertical-align: middle;\n",
       "    }\n",
       "\n",
       "    .dataframe tbody tr th {\n",
       "        vertical-align: top;\n",
       "    }\n",
       "\n",
       "    .dataframe thead th {\n",
       "        text-align: right;\n",
       "    }\n",
       "</style>\n",
       "<table border=\"1\" class=\"dataframe\">\n",
       "  <thead>\n",
       "    <tr style=\"text-align: right;\">\n",
       "      <th></th>\n",
       "      <th>id</th>\n",
       "      <th>object_name</th>\n",
       "      <th>chain</th>\n",
       "      <th>object_type</th>\n",
       "      <th>address</th>\n",
       "      <th>number</th>\n",
       "      <th>street</th>\n",
       "    </tr>\n",
       "  </thead>\n",
       "  <tbody>\n",
       "    <tr>\n",
       "      <td>1461</td>\n",
       "      <td>106204</td>\n",
       "      <td>кафе «шашлычок»</td>\n",
       "      <td>несетевые</td>\n",
       "      <td>кафе</td>\n",
       "      <td>город Москва, 3-й Митинский переулок, дом 1</td>\n",
       "      <td>44</td>\n",
       "      <td>пусто</td>\n",
       "    </tr>\n",
       "    <tr>\n",
       "      <td>1665</td>\n",
       "      <td>25308</td>\n",
       "      <td>ани</td>\n",
       "      <td>несетевые</td>\n",
       "      <td>кафе</td>\n",
       "      <td>город Москва, улица Руднёвка, дом 14</td>\n",
       "      <td>32</td>\n",
       "      <td>пусто</td>\n",
       "    </tr>\n",
       "    <tr>\n",
       "      <td>1690</td>\n",
       "      <td>156219</td>\n",
       "      <td>пицца лэнд</td>\n",
       "      <td>несетевые</td>\n",
       "      <td>предприятие быстрого обслуживания</td>\n",
       "      <td>город Москва, проспект Защитников Москвы, дом 14</td>\n",
       "      <td>20</td>\n",
       "      <td>пусто</td>\n",
       "    </tr>\n",
       "    <tr>\n",
       "      <td>1737</td>\n",
       "      <td>69842</td>\n",
       "      <td>чайхона №1</td>\n",
       "      <td>сетевые</td>\n",
       "      <td>ресторан</td>\n",
       "      <td>город Москва, улица Мичуринский Проспект, Олим...</td>\n",
       "      <td>94</td>\n",
       "      <td>пусто</td>\n",
       "    </tr>\n",
       "    <tr>\n",
       "      <td>1853</td>\n",
       "      <td>77651</td>\n",
       "      <td>щербенко л.а.</td>\n",
       "      <td>несетевые</td>\n",
       "      <td>кафе</td>\n",
       "      <td>город Москва, поселение Вороновское, село Воро...</td>\n",
       "      <td>50</td>\n",
       "      <td>пусто</td>\n",
       "    </tr>\n",
       "  </tbody>\n",
       "</table>\n",
       "</div>"
      ],
      "text/plain": [
       "          id      object_name      chain                        object_type  \\\n",
       "1461  106204  кафе «шашлычок»  несетевые                               кафе   \n",
       "1665   25308              ани  несетевые                               кафе   \n",
       "1690  156219       пицца лэнд  несетевые  предприятие быстрого обслуживания   \n",
       "1737   69842       чайхона №1    сетевые                           ресторан   \n",
       "1853   77651    щербенко л.а.  несетевые                               кафе   \n",
       "\n",
       "                                                address  number street  \n",
       "1461        город Москва, 3-й Митинский переулок, дом 1      44  пусто  \n",
       "1665               город Москва, улица Руднёвка, дом 14      32  пусто  \n",
       "1690   город Москва, проспект Защитников Москвы, дом 14      20  пусто  \n",
       "1737  город Москва, улица Мичуринский Проспект, Олим...      94  пусто  \n",
       "1853  город Москва, поселение Вороновское, село Воро...      50  пусто  "
      ]
     },
     "execution_count": 53,
     "metadata": {},
     "output_type": "execute_result"
    }
   ],
   "source": [
    "# проверим адреса 'пусто'\n",
    "df.query('street == \"пусто\"').head()"
   ]
  },
  {
   "cell_type": "code",
   "execution_count": 54,
   "metadata": {},
   "outputs": [
    {
     "data": {
      "text/plain": [
       "False"
      ]
     },
     "execution_count": 54,
     "metadata": {},
     "output_type": "execute_result"
    }
   ],
   "source": [
    "# попробуем еще раз найти эти адреса в общем списке\n",
    "x = list(df.query('id == 106204')['address'])\n",
    "x = x[0].split(',')\n",
    "s = []\n",
    "for i in x:\n",
    "    i = i.strip()\n",
    "    s.append(i)\n",
    "s[1] in list_street_moscow"
   ]
  },
  {
   "cell_type": "code",
   "execution_count": 55,
   "metadata": {},
   "outputs": [
    {
     "name": "stdout",
     "output_type": "stream",
     "text": [
      "\n",
      "районы НЕ определены: 613\n",
      "\n",
      "общее количество адресов: 15134\n"
     ]
    }
   ],
   "source": [
    "print()\n",
    "print('районы НЕ определены:', df.query('street == \"пусто\"')['street'].count())\n",
    "print()\n",
    "print('общее количество адресов:',df['street'].count())"
   ]
  },
  {
   "cell_type": "code",
   "execution_count": 56,
   "metadata": {},
   "outputs": [
    {
     "name": "stdout",
     "output_type": "stream",
     "text": [
      "\n",
      "некорректные данные: 4.05%\n"
     ]
    }
   ],
   "source": [
    "print()\n",
    "print('некорректные данные:', '{:.2%}'.format(613/15134))"
   ]
  },
  {
   "cell_type": "markdown",
   "metadata": {},
   "source": [
    "Скорее всего адреса заведений были введены с ошибкой, что не позволяет корректно идентифицировать их, и в дальнейшем определить их район. Потери данных для дальнейшего анализа составляют 4%"
   ]
  },
  {
   "cell_type": "code",
   "execution_count": 57,
   "metadata": {},
   "outputs": [],
   "source": [
    "# уберем \"пусто\"\n",
    "df = df.query('street != \"пусто\"')"
   ]
  },
  {
   "cell_type": "markdown",
   "metadata": {},
   "source": [
    "<a id='section_id_005'>"
   ]
  },
  {
   "cell_type": "code",
   "execution_count": 58,
   "metadata": {},
   "outputs": [
    {
     "data": {
      "image/png": "[encoded data removed]",
      "text/plain": [
       "<Figure size 864x432 with 1 Axes>"
      ]
     },
     "metadata": {},
     "output_type": "display_data"
    }
   ],
   "source": [
    "# построим график топ-10 улиц по количеству заведений общественного питания\n",
    "top10_streets = df.groupby('street').agg({'address':'count'}).sort_values(by='address',ascending=True).tail(10)\n",
    "top10_streets.plot(kind='barh',figsize=(12,6))\n",
    "plt.title('\\nграфик 5\\n Топ-10 улиц по количеству заведений общественного питания \\n',fontsize=18) \n",
    "plt.xlabel(\"\\nколичество заведений\")\n",
    "plt.ylabel(\"\\n\")\n",
    "plt.show()"
   ]
  },
  {
   "cell_type": "markdown",
   "metadata": {},
   "source": [
    "на проспекте Мира находиться наибольшее количество заведений общественного питания  \n",
    "  \n",
    "[итог](#section_id_4)   "
   ]
  },
  {
   "cell_type": "markdown",
   "metadata": {},
   "source": [
    "<BR>"
   ]
  },
  {
   "cell_type": "markdown",
   "metadata": {},
   "source": [
    "Так как улицы могут проходить через несколько районов, посмотрим сначала на топ-10 районов по числу объектов общественного питания находящихся в них"
   ]
  },
  {
   "cell_type": "code",
   "execution_count": 63,
   "metadata": {},
   "outputs": [],
   "source": [
    "# создадим список с улицами и количеством заведений на них\n",
    "street_count = df.groupby('street')['id'].count().reset_index().rename(columns={'id':'street_count'})"
   ]
  },
  {
   "cell_type": "code",
   "execution_count": 64,
   "metadata": {},
   "outputs": [],
   "source": [
    "# присоединим его списку улиц/районов\n",
    "df_street_moscow_count = df_street_moscow.merge(street_count,on='street')"
   ]
  },
  {
   "cell_type": "markdown",
   "metadata": {},
   "source": [
    "в *df_street_moscow_count* остались районы, улицы проходящие через них, *area_rank* общее количество улиц в районе, и *street_count* количество заведений на улице"
   ]
  },
  {
   "cell_type": "code",
   "execution_count": 65,
   "metadata": {},
   "outputs": [],
   "source": [
    "# добавим районы и количество заведений на улице к общему датасету, сохраним в новой переменной df_area_rank\n",
    "df_area_rank = df.merge(df_street_moscow_count,on='street')"
   ]
  },
  {
   "cell_type": "code",
   "execution_count": 66,
   "metadata": {},
   "outputs": [],
   "source": [
    "# сгруппируем по району и улице, напротив улиц оставим число заведений\n",
    "top_area = df_area_rank.groupby(['area','street'])['street_count'].max().reset_index()\n",
    "\n",
    "# еще раз сгруппируем по району, суммируем число заведений\n",
    "top_area = top_area.groupby('area')['street_count'].sum().reset_index()\n",
    "\n",
    "# отсортируем, оставим топ-10\n",
    "top_area = top_area.sort_values(by='street_count',ascending=False).head(10)"
   ]
  },
  {
   "cell_type": "markdown",
   "metadata": {},
   "source": [
    "<a id='section_id_008'>"
   ]
  },
  {
   "cell_type": "code",
   "execution_count": 67,
   "metadata": {},
   "outputs": [
    {
     "data": {
      "image/png": "[encoded data removed]",
      "text/plain": [
       "<Figure size 864x432 with 1 Axes>"
      ]
     },
     "metadata": {},
     "output_type": "display_data"
    }
   ],
   "source": [
    "# визуализируем\n",
    "top_area.sort_values(by='street_count',ascending=True).plot(kind='barh',x='area',figsize=(12,6))\n",
    "plt.title('\\n график 7\\n Топ-10 районов по числу объектов общественного питания Москвы \\n',fontsize=18) \n",
    "plt.xlabel(\"\\nколичество заведений\")\n",
    "plt.ylabel(\"\\n\")\n",
    "plt.show()"
   ]
  },
  {
   "cell_type": "markdown",
   "metadata": {},
   "source": [
    "Районы с наибольшем количеством заведений на каждой улице. Наибольшее количество заведений находится в Тверском районе, затем идет Пресненский район, затем  Басманный район, потом Даниловский район. Всё это центральные районы Москвы. "
   ]
  },
  {
   "cell_type": "markdown",
   "metadata": {},
   "source": [
    "\n",
    "  \n",
    "[оглавление](#section_id_100)  \n",
    "  \n",
    "[итог](#section_id_4)     "
   ]
  },
  {
   "cell_type": "markdown",
   "metadata": {},
   "source": [
    "Теперь посмотрим на топ-10 районы через которые проходят топ-10 улиц"
   ]
  },
  {
   "cell_type": "code",
   "execution_count": 68,
   "metadata": {},
   "outputs": [],
   "source": [
    "# выделим список улиц топ-10 по количеству заведений\n",
    "top10_streets = top10_streets.reset_index()\n",
    "top_streets = top10_streets[['street']]"
   ]
  },
  {
   "cell_type": "code",
   "execution_count": 74,
   "metadata": {},
   "outputs": [],
   "source": [
    "# к списку улиц топ-10 добавим районы через которые они проходят\n",
    "area_top_streets = top_streets.merge(df_street_moscow_count,on='street')"
   ]
  },
  {
   "cell_type": "code",
   "execution_count": 75,
   "metadata": {},
   "outputs": [
    {
     "data": {
      "text/plain": [
       "10"
      ]
     },
     "execution_count": 75,
     "metadata": {},
     "output_type": "execute_result"
    }
   ],
   "source": [
    "# количество улиц\n",
    "area_top_streets['street'].nunique()"
   ]
  },
  {
   "cell_type": "code",
   "execution_count": 76,
   "metadata": {},
   "outputs": [
    {
     "data": {
      "text/plain": [
       "37"
      ]
     },
     "execution_count": 76,
     "metadata": {},
     "output_type": "execute_result"
    }
   ],
   "source": [
    "# количествоо районов через которые они проходят\n",
    "area_top_streets['area'].nunique()"
   ]
  },
  {
   "cell_type": "code",
   "execution_count": 77,
   "metadata": {},
   "outputs": [
    {
     "data": {
      "text/plain": [
       "Варшавское шоссе          8\n",
       "Ленинский проспект        8\n",
       "проспект Мира             7\n",
       "Профсоюзная улица         6\n",
       "проспект Вернадского      5\n",
       "Ленинградский проспект    4\n",
       "Каширское шоссе           4\n",
       "Кировоградская улица      3\n",
       "Кутузовский проспект      2\n",
       "Пресненская набережная    1\n",
       "Name: street, dtype: int64"
      ]
     },
     "execution_count": 77,
     "metadata": {},
     "output_type": "execute_result"
    }
   ],
   "source": [
    "# посмотрим через сколько районов проходят каждая из них\n",
    "area_top_streets['street'].value_counts()"
   ]
  },
  {
   "cell_type": "code",
   "execution_count": 78,
   "metadata": {},
   "outputs": [
    {
     "data": {
      "text/plain": [
       "street                  area                           \n",
       "Варшавское шоссе        Донской район                      1\n",
       "                        Нагорный район                     1\n",
       "                        Район Нагатино-Садовники           1\n",
       "                        Район Северное Бутово              1\n",
       "                        Район Чертаново Северное           1\n",
       "                        Район Чертаново Центральное        1\n",
       "                        Район Чертаново Южное              1\n",
       "                        Район Южное Бутово                 1\n",
       "Каширское шоссе         Район Москворечье-Сабурово         1\n",
       "                        Район Нагатино-Садовники           1\n",
       "                        Район Орехово-Борисово Северное    1\n",
       "                        Район Орехово-Борисово Южное       1\n",
       "Кировоградская улица    Район Чертаново Северное           1\n",
       "                        Район Чертаново Центральное        1\n",
       "                        Район Чертаново Южное              1\n",
       "Кутузовский проспект    Район Дорогомилово                 1\n",
       "                        Район Фили-Давыдково               1\n",
       "Ленинградский проспект  Район Аэропорт                     1\n",
       "                        Район Беговой                      1\n",
       "                        Район Сокол                        1\n",
       "                        Хорошевский район                  1\n",
       "Ленинский проспект      Донской район                      1\n",
       "                        Ломоносовский район                1\n",
       "                        Обручевский район                  1\n",
       "                        Район Гагаринский                  1\n",
       "                        Район Проспект Вернадского         1\n",
       "                        Район Теплый Стан                  1\n",
       "                        Район Тропарево-Никулино           1\n",
       "                        Район Якиманка                     1\n",
       "Пресненская набережная  Пресненский район                  1\n",
       "Профсоюзная улица       Академический район                1\n",
       "                        Обручевский район                  1\n",
       "                        Район Коньково                     1\n",
       "                        Район Теплый Стан                  1\n",
       "                        Район Черемушки                    1\n",
       "                        Район Ясенево                      1\n",
       "проспект Вернадского    Ломоносовский район                1\n",
       "                        Район Гагаринский                  1\n",
       "                        Район Проспект Вернадского         1\n",
       "                        Район Раменки                      1\n",
       "                        Район Тропарево-Никулино           1\n",
       "проспект Мира           Алексеевский район                 1\n",
       "                        Мещанский район                    1\n",
       "                        Останкинский район                 1\n",
       "                        Район Марьина роща                 1\n",
       "                        Район Ростокино                    1\n",
       "                        Район Свиблово                     1\n",
       "                        Ярославский Район                  1\n",
       "Name: area, dtype: int64"
      ]
     },
     "execution_count": 78,
     "metadata": {},
     "output_type": "execute_result"
    }
   ],
   "source": [
    "# посмотрим через какие районы проходият улицы \n",
    "area_top_streets.groupby('street')['area'].value_counts()"
   ]
  },
  {
   "cell_type": "markdown",
   "metadata": {},
   "source": [
    "<BR>"
   ]
  },
  {
   "cell_type": "markdown",
   "metadata": {},
   "source": [
    "\n",
    "  \n",
    "[оглавление](#section_id_100)  \n",
    "    "
   ]
  },
  {
   "cell_type": "markdown",
   "metadata": {},
   "source": [
    "## 3.7 Улицы с одним объектом общественного питания <a id='section_id_37'></a>"
   ]
  },
  {
   "cell_type": "markdown",
   "metadata": {},
   "source": [
    "Найдем количество улиц с одним объектом общественного питания.  \n",
    "Определим в каких районах Москвы находятся эти улицы."
   ]
  },
  {
   "cell_type": "code",
   "execution_count": 79,
   "metadata": {},
   "outputs": [
    {
     "data": {
      "text/plain": [
       "518"
      ]
     },
     "execution_count": 79,
     "metadata": {},
     "output_type": "execute_result"
    }
   ],
   "source": [
    "# сгруппируем все по улицам, посчитаем количество заведений, сделаем срез\n",
    "street_one = df.groupby('street').agg({'id':'count'}).reset_index().query('id == 1')\n",
    "street_one.shape[0]"
   ]
  },
  {
   "cell_type": "markdown",
   "metadata": {},
   "source": [
    "в Москве есть 518 улицы со всего одним заведением"
   ]
  },
  {
   "cell_type": "markdown",
   "metadata": {},
   "source": [
    "Посмотрим какие районы включают в себя улицы с одним заведением"
   ]
  },
  {
   "cell_type": "code",
   "execution_count": 80,
   "metadata": {},
   "outputs": [
    {
     "data": {
      "text/plain": [
       "99"
      ]
     },
     "execution_count": 80,
     "metadata": {},
     "output_type": "execute_result"
    }
   ],
   "source": [
    "# присоедимним районы \n",
    "area_street_one = street_one.merge(df_street_moscow,on='street')\n",
    "area_street_one.groupby('area')['area'].count().shape[0]"
   ]
  },
  {
   "cell_type": "markdown",
   "metadata": {},
   "source": [
    "в 99 районах Москвы, есть улицы с всего одним заведением"
   ]
  },
  {
   "cell_type": "code",
   "execution_count": 81,
   "metadata": {},
   "outputs": [
    {
     "data": {
      "text/html": [
       "<div>\n",
       "<style scoped>\n",
       "    .dataframe tbody tr th:only-of-type {\n",
       "        vertical-align: middle;\n",
       "    }\n",
       "\n",
       "    .dataframe tbody tr th {\n",
       "        vertical-align: top;\n",
       "    }\n",
       "\n",
       "    .dataframe thead th {\n",
       "        text-align: right;\n",
       "    }\n",
       "</style>\n",
       "<table border=\"1\" class=\"dataframe\">\n",
       "  <thead>\n",
       "    <tr style=\"text-align: right;\">\n",
       "      <th></th>\n",
       "      <th>area</th>\n",
       "      <th>street</th>\n",
       "    </tr>\n",
       "  </thead>\n",
       "  <tbody>\n",
       "    <tr>\n",
       "      <td>93</td>\n",
       "      <td>Таганский район</td>\n",
       "      <td>27</td>\n",
       "    </tr>\n",
       "    <tr>\n",
       "      <td>79</td>\n",
       "      <td>Район Хамовники</td>\n",
       "      <td>26</td>\n",
       "    </tr>\n",
       "    <tr>\n",
       "      <td>3</td>\n",
       "      <td>Басманный район</td>\n",
       "      <td>25</td>\n",
       "    </tr>\n",
       "    <tr>\n",
       "      <td>94</td>\n",
       "      <td>Тверской район</td>\n",
       "      <td>20</td>\n",
       "    </tr>\n",
       "    <tr>\n",
       "      <td>20</td>\n",
       "      <td>Пресненский район</td>\n",
       "      <td>20</td>\n",
       "    </tr>\n",
       "    <tr>\n",
       "      <td>21</td>\n",
       "      <td>Район Арбат</td>\n",
       "      <td>18</td>\n",
       "    </tr>\n",
       "    <tr>\n",
       "      <td>50</td>\n",
       "      <td>Район Марьина роща</td>\n",
       "      <td>18</td>\n",
       "    </tr>\n",
       "    <tr>\n",
       "      <td>13</td>\n",
       "      <td>Мещанский район</td>\n",
       "      <td>16</td>\n",
       "    </tr>\n",
       "    <tr>\n",
       "      <td>73</td>\n",
       "      <td>Район Сокольники</td>\n",
       "      <td>15</td>\n",
       "    </tr>\n",
       "    <tr>\n",
       "      <td>33</td>\n",
       "      <td>Район Замоскворечье</td>\n",
       "      <td>14</td>\n",
       "    </tr>\n",
       "  </tbody>\n",
       "</table>\n",
       "</div>"
      ],
      "text/plain": [
       "                   area  street\n",
       "93      Таганский район      27\n",
       "79      Район Хамовники      26\n",
       "3       Басманный район      25\n",
       "94       Тверской район      20\n",
       "20    Пресненский район      20\n",
       "21          Район Арбат      18\n",
       "50   Район Марьина роща      18\n",
       "13      Мещанский район      16\n",
       "73     Район Сокольники      15\n",
       "33  Район Замоскворечье      14"
      ]
     },
     "execution_count": 81,
     "metadata": {},
     "output_type": "execute_result"
    }
   ],
   "source": [
    "# сгрупперуем по районам, посчитаем количество улиц для каждого\n",
    "top_area_street_one = area_street_one.groupby('area')['street'].count().reset_index()\n",
    "top_area_street_one = top_area_street_one.sort_values(by='street',ascending=False).head(10)\n",
    "top_area_street_one"
   ]
  },
  {
   "cell_type": "markdown",
   "metadata": {},
   "source": [
    "<a id='section_id_007'>"
   ]
  },
  {
   "cell_type": "code",
   "execution_count": 82,
   "metadata": {},
   "outputs": [
    {
     "data": {
      "image/png": "[encoded data removed]",
      "text/plain": [
       "<Figure size 864x432 with 1 Axes>"
      ]
     },
     "metadata": {},
     "output_type": "display_data"
    }
   ],
   "source": [
    "# визуализируем графиком\n",
    "top_area_street_one.sort_values(by='street',ascending=True).plot(kind='barh',x='area',y='street',figsize=(12,6))\n",
    "plt.title('\\nграфик 8\\n Топ-10 районов с наибольшим количеством улиц, где есть только одно заведение \\n',fontsize=18) \n",
    "plt.xlabel(\"\\nколичество улиц с одним заведением\")\n",
    "plt.ylabel(\"\\n\")\n",
    "plt.show()"
   ]
  },
  {
   "cell_type": "markdown",
   "metadata": {},
   "source": [
    "*Из открытых источников известно, что в Москве имеется 130 районов. 95 районов имеют улицы с 1 заведением.  \n",
    "В Москве имеется большое количество районов, в которых есть улицы с 1 заведением. Практически все из топ-10 районов, имеющих улицы с одним заведением, находятся в центральной части Москвы. Это можно объяснить наличием в центре большого количества небольших алей, улиц, закоулков, \"старая\" центральная Москва строилась иначе из-за этого имеет такие небольшие улицы.*"
   ]
  },
  {
   "cell_type": "markdown",
   "metadata": {},
   "source": [
    " \n",
    "  \n",
    "[оглавление](#section_id_100)  \n",
    "  \n",
    "[итог](#section_id_4)     "
   ]
  },
  {
   "cell_type": "markdown",
   "metadata": {},
   "source": [
    "## 3.8 Распределение количества посадочных мест для улиц с большим количеством объектов общественного питания <a id='section_id_38'></a>"
   ]
  },
  {
   "cell_type": "code",
   "execution_count": 83,
   "metadata": {},
   "outputs": [
    {
     "data": {
      "text/plain": [
       "3.0"
      ]
     },
     "execution_count": 83,
     "metadata": {},
     "output_type": "execute_result"
    }
   ],
   "source": [
    "# определим большое количество заведений на улице, как большее среднего\n",
    "# так как у нас много заведений с количеством посадочных мест равное нулю, среднее посчитаем медианой\n",
    "many_count = df.groupby('street')['id'].count().median()\n",
    "many_count"
   ]
  },
  {
   "cell_type": "markdown",
   "metadata": {},
   "source": [
    "улицы имеющие заведения общественного питания, в среднем имеют три таких заведения"
   ]
  },
  {
   "cell_type": "code",
   "execution_count": 84,
   "metadata": {},
   "outputs": [],
   "source": [
    "# создадим список улиц с количеством заведений больше среднего\n",
    "streets_many_count = df.groupby('street')['id'].count().reset_index().query('id > @many_count')\n",
    "streets_many_count = streets_many_count[['street']]"
   ]
  },
  {
   "cell_type": "code",
   "execution_count": 85,
   "metadata": {},
   "outputs": [],
   "source": [
    "# присоединим к нему общую информацию \n",
    "df_streets_many_count = streets_many_count.merge(df,on='street')"
   ]
  },
  {
   "cell_type": "code",
   "execution_count": 86,
   "metadata": {},
   "outputs": [
    {
     "data": {
      "image/png": "[encoded data removed]",
      "text/plain": [
       "<Figure size 864x432 with 1 Axes>"
      ]
     },
     "metadata": {},
     "output_type": "display_data"
    }
   ],
   "source": [
    "# построим график\n",
    "fig, ax = plt.subplots(figsize=(12,6))\n",
    "fig.suptitle('\\nРаспределение количества посадочных мест для улиц\\nс большим количеством объектов общественного питания\\n',\n",
    "             y=1.05,fontsize=18)\n",
    "\n",
    "sns.distplot(df_streets_many_count['number'],bins=200)\n",
    "sns.despine(left=True, bottom=True)\n",
    "\n",
    "ax.set_xlim([0, 500])\n",
    "ax.set_ylabel('Частота\\n')\n",
    "ax.set_xlabel('\\nКоличество посадочных мест');"
   ]
  },
  {
   "cell_type": "markdown",
   "metadata": {},
   "source": [
    "*Среди заведений, находящихся на наиболее популярных улицах, преобладают заведения с количеством мест до 50. Имеется достаточно большой всплеск количества заведений с числом посадочных мест меньше 10. Скорее всего это обусловлено тем, что такие места находятся в торговых комплексах на фудкортах, однако не стоит исключать и факт, что это может быть небольшой бар, кофе на вынос и т.п.*"
   ]
  },
  {
   "cell_type": "markdown",
   "metadata": {},
   "source": [
    " \n",
    "  \n",
    "[оглавление](#section_id_100)"
   ]
  },
  {
   "cell_type": "markdown",
   "metadata": {},
   "source": [
    "<BR>\n",
    "    ______________________________________________________________________________________________________________________________"
   ]
  },
  {
   "cell_type": "markdown",
   "metadata": {},
   "source": [
    "# Шаг 4. Итог <a id='section_id_4'></a>"
   ]
  },
  {
   "cell_type": "markdown",
   "metadata": {},
   "source": [
    "\n",
    "Исследованы открытые данные о заведениях общественного питания Москвы. В ходе анализа изучены соотношения видов объектов заведений по количеству, сетевых и несетевых заведений по количеству, характерность сетевого распространения по каждому виду заведений, характерная зависимость числа посадочных мест от количества филиалов заведений, описано среднее количество посадочных мест по каждому виду, найден топ-10 улиц с наибольшим количеством заведений, найдены районы с наибольшим количеством заведений для каждой улицы, найдены улицы с одним объектом питания, найдены районы прохождения таких улиц, изучено распределение посадочных мест для улиц с большим количеством заведений, найдено характерное количество посадочных мест.\n",
    "\n",
    "Среди видов объектов общественного питания явно преобладают кафе, затем идут рестораны, столовые и предприятия быстрого обслуживания. Наименьшее количество кафетериев, закусочных и отделов кулинарии в магазинах. При этом, преобладают несетевые заведения. [(см.график 1)](#section_id_001)\n",
    "\n",
    "Сетевое распространение наиболее характерно (в порядке убывания) для кафе, заведений быстрого обслуживания и ресторанов. Однако, только у быстрого обслуживания число сетевых заведений приближается к несетевым, тогда как среди кафе и ресторанов разница значительна. Сетевых столовых нет, имеется некоторое количество буфетов и баров. [(см.график 2)](#section_id_002)\n",
    "\n",
    "В сетевых заведениях, большинство имеет большее количество филиалов, с небольшим количеством посадочных мест.\n",
    "Только рестораны и столовые имееют среднее количество посадочных мест около 100.[(см.график 3)](#section_id_003)\n",
    "\n",
    "В среднем, наибольшее количество посадочных мест в столовых и ресторанах. Кафе находится в середине списка со средним количеством посадочныч мест около 40.[(см.график 4)](#section_id_004)\n",
    "\n",
    "\n",
    "В топ-10 улиц по числу объектов общественного питания лидирует проспект Мира, затем идет Профсоюзная улица и Ленинградский проспект. [(см.график 5)](#section_id_005)\n",
    "\n",
    "Районы через которые проходят эти улицы, Ярославский район, район Ясенево, Хорошевский район, Пресненский район.[(см.график 6)](#section_id_006)\n",
    "\n",
    "Топ-10 районов по числу объектов обществоенного питания возглавляют Тверской район, Пресненский район, Таганский район, и Басманный район. [(см.график 7)](#section_id_008)\n",
    "\n",
    "Больше всего улиц с одним заведением в Таганском районе, районе Хамовники и Басманном районе.[(см.график 8)](#section_id_007)\n",
    "\n",
    "Среди заведений, находящихся на наиболее популярных улицах, преобладают заведения с количеством мест до 50. Имеется достаточно большой всплеск количества заведений с числом посадочных мест меньше 10. Скорее всего это обусловлено тем, что такие места находятся в торговых комплексах на фудкортах, однако не стоит исключать и факт, что это может быть небольшой бар, кофе на вынос и т.п.\n",
    "\n",
    "Принимая во внимание вышеописанное, стоит предложить выбрать форматом заведения - кафе, с числом посадочных мест не более 50. Предлагаю разместить его в Тверском районе - данный район хоть и имеет большое количество заведений и большую конкуренцию, является привлекательным с точки зрения проходимости. Эксклюзивность формата - обслуживание роботами - является значительным плюсом. Стоит предположить, что небольшое количество посадочных мест создаст дополнительный ажиотаж и повышенный спрос, что в будущем позволяет рассмотреть возможность расширения и открытия нескольких филиалов. Прогнозируемое число филиалов требует дополнительного анализа финансовых показателей головного заведения."
   ]
  },
  {
   "cell_type": "markdown",
   "metadata": {},
   "source": [
    "\n",
    "  \n",
    "[оглавление](#section_id_100)"
   ]
  },
  {
   "cell_type": "markdown",
   "metadata": {},
   "source": [
    "<BR>\n",
    "    ______________________________________________________________________________________________________________________________"
   ]
  },
  {
   "cell_type": "markdown",
   "metadata": {},
   "source": [
    "<BR>"
   ]
  }
 ],
 "metadata": {
  "kernelspec": {
   "display_name": "Python 3",
   "language": "python",
   "name": "python3"
  },
  "language_info": {
   "codemirror_mode": {
    "name": "ipython",
    "version": 3
   },
   "file_extension": ".py",
   "mimetype": "text/x-python",
   "name": "python",
   "nbconvert_exporter": "python",
   "pygments_lexer": "ipython3",
   "version": "3.7.8"
  },
  "toc": {
   "base_numbering": 1,
   "nav_menu": {},
   "number_sections": false,
   "sideBar": true,
   "skip_h1_title": false,
   "title_cell": "Table of Contents",
   "title_sidebar": "Contents",
   "toc_cell": false,
   "toc_position": {},
   "toc_section_display": true,
   "toc_window_display": false
  }
 },
 "nbformat": 4,
 "nbformat_minor": 2
}
