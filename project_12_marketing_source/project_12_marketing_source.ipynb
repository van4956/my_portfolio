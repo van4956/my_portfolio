{
 "cells": [
  {
   "cell_type": "markdown",
   "metadata": {
    "id": "d2ZiAcCLOYIS"
   },
   "source": [
    "<BR>"
   ]
  },
  {
   "cell_type": "markdown",
   "metadata": {
    "id": "RlEPO9fOOYIc"
   },
   "source": [
    "<BR> \n",
    "\n",
    "***  \n",
    "\n",
    "<BR>\n"
   ]
  },
  {
   "cell_type": "markdown",
   "metadata": {},
   "source": [
    "<BR>"
   ]
  },
  {
   "cell_type": "markdown",
   "metadata": {
    "id": "v4ZTjtNaOYId"
   },
   "source": [
    "# Проект - Анализ рекламных источников "
   ]
  },
  {
   "cell_type": "markdown",
   "metadata": {
    "id": "_a6MF-9TOYIe"
   },
   "source": [
    "<BR>"
   ]
  },
  {
   "cell_type": "markdown",
   "metadata": {
    "id": "uPuiwfXROYIe"
   },
   "source": [
    "#### Заказчик\n",
    "\n",
    "Трафик менеджеры, маркетингово отдела мобильной игры «Космические братья».  \n",
    "Игра недавно вышла на рынок и уже пользуется большой популярностью.  \n",
    "Основная монетизация игры — только планируется.  \n"
   ]
  },
  {
   "cell_type": "markdown",
   "metadata": {
    "id": "-YioVIHCOYIf"
   },
   "source": [
    "<BR>"
   ]
  },
  {
   "cell_type": "markdown",
   "metadata": {
    "id": "zbQu5IOWOYIf"
   },
   "source": [
    "#### Задача\n",
    "\n",
    "На основе данных понять, какую модель монетизации стоит выбрать для игрового приложения.  \n",
    "\n",
    "- Провести исследовательский анализ данных\n",
    "- Проанализировать влияние источника перехода в игру на поведение пользователя\n",
    "- Проверить статистические гипотезы\n",
    "- Сформулировать основные выводы и разработать рекомендации по рекламным источникам\n",
    "\n"
   ]
  },
  {
   "cell_type": "markdown",
   "metadata": {},
   "source": [
    "<BR>"
   ]
  },
  {
   "cell_type": "markdown",
   "metadata": {},
   "source": [
    "#### Материалы <a id='section_id_555'></a>\n",
    "\n",
    " - презентация -  https://drive.google.com/file/d/17i4I6neo8NC2vHYnVmYyKO8JkdJQl-4R/view?usp=sharing \n",
    " - дашборд     -  https://public.tableau.com/profile/.34242135#!/vizhome/project_final_16167785513610/Dashboard1?publish=yes   \n"
   ]
  },
  {
   "cell_type": "markdown",
   "metadata": {
    "id": "iMqHPA9SOYIg"
   },
   "source": [
    "<BR>  <a id='section_id_0'></a>\n",
    "    \n",
    "<BR>    "
   ]
  },
  {
   "cell_type": "markdown",
   "metadata": {
    "id": "dyN7ZOCGOYIh"
   },
   "source": [
    "**План**\n",
    "\n",
    "  \n",
    "- [1. Исследовательский анализ данных](#section_id_4)  \n",
    "   - 1.1. Загрузка данных \n",
    "   - 1.2. Общая информация  \n",
    "   - 1.3. Предобработка\n",
    "- [2. Анализ данных](#section_id_5)  \n",
    "   - 2.1. Общий анализ\n",
    "   - 2.2. Распределение построек по времени\n",
    "   - 2.3. Распределение пользователей по времени по рекламным источникам\n",
    "   - 2.4. Retention Rate\n",
    "   - 2.5. Рекламные источники\n",
    "   - 2.6. Анализ игрового баланса\n",
    "   - 2.7. Влияние источника трафика рекламы на прохождение уровня\n",
    "   - 2.8. Влияние источника трафика рекламы на стратегию прохождения уровня\n",
    "- [3. Статистические гипотезы](#section_id_6)  \n",
    "  - 3.1. Время завершения уровня различается в зависимости от способа прохождения \n",
    "  - 3.2. Время завершения уровня различается в зависимости от источника перехода  \n",
    "- [4. Выводы и рекомендации](#section_id_7)  \n"
   ]
  },
  {
   "cell_type": "markdown",
   "metadata": {
    "id": "ixij_bufOYIi"
   },
   "source": [
    "<BR>"
   ]
  },
  {
   "cell_type": "markdown",
   "metadata": {
    "id": "QfhYJUlcOYIi"
   },
   "source": [
    "**Описание данных**"
   ]
  },
  {
   "cell_type": "markdown",
   "metadata": {
    "id": "IxvnxnhYOYIi"
   },
   "source": [
    "Датасет `game_actions.csv`:\n",
    "  \n",
    "- **event_datetime** — время события  \n",
    "- **event** — одно из трёх событий:  \n",
    "    - building — объект построен  \n",
    "    - finished_stage_1 — первый уровень завершён  \n",
    "    - project — проект завершён  \n",
    "- **building_typev** — один из трёх типов здания:  \n",
    "    - assembly_shop — сборочный цех  \n",
    "    - spaceport — космопорт  \n",
    "    - research_center — исследовательский центр  \n",
    "- **user_id** — идентификатор пользователя  \n",
    "- **project_type** — тип реализованного проекта  "
   ]
  },
  {
   "cell_type": "markdown",
   "metadata": {
    "id": "_Ni_2l0XOYIj"
   },
   "source": [
    "Датасет `ad_cost.csv`:\n",
    "\n",
    "- **day** - день, в который был совершен клик по объявлению\n",
    "- **source** - источник трафика\n",
    "- **cost** - стоимость кликов"
   ]
  },
  {
   "cell_type": "markdown",
   "metadata": {
    "id": "7TVfRCgFOYIj"
   },
   "source": [
    "Датасет `user_source.csv` содержит колонки:\n",
    "\n",
    "- **user_id** - идентификатор пользователя\n",
    "- **source** - источников, с которого пришёл пользователь, установивший приложение"
   ]
  },
  {
   "cell_type": "markdown",
   "metadata": {
    "id": "BYZ9m1wTOYIk"
   },
   "source": [
    "<BR>"
   ]
  },
  {
   "cell_type": "markdown",
   "metadata": {
    "id": "RlEPO9fOOYIc"
   },
   "source": [
    "<BR> <a id='section_id_4'></a>\n",
    "\n",
    "***  \n",
    "\n",
    "<BR>\n"
   ]
  },
  {
   "cell_type": "markdown",
   "metadata": {},
   "source": [
    "# 1. Исследовательский анализ данных  "
   ]
  },
  {
   "cell_type": "markdown",
   "metadata": {
    "id": "Njn7_TE_OYIk"
   },
   "source": [
    "## 1.1. Загрузка данных <a id='section_id_1'></a>"
   ]
  },
  {
   "cell_type": "markdown",
   "metadata": {
    "id": "vYqGoRZNPADW"
   },
   "source": [
    "### импорт библиотек"
   ]
  },
  {
   "cell_type": "code",
   "execution_count": 1,
   "metadata": {
    "id": "CppzC808eaRr"
   },
   "outputs": [],
   "source": [
    "import pandas as pd\n",
    "import numpy as np\n",
    "\n",
    "from io import BytesIO\n",
    "import requests\n",
    "\n",
    "from scipy import stats as st\n",
    "import math as mth\n",
    "\n",
    "import matplotlib.pyplot as plt\n",
    "import matplotlib.dates as mdates\n",
    "import seaborn as sns\n",
    "import plotly.graph_objects as go\n",
    "\n",
    "sns.set()\n",
    "sns.set_style(\"darkgrid\")"
   ]
  },
  {
   "cell_type": "markdown",
   "metadata": {
    "id": "iWrpO24FPCfT"
   },
   "source": [
    "### выгрузка данных "
   ]
  },
  {
   "cell_type": "markdown",
   "metadata": {},
   "source": [
    "#### game_actions"
   ]
  },
  {
   "cell_type": "code",
   "execution_count": 2,
   "metadata": {},
   "outputs": [],
   "source": [
    "id = 'https://docs.google.com/spreadsheets/d/1iJxElT_ZL5kGoDXMMlAHdpAI_CF90P2OXzkSgK6WesE/edit?usp=sharing'.split('/')[5]"
   ]
  },
  {
   "cell_type": "code",
   "execution_count": 3,
   "metadata": {},
   "outputs": [],
   "source": [
    "file_name = 'https://docs.google.com/spreadsheets/d/{}/export?format=csv'.format(id)"
   ]
  },
  {
   "cell_type": "code",
   "execution_count": 4,
   "metadata": {},
   "outputs": [],
   "source": [
    "r = requests.get(file_name)"
   ]
  },
  {
   "cell_type": "code",
   "execution_count": 5,
   "metadata": {},
   "outputs": [],
   "source": [
    "game_actions = pd.read_csv(BytesIO(r.content))"
   ]
  },
  {
   "cell_type": "code",
   "execution_count": 6,
   "metadata": {},
   "outputs": [
    {
     "data": {
      "text/html": [
       "<div>\n",
       "<style scoped>\n",
       "    .dataframe tbody tr th:only-of-type {\n",
       "        vertical-align: middle;\n",
       "    }\n",
       "\n",
       "    .dataframe tbody tr th {\n",
       "        vertical-align: top;\n",
       "    }\n",
       "\n",
       "    .dataframe thead th {\n",
       "        text-align: right;\n",
       "    }\n",
       "</style>\n",
       "<table border=\"1\" class=\"dataframe\">\n",
       "  <thead>\n",
       "    <tr style=\"text-align: right;\">\n",
       "      <th></th>\n",
       "      <th>event_datetime</th>\n",
       "      <th>event</th>\n",
       "      <th>building_type</th>\n",
       "      <th>user_id</th>\n",
       "      <th>project_type</th>\n",
       "    </tr>\n",
       "  </thead>\n",
       "  <tbody>\n",
       "    <tr>\n",
       "      <td>0</td>\n",
       "      <td>2020-05-04 00:00:01</td>\n",
       "      <td>building</td>\n",
       "      <td>assembly_shop</td>\n",
       "      <td>55e92310-cb8e-4754-b622-597e124b03de</td>\n",
       "      <td>NaN</td>\n",
       "    </tr>\n",
       "    <tr>\n",
       "      <td>1</td>\n",
       "      <td>2020-05-04 00:00:03</td>\n",
       "      <td>building</td>\n",
       "      <td>assembly_shop</td>\n",
       "      <td>c07b1c10-f477-44dc-81dc-ec82254b1347</td>\n",
       "      <td>NaN</td>\n",
       "    </tr>\n",
       "    <tr>\n",
       "      <td>2</td>\n",
       "      <td>2020-05-04 00:00:16</td>\n",
       "      <td>building</td>\n",
       "      <td>assembly_shop</td>\n",
       "      <td>6edd42cc-e753-4ff6-a947-2107cd560710</td>\n",
       "      <td>NaN</td>\n",
       "    </tr>\n",
       "    <tr>\n",
       "      <td>3</td>\n",
       "      <td>2020-05-04 00:00:16</td>\n",
       "      <td>building</td>\n",
       "      <td>assembly_shop</td>\n",
       "      <td>92c69003-d60a-444a-827f-8cc51bf6bf4c</td>\n",
       "      <td>NaN</td>\n",
       "    </tr>\n",
       "    <tr>\n",
       "      <td>4</td>\n",
       "      <td>2020-05-04 00:00:35</td>\n",
       "      <td>building</td>\n",
       "      <td>assembly_shop</td>\n",
       "      <td>cdc6bb92-0ccb-4490-9866-ef142f09139d</td>\n",
       "      <td>NaN</td>\n",
       "    </tr>\n",
       "  </tbody>\n",
       "</table>\n",
       "</div>"
      ],
      "text/plain": [
       "        event_datetime     event  building_type  \\\n",
       "0  2020-05-04 00:00:01  building  assembly_shop   \n",
       "1  2020-05-04 00:00:03  building  assembly_shop   \n",
       "2  2020-05-04 00:00:16  building  assembly_shop   \n",
       "3  2020-05-04 00:00:16  building  assembly_shop   \n",
       "4  2020-05-04 00:00:35  building  assembly_shop   \n",
       "\n",
       "                                user_id project_type  \n",
       "0  55e92310-cb8e-4754-b622-597e124b03de          NaN  \n",
       "1  c07b1c10-f477-44dc-81dc-ec82254b1347          NaN  \n",
       "2  6edd42cc-e753-4ff6-a947-2107cd560710          NaN  \n",
       "3  92c69003-d60a-444a-827f-8cc51bf6bf4c          NaN  \n",
       "4  cdc6bb92-0ccb-4490-9866-ef142f09139d          NaN  "
      ]
     },
     "execution_count": 6,
     "metadata": {},
     "output_type": "execute_result"
    }
   ],
   "source": [
    "game_actions.head()"
   ]
  },
  {
   "cell_type": "markdown",
   "metadata": {},
   "source": [
    "#### ad_costs"
   ]
  },
  {
   "cell_type": "code",
   "execution_count": 7,
   "metadata": {},
   "outputs": [],
   "source": [
    "id = 'https://docs.google.com/spreadsheets/d/1zVwONRYnO2Pg7T-lLbzfalr64sx3WZ0E2a05Tg380E8/edit?usp=sharing'.split('/')[5]"
   ]
  },
  {
   "cell_type": "code",
   "execution_count": 8,
   "metadata": {},
   "outputs": [],
   "source": [
    "file_name = 'https://docs.google.com/spreadsheets/d/{}/export?format=csv'.format(id)"
   ]
  },
  {
   "cell_type": "code",
   "execution_count": 9,
   "metadata": {},
   "outputs": [],
   "source": [
    "r = requests.get(file_name)"
   ]
  },
  {
   "cell_type": "code",
   "execution_count": 10,
   "metadata": {},
   "outputs": [],
   "source": [
    "ad_costs = pd.read_csv(BytesIO(r.content))"
   ]
  },
  {
   "cell_type": "code",
   "execution_count": 11,
   "metadata": {},
   "outputs": [
    {
     "data": {
      "text/html": [
       "<div>\n",
       "<style scoped>\n",
       "    .dataframe tbody tr th:only-of-type {\n",
       "        vertical-align: middle;\n",
       "    }\n",
       "\n",
       "    .dataframe tbody tr th {\n",
       "        vertical-align: top;\n",
       "    }\n",
       "\n",
       "    .dataframe thead th {\n",
       "        text-align: right;\n",
       "    }\n",
       "</style>\n",
       "<table border=\"1\" class=\"dataframe\">\n",
       "  <thead>\n",
       "    <tr style=\"text-align: right;\">\n",
       "      <th></th>\n",
       "      <th>source</th>\n",
       "      <th>day</th>\n",
       "      <th>cost</th>\n",
       "    </tr>\n",
       "  </thead>\n",
       "  <tbody>\n",
       "    <tr>\n",
       "      <td>0</td>\n",
       "      <td>facebook_ads</td>\n",
       "      <td>2020-05-03</td>\n",
       "      <td>935.882786</td>\n",
       "    </tr>\n",
       "    <tr>\n",
       "      <td>1</td>\n",
       "      <td>facebook_ads</td>\n",
       "      <td>2020-05-04</td>\n",
       "      <td>548.354480</td>\n",
       "    </tr>\n",
       "    <tr>\n",
       "      <td>2</td>\n",
       "      <td>facebook_ads</td>\n",
       "      <td>2020-05-05</td>\n",
       "      <td>260.185754</td>\n",
       "    </tr>\n",
       "    <tr>\n",
       "      <td>3</td>\n",
       "      <td>facebook_ads</td>\n",
       "      <td>2020-05-06</td>\n",
       "      <td>177.982200</td>\n",
       "    </tr>\n",
       "    <tr>\n",
       "      <td>4</td>\n",
       "      <td>facebook_ads</td>\n",
       "      <td>2020-05-07</td>\n",
       "      <td>111.766796</td>\n",
       "    </tr>\n",
       "  </tbody>\n",
       "</table>\n",
       "</div>"
      ],
      "text/plain": [
       "         source         day        cost\n",
       "0  facebook_ads  2020-05-03  935.882786\n",
       "1  facebook_ads  2020-05-04  548.354480\n",
       "2  facebook_ads  2020-05-05  260.185754\n",
       "3  facebook_ads  2020-05-06  177.982200\n",
       "4  facebook_ads  2020-05-07  111.766796"
      ]
     },
     "execution_count": 11,
     "metadata": {},
     "output_type": "execute_result"
    }
   ],
   "source": [
    "ad_costs.head()"
   ]
  },
  {
   "cell_type": "markdown",
   "metadata": {},
   "source": [
    "#### user_source"
   ]
  },
  {
   "cell_type": "code",
   "execution_count": 12,
   "metadata": {},
   "outputs": [],
   "source": [
    "id = 'https://docs.google.com/spreadsheets/d/1jGLpyNX_DS670ke4WVjcxMS7dMmsIsFyKfrU-osB4YA/edit?usp=sharing'.split('/')[5]"
   ]
  },
  {
   "cell_type": "code",
   "execution_count": 13,
   "metadata": {},
   "outputs": [],
   "source": [
    "file_name = 'https://docs.google.com/spreadsheets/d/{}/export?format=csv'.format(id)"
   ]
  },
  {
   "cell_type": "code",
   "execution_count": 14,
   "metadata": {},
   "outputs": [],
   "source": [
    "r = requests.get(file_name)"
   ]
  },
  {
   "cell_type": "code",
   "execution_count": 15,
   "metadata": {},
   "outputs": [],
   "source": [
    "user_source = pd.read_csv(BytesIO(r.content))"
   ]
  },
  {
   "cell_type": "code",
   "execution_count": 16,
   "metadata": {
    "scrolled": true
   },
   "outputs": [
    {
     "data": {
      "text/html": [
       "<div>\n",
       "<style scoped>\n",
       "    .dataframe tbody tr th:only-of-type {\n",
       "        vertical-align: middle;\n",
       "    }\n",
       "\n",
       "    .dataframe tbody tr th {\n",
       "        vertical-align: top;\n",
       "    }\n",
       "\n",
       "    .dataframe thead th {\n",
       "        text-align: right;\n",
       "    }\n",
       "</style>\n",
       "<table border=\"1\" class=\"dataframe\">\n",
       "  <thead>\n",
       "    <tr style=\"text-align: right;\">\n",
       "      <th></th>\n",
       "      <th>user_id</th>\n",
       "      <th>source</th>\n",
       "    </tr>\n",
       "  </thead>\n",
       "  <tbody>\n",
       "    <tr>\n",
       "      <td>0</td>\n",
       "      <td>0001f83c-c6ac-4621-b7f0-8a28b283ac30</td>\n",
       "      <td>facebook_ads</td>\n",
       "    </tr>\n",
       "    <tr>\n",
       "      <td>1</td>\n",
       "      <td>00151b4f-ba38-44a8-a650-d7cf130a0105</td>\n",
       "      <td>yandex_direct</td>\n",
       "    </tr>\n",
       "    <tr>\n",
       "      <td>2</td>\n",
       "      <td>001aaea6-3d14-43f1-8ca8-7f48820f17aa</td>\n",
       "      <td>youtube_channel_reklama</td>\n",
       "    </tr>\n",
       "    <tr>\n",
       "      <td>3</td>\n",
       "      <td>001d39dc-366c-4021-9604-6a3b9ff01e25</td>\n",
       "      <td>instagram_new_adverts</td>\n",
       "    </tr>\n",
       "    <tr>\n",
       "      <td>4</td>\n",
       "      <td>002f508f-67b6-479f-814b-b05f00d4e995</td>\n",
       "      <td>facebook_ads</td>\n",
       "    </tr>\n",
       "  </tbody>\n",
       "</table>\n",
       "</div>"
      ],
      "text/plain": [
       "                                user_id                   source\n",
       "0  0001f83c-c6ac-4621-b7f0-8a28b283ac30             facebook_ads\n",
       "1  00151b4f-ba38-44a8-a650-d7cf130a0105            yandex_direct\n",
       "2  001aaea6-3d14-43f1-8ca8-7f48820f17aa  youtube_channel_reklama\n",
       "3  001d39dc-366c-4021-9604-6a3b9ff01e25    instagram_new_adverts\n",
       "4  002f508f-67b6-479f-814b-b05f00d4e995             facebook_ads"
      ]
     },
     "execution_count": 16,
     "metadata": {},
     "output_type": "execute_result"
    }
   ],
   "source": [
    "user_source.head()"
   ]
  },
  {
   "cell_type": "markdown",
   "metadata": {
    "id": "cfu4IBmtOYIm"
   },
   "source": [
    "[План](#section_id_0) \n"
   ]
  },
  {
   "cell_type": "markdown",
   "metadata": {
    "id": "fJODsE5lOYIm"
   },
   "source": [
    "## 1.2. Общая информация <a id='section_id_2'></a>"
   ]
  },
  {
   "cell_type": "markdown",
   "metadata": {
    "id": "jTtC4bDLlwbV"
   },
   "source": [
    "### game_actions"
   ]
  },
  {
   "cell_type": "code",
   "execution_count": 17,
   "metadata": {
    "colab": {
     "base_uri": "https://localhost:8080/",
     "height": 195
    },
    "id": "mwkyfYbbw1kD",
    "outputId": "3b3b8775-d086-4991-be61-6b17fe24bc48"
   },
   "outputs": [
    {
     "data": {
      "text/html": [
       "<div>\n",
       "<style scoped>\n",
       "    .dataframe tbody tr th:only-of-type {\n",
       "        vertical-align: middle;\n",
       "    }\n",
       "\n",
       "    .dataframe tbody tr th {\n",
       "        vertical-align: top;\n",
       "    }\n",
       "\n",
       "    .dataframe thead th {\n",
       "        text-align: right;\n",
       "    }\n",
       "</style>\n",
       "<table border=\"1\" class=\"dataframe\">\n",
       "  <thead>\n",
       "    <tr style=\"text-align: right;\">\n",
       "      <th></th>\n",
       "      <th>event_datetime</th>\n",
       "      <th>event</th>\n",
       "      <th>building_type</th>\n",
       "      <th>user_id</th>\n",
       "      <th>project_type</th>\n",
       "    </tr>\n",
       "  </thead>\n",
       "  <tbody>\n",
       "    <tr>\n",
       "      <td>0</td>\n",
       "      <td>2020-05-04 00:00:01</td>\n",
       "      <td>building</td>\n",
       "      <td>assembly_shop</td>\n",
       "      <td>55e92310-cb8e-4754-b622-597e124b03de</td>\n",
       "      <td>NaN</td>\n",
       "    </tr>\n",
       "    <tr>\n",
       "      <td>1</td>\n",
       "      <td>2020-05-04 00:00:03</td>\n",
       "      <td>building</td>\n",
       "      <td>assembly_shop</td>\n",
       "      <td>c07b1c10-f477-44dc-81dc-ec82254b1347</td>\n",
       "      <td>NaN</td>\n",
       "    </tr>\n",
       "    <tr>\n",
       "      <td>2</td>\n",
       "      <td>2020-05-04 00:00:16</td>\n",
       "      <td>building</td>\n",
       "      <td>assembly_shop</td>\n",
       "      <td>6edd42cc-e753-4ff6-a947-2107cd560710</td>\n",
       "      <td>NaN</td>\n",
       "    </tr>\n",
       "    <tr>\n",
       "      <td>3</td>\n",
       "      <td>2020-05-04 00:00:16</td>\n",
       "      <td>building</td>\n",
       "      <td>assembly_shop</td>\n",
       "      <td>92c69003-d60a-444a-827f-8cc51bf6bf4c</td>\n",
       "      <td>NaN</td>\n",
       "    </tr>\n",
       "    <tr>\n",
       "      <td>4</td>\n",
       "      <td>2020-05-04 00:00:35</td>\n",
       "      <td>building</td>\n",
       "      <td>assembly_shop</td>\n",
       "      <td>cdc6bb92-0ccb-4490-9866-ef142f09139d</td>\n",
       "      <td>NaN</td>\n",
       "    </tr>\n",
       "  </tbody>\n",
       "</table>\n",
       "</div>"
      ],
      "text/plain": [
       "        event_datetime     event  building_type  \\\n",
       "0  2020-05-04 00:00:01  building  assembly_shop   \n",
       "1  2020-05-04 00:00:03  building  assembly_shop   \n",
       "2  2020-05-04 00:00:16  building  assembly_shop   \n",
       "3  2020-05-04 00:00:16  building  assembly_shop   \n",
       "4  2020-05-04 00:00:35  building  assembly_shop   \n",
       "\n",
       "                                user_id project_type  \n",
       "0  55e92310-cb8e-4754-b622-597e124b03de          NaN  \n",
       "1  c07b1c10-f477-44dc-81dc-ec82254b1347          NaN  \n",
       "2  6edd42cc-e753-4ff6-a947-2107cd560710          NaN  \n",
       "3  92c69003-d60a-444a-827f-8cc51bf6bf4c          NaN  \n",
       "4  cdc6bb92-0ccb-4490-9866-ef142f09139d          NaN  "
      ]
     },
     "execution_count": 17,
     "metadata": {},
     "output_type": "execute_result"
    }
   ],
   "source": [
    "game_actions.head(5)"
   ]
  },
  {
   "cell_type": "markdown",
   "metadata": {},
   "source": [
    "заголовки написаны латиницей в нижнем регистре"
   ]
  },
  {
   "cell_type": "code",
   "execution_count": 18,
   "metadata": {
    "colab": {
     "base_uri": "https://localhost:8080/"
    },
    "id": "jVZkQA-3xeWv",
    "outputId": "59a42e94-4e1a-41f1-9889-1477a369a89d"
   },
   "outputs": [
    {
     "data": {
      "text/plain": [
       "(135640, 5)"
      ]
     },
     "execution_count": 18,
     "metadata": {},
     "output_type": "execute_result"
    }
   ],
   "source": [
    "game_actions.shape"
   ]
  },
  {
   "cell_type": "code",
   "execution_count": 19,
   "metadata": {
    "colab": {
     "base_uri": "https://localhost:8080/"
    },
    "id": "HjpySi3_w3AH",
    "outputId": "b4d573e8-4abd-454e-86fe-10470e93fe00"
   },
   "outputs": [
    {
     "data": {
      "text/plain": [
       "event_datetime    object\n",
       "event             object\n",
       "building_type     object\n",
       "user_id           object\n",
       "project_type      object\n",
       "dtype: object"
      ]
     },
     "execution_count": 19,
     "metadata": {},
     "output_type": "execute_result"
    }
   ],
   "source": [
    "game_actions.dtypes"
   ]
  },
  {
   "cell_type": "markdown",
   "metadata": {},
   "source": [
    "столбец **event_datetime** не соответствует типу данных дата"
   ]
  },
  {
   "cell_type": "code",
   "execution_count": 20,
   "metadata": {},
   "outputs": [
    {
     "data": {
      "text/plain": [
       "event_datetime    0.000000\n",
       "event             0.000000\n",
       "building_type     0.056643\n",
       "user_id           0.000000\n",
       "project_type      0.986243\n",
       "dtype: float64"
      ]
     },
     "execution_count": 20,
     "metadata": {},
     "output_type": "execute_result"
    }
   ],
   "source": [
    "game_actions.isna().mean()"
   ]
  },
  {
   "cell_type": "markdown",
   "metadata": {},
   "source": [
    "есть пропуски в **building_type**, и очень много пропусков (98%) в **project_type**"
   ]
  },
  {
   "cell_type": "code",
   "execution_count": 21,
   "metadata": {},
   "outputs": [
    {
     "data": {
      "text/plain": [
       "1"
      ]
     },
     "execution_count": 21,
     "metadata": {},
     "output_type": "execute_result"
    }
   ],
   "source": [
    "game_actions.duplicated().sum()"
   ]
  },
  {
   "cell_type": "markdown",
   "metadata": {},
   "source": [
    "есть один дубликат"
   ]
  },
  {
   "cell_type": "code",
   "execution_count": 22,
   "metadata": {
    "colab": {
     "base_uri": "https://localhost:8080/"
    },
    "id": "YbEdMrxIx6pC",
    "outputId": "bd79e947-0196-4ead-c616-6c7ddfea835f"
   },
   "outputs": [
    {
     "data": {
      "text/plain": [
       "building            127957\n",
       "finished_stage_1      5817\n",
       "project               1866\n",
       "Name: event, dtype: int64"
      ]
     },
     "execution_count": 22,
     "metadata": {},
     "output_type": "execute_result"
    }
   ],
   "source": [
    "game_actions['event'].value_counts(dropna=False)"
   ]
  },
  {
   "cell_type": "markdown",
   "metadata": {},
   "source": [
    "есть три типа событий;  \n",
    "чаще всего встречается *building* (\"постройка обьекта\") - 127957 раз;"
   ]
  },
  {
   "cell_type": "code",
   "execution_count": 23,
   "metadata": {
    "colab": {
     "base_uri": "https://localhost:8080/"
    },
    "id": "0O2utkLCyE5W",
    "outputId": "512b84da-f121-48a7-ba64-d6ad6b74ed11"
   },
   "outputs": [
    {
     "data": {
      "text/plain": [
       "spaceport          59325\n",
       "assembly_shop      54494\n",
       "research_center    14138\n",
       "NaN                 7683\n",
       "Name: building_type, dtype: int64"
      ]
     },
     "execution_count": 23,
     "metadata": {},
     "output_type": "execute_result"
    }
   ],
   "source": [
    "game_actions['building_type'].value_counts(dropna=False)"
   ]
  },
  {
   "cell_type": "code",
   "execution_count": 24,
   "metadata": {},
   "outputs": [
    {
     "data": {
      "text/plain": [
       "127957"
      ]
     },
     "execution_count": 24,
     "metadata": {},
     "output_type": "execute_result"
    }
   ],
   "source": [
    "game_actions['building_type'].count()"
   ]
  },
  {
   "cell_type": "markdown",
   "metadata": {},
   "source": [
    "есть три типа постройки;  \n",
    "есть пропуски - 7683;  \n",
    "количество всех строений равно всем упоминаниям события *building* из столбца **event** - 127957"
   ]
  },
  {
   "cell_type": "code",
   "execution_count": 25,
   "metadata": {},
   "outputs": [
    {
     "data": {
      "text/plain": [
       "135640"
      ]
     },
     "execution_count": 25,
     "metadata": {},
     "output_type": "execute_result"
    }
   ],
   "source": [
    "game_actions['user_id'].count()"
   ]
  },
  {
   "cell_type": "code",
   "execution_count": 26,
   "metadata": {},
   "outputs": [
    {
     "data": {
      "text/plain": [
       "13576"
      ]
     },
     "execution_count": 26,
     "metadata": {},
     "output_type": "execute_result"
    }
   ],
   "source": [
    "game_actions['user_id'].nunique()"
   ]
  },
  {
   "cell_type": "markdown",
   "metadata": {},
   "source": [
    "количество уникальных пользователей **13576** человек"
   ]
  },
  {
   "cell_type": "code",
   "execution_count": 27,
   "metadata": {
    "colab": {
     "base_uri": "https://localhost:8080/"
    },
    "id": "zFMrdsqnxbqM",
    "outputId": "56d549b3-1e99-473a-edf9-a3cf7e8b5537"
   },
   "outputs": [
    {
     "data": {
      "text/plain": [
       "NaN                           133774\n",
       "satellite_orbital_assembly      1866\n",
       "Name: project_type, dtype: int64"
      ]
     },
     "execution_count": 27,
     "metadata": {},
     "output_type": "execute_result"
    }
   ],
   "source": [
    "game_actions['project_type'].value_counts(dropna=False)"
   ]
  },
  {
   "cell_type": "markdown",
   "metadata": {},
   "source": [
    "имется только одно событие, **1866** реализованных проекта - \"разработка орбитальной сборки спутников\" - что соответствует всем упоминаниям события *project* столбца **event**"
   ]
  },
  {
   "cell_type": "markdown",
   "metadata": {},
   "source": [
    "  \n",
    "- в таблице **game_actions** есть пропуски, но они логически обоснованны  \n",
    "- есть один дубликат  \n",
    "- так же не обходимо заменить тип данных в столбце **event_datetime**"
   ]
  },
  {
   "cell_type": "markdown",
   "metadata": {
    "id": "TYypXKQPlRuS"
   },
   "source": [
    "### ad_costs"
   ]
  },
  {
   "cell_type": "code",
   "execution_count": 28,
   "metadata": {
    "colab": {
     "base_uri": "https://localhost:8080/",
     "height": 195
    },
    "id": "HZ5hkbUffy9i",
    "outputId": "d0f889df-2cf7-40db-f762-075e94b83774"
   },
   "outputs": [
    {
     "data": {
      "text/html": [
       "<div>\n",
       "<style scoped>\n",
       "    .dataframe tbody tr th:only-of-type {\n",
       "        vertical-align: middle;\n",
       "    }\n",
       "\n",
       "    .dataframe tbody tr th {\n",
       "        vertical-align: top;\n",
       "    }\n",
       "\n",
       "    .dataframe thead th {\n",
       "        text-align: right;\n",
       "    }\n",
       "</style>\n",
       "<table border=\"1\" class=\"dataframe\">\n",
       "  <thead>\n",
       "    <tr style=\"text-align: right;\">\n",
       "      <th></th>\n",
       "      <th>source</th>\n",
       "      <th>day</th>\n",
       "      <th>cost</th>\n",
       "    </tr>\n",
       "  </thead>\n",
       "  <tbody>\n",
       "    <tr>\n",
       "      <td>0</td>\n",
       "      <td>facebook_ads</td>\n",
       "      <td>2020-05-03</td>\n",
       "      <td>935.882786</td>\n",
       "    </tr>\n",
       "    <tr>\n",
       "      <td>1</td>\n",
       "      <td>facebook_ads</td>\n",
       "      <td>2020-05-04</td>\n",
       "      <td>548.354480</td>\n",
       "    </tr>\n",
       "    <tr>\n",
       "      <td>2</td>\n",
       "      <td>facebook_ads</td>\n",
       "      <td>2020-05-05</td>\n",
       "      <td>260.185754</td>\n",
       "    </tr>\n",
       "    <tr>\n",
       "      <td>3</td>\n",
       "      <td>facebook_ads</td>\n",
       "      <td>2020-05-06</td>\n",
       "      <td>177.982200</td>\n",
       "    </tr>\n",
       "    <tr>\n",
       "      <td>4</td>\n",
       "      <td>facebook_ads</td>\n",
       "      <td>2020-05-07</td>\n",
       "      <td>111.766796</td>\n",
       "    </tr>\n",
       "  </tbody>\n",
       "</table>\n",
       "</div>"
      ],
      "text/plain": [
       "         source         day        cost\n",
       "0  facebook_ads  2020-05-03  935.882786\n",
       "1  facebook_ads  2020-05-04  548.354480\n",
       "2  facebook_ads  2020-05-05  260.185754\n",
       "3  facebook_ads  2020-05-06  177.982200\n",
       "4  facebook_ads  2020-05-07  111.766796"
      ]
     },
     "execution_count": 28,
     "metadata": {},
     "output_type": "execute_result"
    }
   ],
   "source": [
    "ad_costs.head(5)"
   ]
  },
  {
   "cell_type": "code",
   "execution_count": 29,
   "metadata": {
    "colab": {
     "base_uri": "https://localhost:8080/"
    },
    "id": "VXF2DRhXkZXW",
    "outputId": "a3da2f3c-953f-4b88-9c63-1c697ed3509a"
   },
   "outputs": [
    {
     "data": {
      "text/plain": [
       "(28, 3)"
      ]
     },
     "execution_count": 29,
     "metadata": {},
     "output_type": "execute_result"
    }
   ],
   "source": [
    "ad_costs.shape"
   ]
  },
  {
   "cell_type": "code",
   "execution_count": 30,
   "metadata": {
    "colab": {
     "base_uri": "https://localhost:8080/"
    },
    "id": "oHQe5jnXlCY-",
    "outputId": "0f4d535a-3da7-479c-cdae-0a8fc0a4f916"
   },
   "outputs": [
    {
     "data": {
      "text/plain": [
       "source     object\n",
       "day        object\n",
       "cost      float64\n",
       "dtype: object"
      ]
     },
     "execution_count": 30,
     "metadata": {},
     "output_type": "execute_result"
    }
   ],
   "source": [
    "ad_costs.dtypes"
   ]
  },
  {
   "cell_type": "markdown",
   "metadata": {},
   "source": [
    "тип данных в **day** привести к типу данных дата"
   ]
  },
  {
   "cell_type": "code",
   "execution_count": 31,
   "metadata": {},
   "outputs": [
    {
     "data": {
      "text/plain": [
       "source    0.0\n",
       "day       0.0\n",
       "cost      0.0\n",
       "dtype: float64"
      ]
     },
     "execution_count": 31,
     "metadata": {},
     "output_type": "execute_result"
    }
   ],
   "source": [
    "ad_costs.isna().mean()"
   ]
  },
  {
   "cell_type": "markdown",
   "metadata": {},
   "source": [
    "пропусков нет"
   ]
  },
  {
   "cell_type": "code",
   "execution_count": 32,
   "metadata": {},
   "outputs": [
    {
     "data": {
      "text/plain": [
       "0"
      ]
     },
     "execution_count": 32,
     "metadata": {},
     "output_type": "execute_result"
    }
   ],
   "source": [
    "ad_costs.duplicated().sum()"
   ]
  },
  {
   "cell_type": "markdown",
   "metadata": {},
   "source": [
    "дубликатов нет"
   ]
  },
  {
   "cell_type": "code",
   "execution_count": 33,
   "metadata": {
    "colab": {
     "base_uri": "https://localhost:8080/"
    },
    "id": "fR3abyHskztE",
    "outputId": "1ea927fe-19c3-4a1b-fbfc-218a29a29b8c"
   },
   "outputs": [
    {
     "data": {
      "text/plain": [
       "facebook_ads               7\n",
       "youtube_channel_reklama    7\n",
       "instagram_new_adverts      7\n",
       "yandex_direct              7\n",
       "Name: source, dtype: int64"
      ]
     },
     "execution_count": 33,
     "metadata": {},
     "output_type": "execute_result"
    }
   ],
   "source": [
    "ad_costs['source'].value_counts()"
   ]
  },
  {
   "cell_type": "markdown",
   "metadata": {},
   "source": [
    "имеем четыре источника рекламы"
   ]
  },
  {
   "cell_type": "code",
   "execution_count": 34,
   "metadata": {},
   "outputs": [
    {
     "data": {
      "text/plain": [
       "count     28.000000\n",
       "mean     271.556321\n",
       "std      286.867650\n",
       "min       23.314669\n",
       "25%       66.747365\n",
       "50%      160.056443\n",
       "75%      349.034473\n",
       "max      969.139394\n",
       "Name: cost, dtype: float64"
      ]
     },
     "execution_count": 34,
     "metadata": {},
     "output_type": "execute_result"
    }
   ],
   "source": [
    "ad_costs['cost'].describe()"
   ]
  },
  {
   "cell_type": "code",
   "execution_count": 35,
   "metadata": {},
   "outputs": [
    {
     "data": {
      "image/png": "[encoded data removed]",
      "text/plain": [
       "<Figure size 720x360 with 1 Axes>"
      ]
     },
     "metadata": {},
     "output_type": "display_data"
    }
   ],
   "source": [
    "ad_costs['cost'].hist(figsize=(10,5),bins=20);"
   ]
  },
  {
   "cell_type": "markdown",
   "metadata": {},
   "source": [
    "**cost** это стоимость кликов различных источников рекламы, в различные дни;  \n",
    "минимальная стоимость клика 23 у.е.;  \n",
    "максимальная стоимость клика 969 у.е.;  \n",
    "среднее и медиана 271 и 160 соответственно, со стандарнтным отклонением 286 у.е.;  \n",
    "разброс не однороден, наблюдений всего 28, это слишком мало, что бы делать какие либо выводы"
   ]
  },
  {
   "cell_type": "markdown",
   "metadata": {},
   "source": [
    "- в таблице **ad_costs** пропусков нет   \n",
    "- заменить тип данных в столбце **day** на тип данных даты"
   ]
  },
  {
   "cell_type": "markdown",
   "metadata": {
    "id": "RnikgsellK1s"
   },
   "source": [
    "### user_source"
   ]
  },
  {
   "cell_type": "code",
   "execution_count": 36,
   "metadata": {
    "colab": {
     "base_uri": "https://localhost:8080/",
     "height": 195
    },
    "id": "ehNKeNuhgC5n",
    "outputId": "9d3190c6-8def-4d85-bcdc-2ac0e24fa4e4"
   },
   "outputs": [
    {
     "data": {
      "text/html": [
       "<div>\n",
       "<style scoped>\n",
       "    .dataframe tbody tr th:only-of-type {\n",
       "        vertical-align: middle;\n",
       "    }\n",
       "\n",
       "    .dataframe tbody tr th {\n",
       "        vertical-align: top;\n",
       "    }\n",
       "\n",
       "    .dataframe thead th {\n",
       "        text-align: right;\n",
       "    }\n",
       "</style>\n",
       "<table border=\"1\" class=\"dataframe\">\n",
       "  <thead>\n",
       "    <tr style=\"text-align: right;\">\n",
       "      <th></th>\n",
       "      <th>user_id</th>\n",
       "      <th>source</th>\n",
       "    </tr>\n",
       "  </thead>\n",
       "  <tbody>\n",
       "    <tr>\n",
       "      <td>0</td>\n",
       "      <td>0001f83c-c6ac-4621-b7f0-8a28b283ac30</td>\n",
       "      <td>facebook_ads</td>\n",
       "    </tr>\n",
       "    <tr>\n",
       "      <td>1</td>\n",
       "      <td>00151b4f-ba38-44a8-a650-d7cf130a0105</td>\n",
       "      <td>yandex_direct</td>\n",
       "    </tr>\n",
       "    <tr>\n",
       "      <td>2</td>\n",
       "      <td>001aaea6-3d14-43f1-8ca8-7f48820f17aa</td>\n",
       "      <td>youtube_channel_reklama</td>\n",
       "    </tr>\n",
       "    <tr>\n",
       "      <td>3</td>\n",
       "      <td>001d39dc-366c-4021-9604-6a3b9ff01e25</td>\n",
       "      <td>instagram_new_adverts</td>\n",
       "    </tr>\n",
       "    <tr>\n",
       "      <td>4</td>\n",
       "      <td>002f508f-67b6-479f-814b-b05f00d4e995</td>\n",
       "      <td>facebook_ads</td>\n",
       "    </tr>\n",
       "  </tbody>\n",
       "</table>\n",
       "</div>"
      ],
      "text/plain": [
       "                                user_id                   source\n",
       "0  0001f83c-c6ac-4621-b7f0-8a28b283ac30             facebook_ads\n",
       "1  00151b4f-ba38-44a8-a650-d7cf130a0105            yandex_direct\n",
       "2  001aaea6-3d14-43f1-8ca8-7f48820f17aa  youtube_channel_reklama\n",
       "3  001d39dc-366c-4021-9604-6a3b9ff01e25    instagram_new_adverts\n",
       "4  002f508f-67b6-479f-814b-b05f00d4e995             facebook_ads"
      ]
     },
     "execution_count": 36,
     "metadata": {},
     "output_type": "execute_result"
    }
   ],
   "source": [
    "user_source.head(5)"
   ]
  },
  {
   "cell_type": "code",
   "execution_count": 37,
   "metadata": {
    "colab": {
     "base_uri": "https://localhost:8080/"
    },
    "id": "pbIDcD25gGRz",
    "outputId": "42009d8f-0585-4563-d443-0e26636f6de8"
   },
   "outputs": [
    {
     "data": {
      "text/plain": [
       "(13576, 2)"
      ]
     },
     "execution_count": 37,
     "metadata": {},
     "output_type": "execute_result"
    }
   ],
   "source": [
    "user_source.shape"
   ]
  },
  {
   "cell_type": "code",
   "execution_count": 38,
   "metadata": {
    "colab": {
     "base_uri": "https://localhost:8080/"
    },
    "id": "_mlPpTfSlbGY",
    "outputId": "601e8d88-50f7-45e2-8931-8acde49c97ae",
    "scrolled": true
   },
   "outputs": [
    {
     "data": {
      "text/plain": [
       "user_id    object\n",
       "source     object\n",
       "dtype: object"
      ]
     },
     "execution_count": 38,
     "metadata": {},
     "output_type": "execute_result"
    }
   ],
   "source": [
    "user_source.dtypes"
   ]
  },
  {
   "cell_type": "code",
   "execution_count": 39,
   "metadata": {},
   "outputs": [
    {
     "data": {
      "text/plain": [
       "user_id    0.0\n",
       "source     0.0\n",
       "dtype: float64"
      ]
     },
     "execution_count": 39,
     "metadata": {},
     "output_type": "execute_result"
    }
   ],
   "source": [
    "user_source.isna().mean()"
   ]
  },
  {
   "cell_type": "code",
   "execution_count": 40,
   "metadata": {},
   "outputs": [
    {
     "data": {
      "text/plain": [
       "0"
      ]
     },
     "execution_count": 40,
     "metadata": {},
     "output_type": "execute_result"
    }
   ],
   "source": [
    "user_source.duplicated().sum()"
   ]
  },
  {
   "cell_type": "code",
   "execution_count": 41,
   "metadata": {},
   "outputs": [
    {
     "data": {
      "text/plain": [
       "13576"
      ]
     },
     "execution_count": 41,
     "metadata": {},
     "output_type": "execute_result"
    }
   ],
   "source": [
    "user_source['user_id'].nunique()"
   ]
  },
  {
   "cell_type": "markdown",
   "metadata": {},
   "source": [
    "в таблице **user_source** все пользователи уникальны  \n",
    "это количество соответствует количеству уникальных пользователей в таблице **game_actions**"
   ]
  },
  {
   "cell_type": "code",
   "execution_count": 42,
   "metadata": {
    "colab": {
     "base_uri": "https://localhost:8080/"
    },
    "id": "-JUpHGmaldzt",
    "outputId": "49b210e6-9ba5-470b-b5f6-88033ee80264"
   },
   "outputs": [
    {
     "data": {
      "text/plain": [
       "yandex_direct              4817\n",
       "instagram_new_adverts      3347\n",
       "facebook_ads               2726\n",
       "youtube_channel_reklama    2686\n",
       "Name: source, dtype: int64"
      ]
     },
     "execution_count": 42,
     "metadata": {},
     "output_type": "execute_result"
    }
   ],
   "source": [
    "user_source['source'].value_counts(dropna=False)"
   ]
  },
  {
   "cell_type": "markdown",
   "metadata": {},
   "source": [
    "имеем четыре источника рекламы"
   ]
  },
  {
   "cell_type": "markdown",
   "metadata": {
    "id": "nC-qAeQFyNIM"
   },
   "source": [
    "- дубликатов в таблице нет  \n",
    "- пропусков нет  \n",
    "- типы данных впорядке"
   ]
  },
  {
   "cell_type": "markdown",
   "metadata": {
    "id": "cfu4IBmtOYIm"
   },
   "source": [
    "[План](#section_id_0) "
   ]
  },
  {
   "cell_type": "markdown",
   "metadata": {},
   "source": [
    "## 1.3. Предобработка <a id='section_id_3'></a>"
   ]
  },
  {
   "cell_type": "markdown",
   "metadata": {},
   "source": [
    "### типы данных"
   ]
  },
  {
   "cell_type": "code",
   "execution_count": 43,
   "metadata": {},
   "outputs": [],
   "source": [
    "game_actions['event_datetime'] = pd.to_datetime(game_actions['event_datetime'])"
   ]
  },
  {
   "cell_type": "code",
   "execution_count": 44,
   "metadata": {},
   "outputs": [],
   "source": [
    "game_actions['event_date'] = game_actions['event_datetime'].dt.date.astype('datetime64')"
   ]
  },
  {
   "cell_type": "code",
   "execution_count": 45,
   "metadata": {},
   "outputs": [
    {
     "data": {
      "text/plain": [
       "event_datetime    datetime64[ns]\n",
       "event                     object\n",
       "building_type             object\n",
       "user_id                   object\n",
       "project_type              object\n",
       "event_date        datetime64[ns]\n",
       "dtype: object"
      ]
     },
     "execution_count": 45,
     "metadata": {},
     "output_type": "execute_result"
    }
   ],
   "source": [
    "game_actions.dtypes"
   ]
  },
  {
   "cell_type": "markdown",
   "metadata": {},
   "source": [
    "таблица **game_actions**, столбец ***event_datetime***, тип данных привели к datetime64[ns]  \n",
    "вывели отдельно дату из стобца ***event_datetime*** в отдельный столбец ***event_date***"
   ]
  },
  {
   "cell_type": "code",
   "execution_count": 46,
   "metadata": {},
   "outputs": [],
   "source": [
    "ad_costs['day'] = pd.to_datetime(ad_costs['day'])"
   ]
  },
  {
   "cell_type": "code",
   "execution_count": 47,
   "metadata": {},
   "outputs": [
    {
     "data": {
      "text/plain": [
       "source            object\n",
       "day       datetime64[ns]\n",
       "cost             float64\n",
       "dtype: object"
      ]
     },
     "execution_count": 47,
     "metadata": {},
     "output_type": "execute_result"
    }
   ],
   "source": [
    "ad_costs.dtypes"
   ]
  },
  {
   "cell_type": "markdown",
   "metadata": {},
   "source": [
    "### дубликаты"
   ]
  },
  {
   "cell_type": "code",
   "execution_count": 48,
   "metadata": {},
   "outputs": [
    {
     "data": {
      "text/html": [
       "<div>\n",
       "<style scoped>\n",
       "    .dataframe tbody tr th:only-of-type {\n",
       "        vertical-align: middle;\n",
       "    }\n",
       "\n",
       "    .dataframe tbody tr th {\n",
       "        vertical-align: top;\n",
       "    }\n",
       "\n",
       "    .dataframe thead th {\n",
       "        text-align: right;\n",
       "    }\n",
       "</style>\n",
       "<table border=\"1\" class=\"dataframe\">\n",
       "  <thead>\n",
       "    <tr style=\"text-align: right;\">\n",
       "      <th></th>\n",
       "      <th>event_datetime</th>\n",
       "      <th>event</th>\n",
       "      <th>building_type</th>\n",
       "      <th>user_id</th>\n",
       "      <th>project_type</th>\n",
       "      <th>event_date</th>\n",
       "    </tr>\n",
       "  </thead>\n",
       "  <tbody>\n",
       "    <tr>\n",
       "      <td>74890</td>\n",
       "      <td>2020-05-10 18:41:56</td>\n",
       "      <td>building</td>\n",
       "      <td>research_center</td>\n",
       "      <td>c9af55d2-b0ae-4bb4-b3d5-f32aa9ac03af</td>\n",
       "      <td>NaN</td>\n",
       "      <td>2020-05-10</td>\n",
       "    </tr>\n",
       "    <tr>\n",
       "      <td>74891</td>\n",
       "      <td>2020-05-10 18:41:56</td>\n",
       "      <td>building</td>\n",
       "      <td>research_center</td>\n",
       "      <td>c9af55d2-b0ae-4bb4-b3d5-f32aa9ac03af</td>\n",
       "      <td>NaN</td>\n",
       "      <td>2020-05-10</td>\n",
       "    </tr>\n",
       "  </tbody>\n",
       "</table>\n",
       "</div>"
      ],
      "text/plain": [
       "           event_datetime     event    building_type  \\\n",
       "74890 2020-05-10 18:41:56  building  research_center   \n",
       "74891 2020-05-10 18:41:56  building  research_center   \n",
       "\n",
       "                                    user_id project_type event_date  \n",
       "74890  c9af55d2-b0ae-4bb4-b3d5-f32aa9ac03af          NaN 2020-05-10  \n",
       "74891  c9af55d2-b0ae-4bb4-b3d5-f32aa9ac03af          NaN 2020-05-10  "
      ]
     },
     "execution_count": 48,
     "metadata": {},
     "output_type": "execute_result"
    }
   ],
   "source": [
    "game_actions[game_actions.duplicated(keep=False)]"
   ]
  },
  {
   "cell_type": "markdown",
   "metadata": {},
   "source": [
    "строка продублировалась полностью, похоже на техническую ошибку; один дубликат можно удалить"
   ]
  },
  {
   "cell_type": "code",
   "execution_count": 49,
   "metadata": {},
   "outputs": [
    {
     "data": {
      "text/plain": [
       "0"
      ]
     },
     "execution_count": 49,
     "metadata": {},
     "output_type": "execute_result"
    }
   ],
   "source": [
    "game_actions = game_actions.drop_duplicates()\n",
    "game_actions.duplicated().sum()"
   ]
  },
  {
   "cell_type": "markdown",
   "metadata": {},
   "source": [
    "- типы данных в столбцах с датой преведы к типу *datetime64[ns]*  \n",
    "- пропусков нет  \n",
    "- дубликатов нет\n",
    "- заголовки впорядке\n",
    "- можно приступать к анализу"
   ]
  },
  {
   "cell_type": "markdown",
   "metadata": {
    "id": "cfu4IBmtOYIm"
   },
   "source": [
    "[План](#section_id_0) "
   ]
  },
  {
   "cell_type": "markdown",
   "metadata": {
    "id": "RlEPO9fOOYIc"
   },
   "source": [
    "<BR> <a id='section_id_5'></a>\n",
    "\n",
    "***  \n",
    "\n",
    "<BR>\n"
   ]
  },
  {
   "cell_type": "markdown",
   "metadata": {
    "id": "LQJuLVP0OYIn"
   },
   "source": [
    "# 2. Анализ данных "
   ]
  },
  {
   "cell_type": "markdown",
   "metadata": {},
   "source": [
    "## 2.1. Общий анализ <a id='section_id_51'></a>"
   ]
  },
  {
   "cell_type": "code",
   "execution_count": 50,
   "metadata": {},
   "outputs": [
    {
     "name": "stdout",
     "output_type": "stream",
     "text": [
      "Общее количество пользователей: 135639\n",
      "Кол-во уникальных пользователей: 13576\n"
     ]
    }
   ],
   "source": [
    "print('Общее количество пользователей:', game_actions['user_id'].count())\n",
    "print('Кол-во уникальных пользователей:', game_actions['user_id'].nunique())"
   ]
  },
  {
   "cell_type": "code",
   "execution_count": 51,
   "metadata": {},
   "outputs": [
    {
     "data": {
      "text/plain": [
       "Timestamp('2020-05-04 00:00:01')"
      ]
     },
     "metadata": {},
     "output_type": "display_data"
    },
    {
     "data": {
      "text/plain": [
       "Timestamp('2020-06-05 12:32:49')"
      ]
     },
     "metadata": {},
     "output_type": "display_data"
    }
   ],
   "source": [
    "display(game_actions['event_datetime'].min())\n",
    "display(game_actions['event_datetime'].max())"
   ]
  },
  {
   "cell_type": "markdown",
   "metadata": {},
   "source": [
    "данные в таблице **game_actions** представлены с 4 мая 2020 года по 5 июня 2020 года"
   ]
  },
  {
   "cell_type": "code",
   "execution_count": 52,
   "metadata": {},
   "outputs": [
    {
     "data": {
      "text/plain": [
       "Timestamp('2020-05-03 00:00:00')"
      ]
     },
     "metadata": {},
     "output_type": "display_data"
    },
    {
     "data": {
      "text/plain": [
       "Timestamp('2020-05-09 00:00:00')"
      ]
     },
     "metadata": {},
     "output_type": "display_data"
    }
   ],
   "source": [
    "display(ad_costs['day'].min())\n",
    "display(ad_costs['day'].max())"
   ]
  },
  {
   "cell_type": "markdown",
   "metadata": {},
   "source": [
    "данные в таблице **ad_costs** представлены с 3 мая 2020 года по 9 мая 2020 года, реклама закупалась всего 6 дней;  \n",
    "приложением начали пользоваться в период с 4 по 10 мая включительно;  \n",
    "судя по данным, реклама покупалась за день до предоставленных в таблице **game_actions** логов"
   ]
  },
  {
   "cell_type": "markdown",
   "metadata": {
    "id": "cfu4IBmtOYIm"
   },
   "source": [
    "[План](#section_id_0) \n"
   ]
  },
  {
   "cell_type": "markdown",
   "metadata": {},
   "source": [
    "## 2.2. Распределение построек по времени <a id='section_id_52'></a>"
   ]
  },
  {
   "cell_type": "code",
   "execution_count": 53,
   "metadata": {},
   "outputs": [],
   "source": [
    "buildingtype = game_actions.groupby(['event_date', 'building_type'])['user_id']. \\\n",
    "                            count(). \\\n",
    "                            reset_index(). \\\n",
    "                            rename({'user_id':'count'}, axis=1)"
   ]
  },
  {
   "cell_type": "code",
   "execution_count": 54,
   "metadata": {},
   "outputs": [
    {
     "name": "stderr",
     "output_type": "stream",
     "text": [
      "/opt/conda/lib/python3.7/site-packages/pandas/plotting/_matplotlib/converter.py:103: FutureWarning:\n",
      "\n",
      "Using an implicitly registered datetime converter for a matplotlib plotting method. The converter was registered by pandas on import. Future versions of pandas will require you to explicitly register matplotlib converters.\n",
      "\n",
      "To register the converters:\n",
      "\t>>> from pandas.plotting import register_matplotlib_converters\n",
      "\t>>> register_matplotlib_converters()\n",
      "\n"
     ]
    },
    {
     "data": {
      "image/png": "[encoded data removed]",
      "text/plain": [
       "<Figure size 939.6x360 with 1 Axes>"
      ]
     },
     "metadata": {},
     "output_type": "display_data"
    }
   ],
   "source": [
    "sns.relplot(data=buildingtype, x='event_date', y='count', hue='building_type', kind='line', aspect=18/8)\n",
    "plt.title('\\nРаспределение построек по времени\\n')\n",
    "plt.ylabel('Кол-во построек\\n')\n",
    "plt.xlabel('\\nДата постройки');"
   ]
  },
  {
   "cell_type": "markdown",
   "metadata": {},
   "source": [
    "постройка `assembly_shop`, скорее всего строится игроками в первую очередь и недолго;  \n",
    "параллельно `assembly_shop` наблюдаем восходящий тренд строительства `spaceport`, на пике которого `assembly_shop` обрывается;  \n",
    "скорее всего постройку `assembly_shop` больше нельзя построить, после строительства `spaceport`;  \n",
    "`research_center` впервые строят спустя пару дней, основная масса игроков делает это спустя +/- неделю;  \n",
    "  \n",
    "можно наблюдать общий спад активности строительства;  \n",
    "это может говорить о том, что либо пользователи остановились в прогрессе и ушели, либо перешели на следующий уровень"
   ]
  },
  {
   "cell_type": "markdown",
   "metadata": {
    "id": "cfu4IBmtOYIm"
   },
   "source": [
    "[План](#section_id_0) \n"
   ]
  },
  {
   "cell_type": "markdown",
   "metadata": {
    "id": "-v-3aMrBOYIo"
   },
   "source": [
    "## 2.3. Распределение пользователей по времени по рекламным источникам <a id='section_id_53'></a>"
   ]
  },
  {
   "cell_type": "code",
   "execution_count": 55,
   "metadata": {},
   "outputs": [],
   "source": [
    "events = game_actions.merge(user_source, how='left', on='user_id')"
   ]
  },
  {
   "cell_type": "code",
   "execution_count": 56,
   "metadata": {},
   "outputs": [],
   "source": [
    "events_groupby = events.groupby(['event_date', 'source'])['user_id'].\\\n",
    "                        nunique().\\\n",
    "                        reset_index().\\\n",
    "                        rename({'user_id':'count'}, axis=1)"
   ]
  },
  {
   "cell_type": "code",
   "execution_count": 57,
   "metadata": {},
   "outputs": [
    {
     "data": {
      "text/html": [
       "<div>\n",
       "<style scoped>\n",
       "    .dataframe tbody tr th:only-of-type {\n",
       "        vertical-align: middle;\n",
       "    }\n",
       "\n",
       "    .dataframe tbody tr th {\n",
       "        vertical-align: top;\n",
       "    }\n",
       "\n",
       "    .dataframe thead th {\n",
       "        text-align: right;\n",
       "    }\n",
       "</style>\n",
       "<table border=\"1\" class=\"dataframe\">\n",
       "  <thead>\n",
       "    <tr style=\"text-align: right;\">\n",
       "      <th></th>\n",
       "      <th>event_date</th>\n",
       "      <th>source</th>\n",
       "      <th>count</th>\n",
       "    </tr>\n",
       "  </thead>\n",
       "  <tbody>\n",
       "    <tr>\n",
       "      <td>0</td>\n",
       "      <td>2020-05-04</td>\n",
       "      <td>facebook_ads</td>\n",
       "      <td>1184</td>\n",
       "    </tr>\n",
       "    <tr>\n",
       "      <td>1</td>\n",
       "      <td>2020-05-04</td>\n",
       "      <td>instagram_new_adverts</td>\n",
       "      <td>1452</td>\n",
       "    </tr>\n",
       "    <tr>\n",
       "      <td>2</td>\n",
       "      <td>2020-05-04</td>\n",
       "      <td>yandex_direct</td>\n",
       "      <td>2078</td>\n",
       "    </tr>\n",
       "    <tr>\n",
       "      <td>3</td>\n",
       "      <td>2020-05-04</td>\n",
       "      <td>youtube_channel_reklama</td>\n",
       "      <td>1146</td>\n",
       "    </tr>\n",
       "    <tr>\n",
       "      <td>4</td>\n",
       "      <td>2020-05-05</td>\n",
       "      <td>facebook_ads</td>\n",
       "      <td>1328</td>\n",
       "    </tr>\n",
       "    <tr>\n",
       "      <td>...</td>\n",
       "      <td>...</td>\n",
       "      <td>...</td>\n",
       "      <td>...</td>\n",
       "    </tr>\n",
       "    <tr>\n",
       "      <td>126</td>\n",
       "      <td>2020-06-04</td>\n",
       "      <td>yandex_direct</td>\n",
       "      <td>3</td>\n",
       "    </tr>\n",
       "    <tr>\n",
       "      <td>127</td>\n",
       "      <td>2020-06-05</td>\n",
       "      <td>facebook_ads</td>\n",
       "      <td>1</td>\n",
       "    </tr>\n",
       "    <tr>\n",
       "      <td>128</td>\n",
       "      <td>2020-06-05</td>\n",
       "      <td>instagram_new_adverts</td>\n",
       "      <td>1</td>\n",
       "    </tr>\n",
       "    <tr>\n",
       "      <td>129</td>\n",
       "      <td>2020-06-05</td>\n",
       "      <td>yandex_direct</td>\n",
       "      <td>1</td>\n",
       "    </tr>\n",
       "    <tr>\n",
       "      <td>130</td>\n",
       "      <td>2020-06-05</td>\n",
       "      <td>youtube_channel_reklama</td>\n",
       "      <td>1</td>\n",
       "    </tr>\n",
       "  </tbody>\n",
       "</table>\n",
       "<p>131 rows × 3 columns</p>\n",
       "</div>"
      ],
      "text/plain": [
       "    event_date                   source  count\n",
       "0   2020-05-04             facebook_ads   1184\n",
       "1   2020-05-04    instagram_new_adverts   1452\n",
       "2   2020-05-04            yandex_direct   2078\n",
       "3   2020-05-04  youtube_channel_reklama   1146\n",
       "4   2020-05-05             facebook_ads   1328\n",
       "..         ...                      ...    ...\n",
       "126 2020-06-04            yandex_direct      3\n",
       "127 2020-06-05             facebook_ads      1\n",
       "128 2020-06-05    instagram_new_adverts      1\n",
       "129 2020-06-05            yandex_direct      1\n",
       "130 2020-06-05  youtube_channel_reklama      1\n",
       "\n",
       "[131 rows x 3 columns]"
      ]
     },
     "execution_count": 57,
     "metadata": {},
     "output_type": "execute_result"
    }
   ],
   "source": [
    "events_groupby"
   ]
  },
  {
   "cell_type": "code",
   "execution_count": 58,
   "metadata": {},
   "outputs": [
    {
     "data": {
      "image/png": "[encoded data removed]",
      "text/plain": [
       "<Figure size 994.975x360 with 1 Axes>"
      ]
     },
     "metadata": {},
     "output_type": "display_data"
    }
   ],
   "source": [
    "sns.relplot(data=events_groupby, x='event_date', y='count', hue='source', kind='line', aspect=18/8)\n",
    "plt.title('Распределение пользователей по времени с разбитием по рекламным источникам')\n",
    "plt.ylabel('Кол-во пользователей')\n",
    "plt.xlabel('Дата');"
   ]
  },
  {
   "cell_type": "markdown",
   "metadata": {},
   "source": [
    "реклама была дана первую неделю, поэтому в начале можно наблюдать рост пользователей с пиком в конце недели;  \n",
    "резкий спад новых пользователей обусловлен остановкой рекламы;  \n",
    "\n",
    "далее наблюдается низходящий тренд,  \n",
    "так как в нашем датасете представлены данные по игре пользователей на первом уровне,  \n",
    "падающие показатели можно объяснить переходом пользователей на новый уровень, либо прекращением активности."
   ]
  },
  {
   "cell_type": "markdown",
   "metadata": {
    "id": "cfu4IBmtOYIm"
   },
   "source": [
    "[План](#section_id_0) \n"
   ]
  },
  {
   "cell_type": "markdown",
   "metadata": {},
   "source": [
    "## 2.4. Retention Rate <a id='section_id_54'></a>"
   ]
  },
  {
   "cell_type": "markdown",
   "metadata": {},
   "source": [
    "Для расчета удержания, возьмем дату, когда пользователь впервые проявил активность, присоединим к исходной таблице **game_actions** и сохраним в новый датафрейм **user_activity**"
   ]
  },
  {
   "cell_type": "code",
   "execution_count": 59,
   "metadata": {},
   "outputs": [
    {
     "data": {
      "text/html": [
       "<div>\n",
       "<style scoped>\n",
       "    .dataframe tbody tr th:only-of-type {\n",
       "        vertical-align: middle;\n",
       "    }\n",
       "\n",
       "    .dataframe tbody tr th {\n",
       "        vertical-align: top;\n",
       "    }\n",
       "\n",
       "    .dataframe thead th {\n",
       "        text-align: right;\n",
       "    }\n",
       "</style>\n",
       "<table border=\"1\" class=\"dataframe\">\n",
       "  <thead>\n",
       "    <tr style=\"text-align: right;\">\n",
       "      <th></th>\n",
       "      <th>event_datetime</th>\n",
       "      <th>event</th>\n",
       "      <th>building_type</th>\n",
       "      <th>user_id</th>\n",
       "      <th>project_type</th>\n",
       "      <th>event_date</th>\n",
       "    </tr>\n",
       "  </thead>\n",
       "  <tbody>\n",
       "    <tr>\n",
       "      <td>0</td>\n",
       "      <td>2020-05-04 00:00:01</td>\n",
       "      <td>building</td>\n",
       "      <td>assembly_shop</td>\n",
       "      <td>55e92310-cb8e-4754-b622-597e124b03de</td>\n",
       "      <td>NaN</td>\n",
       "      <td>2020-05-04</td>\n",
       "    </tr>\n",
       "    <tr>\n",
       "      <td>1</td>\n",
       "      <td>2020-05-04 00:00:03</td>\n",
       "      <td>building</td>\n",
       "      <td>assembly_shop</td>\n",
       "      <td>c07b1c10-f477-44dc-81dc-ec82254b1347</td>\n",
       "      <td>NaN</td>\n",
       "      <td>2020-05-04</td>\n",
       "    </tr>\n",
       "    <tr>\n",
       "      <td>2</td>\n",
       "      <td>2020-05-04 00:00:16</td>\n",
       "      <td>building</td>\n",
       "      <td>assembly_shop</td>\n",
       "      <td>6edd42cc-e753-4ff6-a947-2107cd560710</td>\n",
       "      <td>NaN</td>\n",
       "      <td>2020-05-04</td>\n",
       "    </tr>\n",
       "    <tr>\n",
       "      <td>3</td>\n",
       "      <td>2020-05-04 00:00:16</td>\n",
       "      <td>building</td>\n",
       "      <td>assembly_shop</td>\n",
       "      <td>92c69003-d60a-444a-827f-8cc51bf6bf4c</td>\n",
       "      <td>NaN</td>\n",
       "      <td>2020-05-04</td>\n",
       "    </tr>\n",
       "    <tr>\n",
       "      <td>4</td>\n",
       "      <td>2020-05-04 00:00:35</td>\n",
       "      <td>building</td>\n",
       "      <td>assembly_shop</td>\n",
       "      <td>cdc6bb92-0ccb-4490-9866-ef142f09139d</td>\n",
       "      <td>NaN</td>\n",
       "      <td>2020-05-04</td>\n",
       "    </tr>\n",
       "  </tbody>\n",
       "</table>\n",
       "</div>"
      ],
      "text/plain": [
       "       event_datetime     event  building_type  \\\n",
       "0 2020-05-04 00:00:01  building  assembly_shop   \n",
       "1 2020-05-04 00:00:03  building  assembly_shop   \n",
       "2 2020-05-04 00:00:16  building  assembly_shop   \n",
       "3 2020-05-04 00:00:16  building  assembly_shop   \n",
       "4 2020-05-04 00:00:35  building  assembly_shop   \n",
       "\n",
       "                                user_id project_type event_date  \n",
       "0  55e92310-cb8e-4754-b622-597e124b03de          NaN 2020-05-04  \n",
       "1  c07b1c10-f477-44dc-81dc-ec82254b1347          NaN 2020-05-04  \n",
       "2  6edd42cc-e753-4ff6-a947-2107cd560710          NaN 2020-05-04  \n",
       "3  92c69003-d60a-444a-827f-8cc51bf6bf4c          NaN 2020-05-04  \n",
       "4  cdc6bb92-0ccb-4490-9866-ef142f09139d          NaN 2020-05-04  "
      ]
     },
     "execution_count": 59,
     "metadata": {},
     "output_type": "execute_result"
    }
   ],
   "source": [
    "game_actions.head()"
   ]
  },
  {
   "cell_type": "code",
   "execution_count": 60,
   "metadata": {},
   "outputs": [],
   "source": [
    "first_activity_date = game_actions.groupby(['user_id'])['event_date'].min()"
   ]
  },
  {
   "cell_type": "code",
   "execution_count": 61,
   "metadata": {},
   "outputs": [],
   "source": [
    "first_activity_date.name = 'first_activity_date'"
   ]
  },
  {
   "cell_type": "code",
   "execution_count": 62,
   "metadata": {},
   "outputs": [],
   "source": [
    "user_activity = game_actions.join(first_activity_date,on='user_id')"
   ]
  },
  {
   "cell_type": "markdown",
   "metadata": {},
   "source": [
    "рассчитаем lifetime пользователя в рамках когорты"
   ]
  },
  {
   "cell_type": "code",
   "execution_count": 63,
   "metadata": {},
   "outputs": [],
   "source": [
    "user_activity['cohort_lifetime'] = ((user_activity['event_date'] - user_activity['first_activity_date']) \n",
    "                                    / np.timedelta64(1,'W')).round().astype(int)"
   ]
  },
  {
   "cell_type": "code",
   "execution_count": 64,
   "metadata": {},
   "outputs": [
    {
     "data": {
      "text/html": [
       "<div>\n",
       "<style scoped>\n",
       "    .dataframe tbody tr th:only-of-type {\n",
       "        vertical-align: middle;\n",
       "    }\n",
       "\n",
       "    .dataframe tbody tr th {\n",
       "        vertical-align: top;\n",
       "    }\n",
       "\n",
       "    .dataframe thead th {\n",
       "        text-align: right;\n",
       "    }\n",
       "</style>\n",
       "<table border=\"1\" class=\"dataframe\">\n",
       "  <thead>\n",
       "    <tr style=\"text-align: right;\">\n",
       "      <th></th>\n",
       "      <th>event_datetime</th>\n",
       "      <th>event</th>\n",
       "      <th>building_type</th>\n",
       "      <th>user_id</th>\n",
       "      <th>project_type</th>\n",
       "      <th>event_date</th>\n",
       "      <th>first_activity_date</th>\n",
       "      <th>cohort_lifetime</th>\n",
       "    </tr>\n",
       "  </thead>\n",
       "  <tbody>\n",
       "    <tr>\n",
       "      <td>21381</td>\n",
       "      <td>2020-05-06 10:18:24</td>\n",
       "      <td>building</td>\n",
       "      <td>assembly_shop</td>\n",
       "      <td>6956965f-d464-4978-8dd8-d8bcd4f8abca</td>\n",
       "      <td>NaN</td>\n",
       "      <td>2020-05-06</td>\n",
       "      <td>2020-05-06</td>\n",
       "      <td>0</td>\n",
       "    </tr>\n",
       "    <tr>\n",
       "      <td>124928</td>\n",
       "      <td>2020-05-18 07:40:55</td>\n",
       "      <td>finished_stage_1</td>\n",
       "      <td>NaN</td>\n",
       "      <td>7b300645-e902-4b7d-a5cf-ac75a9a0fced</td>\n",
       "      <td>NaN</td>\n",
       "      <td>2020-05-18</td>\n",
       "      <td>2020-05-06</td>\n",
       "      <td>2</td>\n",
       "    </tr>\n",
       "    <tr>\n",
       "      <td>87168</td>\n",
       "      <td>2020-05-12 01:41:04</td>\n",
       "      <td>building</td>\n",
       "      <td>spaceport</td>\n",
       "      <td>29b73b1d-8142-4214-b8d3-ba321ae5d776</td>\n",
       "      <td>NaN</td>\n",
       "      <td>2020-05-12</td>\n",
       "      <td>2020-05-04</td>\n",
       "      <td>1</td>\n",
       "    </tr>\n",
       "    <tr>\n",
       "      <td>57513</td>\n",
       "      <td>2020-05-09 14:02:31</td>\n",
       "      <td>building</td>\n",
       "      <td>spaceport</td>\n",
       "      <td>f4e97d63-5a09-4755-8a18-6c0b8e4b9fea</td>\n",
       "      <td>NaN</td>\n",
       "      <td>2020-05-09</td>\n",
       "      <td>2020-05-04</td>\n",
       "      <td>1</td>\n",
       "    </tr>\n",
       "    <tr>\n",
       "      <td>30741</td>\n",
       "      <td>2020-05-07 08:02:57</td>\n",
       "      <td>building</td>\n",
       "      <td>spaceport</td>\n",
       "      <td>0483b56f-68a1-4d27-a296-c7a5af39da18</td>\n",
       "      <td>NaN</td>\n",
       "      <td>2020-05-07</td>\n",
       "      <td>2020-05-04</td>\n",
       "      <td>0</td>\n",
       "    </tr>\n",
       "  </tbody>\n",
       "</table>\n",
       "</div>"
      ],
      "text/plain": [
       "            event_datetime             event  building_type  \\\n",
       "21381  2020-05-06 10:18:24          building  assembly_shop   \n",
       "124928 2020-05-18 07:40:55  finished_stage_1            NaN   \n",
       "87168  2020-05-12 01:41:04          building      spaceport   \n",
       "57513  2020-05-09 14:02:31          building      spaceport   \n",
       "30741  2020-05-07 08:02:57          building      spaceport   \n",
       "\n",
       "                                     user_id project_type event_date  \\\n",
       "21381   6956965f-d464-4978-8dd8-d8bcd4f8abca          NaN 2020-05-06   \n",
       "124928  7b300645-e902-4b7d-a5cf-ac75a9a0fced          NaN 2020-05-18   \n",
       "87168   29b73b1d-8142-4214-b8d3-ba321ae5d776          NaN 2020-05-12   \n",
       "57513   f4e97d63-5a09-4755-8a18-6c0b8e4b9fea          NaN 2020-05-09   \n",
       "30741   0483b56f-68a1-4d27-a296-c7a5af39da18          NaN 2020-05-07   \n",
       "\n",
       "       first_activity_date  cohort_lifetime  \n",
       "21381           2020-05-06                0  \n",
       "124928          2020-05-06                2  \n",
       "87168           2020-05-04                1  \n",
       "57513           2020-05-04                1  \n",
       "30741           2020-05-04                0  "
      ]
     },
     "execution_count": 64,
     "metadata": {},
     "output_type": "execute_result"
    }
   ],
   "source": [
    "user_activity.sample(5)"
   ]
  },
  {
   "cell_type": "markdown",
   "metadata": {},
   "source": [
    "cгруппируем данные по когорте и lifetime"
   ]
  },
  {
   "cell_type": "code",
   "execution_count": 65,
   "metadata": {},
   "outputs": [],
   "source": [
    "cohorts = user_activity.groupby(['first_activity_date', 'cohort_lifetime']).agg({'user_id':'nunique'}).reset_index()"
   ]
  },
  {
   "cell_type": "markdown",
   "metadata": {},
   "source": [
    "найдем исходное кол-во пользователей в когорте и переименуем в cohort_users"
   ]
  },
  {
   "cell_type": "code",
   "execution_count": 66,
   "metadata": {},
   "outputs": [],
   "source": [
    "initial_users_count = cohorts[cohorts['cohort_lifetime'] == 0][['first_activity_date','user_id']]"
   ]
  },
  {
   "cell_type": "code",
   "execution_count": 67,
   "metadata": {},
   "outputs": [],
   "source": [
    "initial_users_count = initial_users_count.rename(columns={'user_id':'cohort_users'})"
   ]
  },
  {
   "cell_type": "markdown",
   "metadata": {},
   "source": [
    "объеденим данные по когортам с исходным кол-вом пользователей в когорте"
   ]
  },
  {
   "cell_type": "code",
   "execution_count": 68,
   "metadata": {},
   "outputs": [],
   "source": [
    "cohorts = cohorts.merge(initial_users_count,on='first_activity_date')"
   ]
  },
  {
   "cell_type": "markdown",
   "metadata": {},
   "source": [
    "рассчитаем retention rate "
   ]
  },
  {
   "cell_type": "code",
   "execution_count": 69,
   "metadata": {},
   "outputs": [],
   "source": [
    "cohorts['retention'] = cohorts['user_id'] / cohorts['cohort_users']"
   ]
  },
  {
   "cell_type": "code",
   "execution_count": 70,
   "metadata": {},
   "outputs": [],
   "source": [
    "retention_pivot = cohorts.pivot_table(index='first_activity_date',\n",
    "                                      columns='cohort_lifetime',\n",
    "                                      values='retention',\n",
    "                                      aggfunc='sum')"
   ]
  },
  {
   "cell_type": "code",
   "execution_count": 71,
   "metadata": {},
   "outputs": [
    {
     "data": {
      "image/png": "[encoded data removed]",
      "text/plain": [
       "<Figure size 1080x648 with 1 Axes>"
      ]
     },
     "metadata": {},
     "output_type": "display_data"
    }
   ],
   "source": [
    "plt.figure(figsize=(15, 9))\n",
    "plt.title('\\nRetention Rate\\n')\n",
    "ax = sns.heatmap(retention_pivot, annot=True, fmt='.1%', linewidths=1, linecolor='gray', cmap=\"Blues\", cbar=False)\n",
    "ax.set_ylabel('Когорты по дням\\n')\n",
    "ax.set_xlabel('\\nДлительность жизни когорты');"
   ]
  },
  {
   "cell_type": "markdown",
   "metadata": {},
   "source": [
    "по тепловой карте видно, что удержание пользователей на 3ей неделе снизилось в 2 раза, а к концу 5ой недели упало до 0%  \n",
    "  \n",
    "так как в нашем датасете представлены данные по игре пользователей на первом уровне  \n",
    "снижение **retention** можно объяснить двояко, либо это переход пользователей на новый уровень, либо прекращение активности"
   ]
  },
  {
   "cell_type": "markdown",
   "metadata": {
    "id": "cfu4IBmtOYIm"
   },
   "source": [
    "[План](#section_id_0) \n"
   ]
  },
  {
   "cell_type": "markdown",
   "metadata": {},
   "source": [
    "***"
   ]
  },
  {
   "cell_type": "markdown",
   "metadata": {},
   "source": [
    "## 2.5. Рекламные источники <a id='section_id_55'></a>"
   ]
  },
  {
   "cell_type": "markdown",
   "metadata": {},
   "source": [
    "### расходы на каждый рекламный источник"
   ]
  },
  {
   "cell_type": "code",
   "execution_count": 72,
   "metadata": {},
   "outputs": [
    {
     "data": {
      "text/html": [
       "<div>\n",
       "<style scoped>\n",
       "    .dataframe tbody tr th:only-of-type {\n",
       "        vertical-align: middle;\n",
       "    }\n",
       "\n",
       "    .dataframe tbody tr th {\n",
       "        vertical-align: top;\n",
       "    }\n",
       "\n",
       "    .dataframe thead th {\n",
       "        text-align: right;\n",
       "    }\n",
       "</style>\n",
       "<table border=\"1\" class=\"dataframe\">\n",
       "  <thead>\n",
       "    <tr style=\"text-align: right;\">\n",
       "      <th></th>\n",
       "      <th>source</th>\n",
       "      <th>cost</th>\n",
       "    </tr>\n",
       "  </thead>\n",
       "  <tbody>\n",
       "    <tr>\n",
       "      <td>0</td>\n",
       "      <td>yandex_direct</td>\n",
       "      <td>2233.111449</td>\n",
       "    </tr>\n",
       "    <tr>\n",
       "      <td>1</td>\n",
       "      <td>instagram_new_adverts</td>\n",
       "      <td>2161.441691</td>\n",
       "    </tr>\n",
       "    <tr>\n",
       "      <td>2</td>\n",
       "      <td>facebook_ads</td>\n",
       "      <td>2140.904643</td>\n",
       "    </tr>\n",
       "    <tr>\n",
       "      <td>3</td>\n",
       "      <td>youtube_channel_reklama</td>\n",
       "      <td>1068.119204</td>\n",
       "    </tr>\n",
       "  </tbody>\n",
       "</table>\n",
       "</div>"
      ],
      "text/plain": [
       "                    source         cost\n",
       "0            yandex_direct  2233.111449\n",
       "1    instagram_new_adverts  2161.441691\n",
       "2             facebook_ads  2140.904643\n",
       "3  youtube_channel_reklama  1068.119204"
      ]
     },
     "execution_count": 72,
     "metadata": {},
     "output_type": "execute_result"
    }
   ],
   "source": [
    "ad_costs.groupby('source')['cost'].sum().sort_values(ascending=False).reset_index()"
   ]
  },
  {
   "cell_type": "markdown",
   "metadata": {},
   "source": [
    "расходы на рекламу по источникам распределены примерно одинаково,  \n",
    "кроме `youtube`, на него было потрачено вдвое меньше, чем на какой либо другой источник"
   ]
  },
  {
   "cell_type": "markdown",
   "metadata": {},
   "source": [
    "### сколько пользователей привлек каждый рекламный источник"
   ]
  },
  {
   "cell_type": "code",
   "execution_count": 73,
   "metadata": {},
   "outputs": [],
   "source": [
    "source_current = user_source.groupby('source').agg({'user_id':'nunique'})"
   ]
  },
  {
   "cell_type": "code",
   "execution_count": 74,
   "metadata": {},
   "outputs": [],
   "source": [
    "source_current.sort_values(by='user_id', ascending=False, inplace=True)"
   ]
  },
  {
   "cell_type": "code",
   "execution_count": 75,
   "metadata": {},
   "outputs": [
    {
     "data": {
      "text/html": [
       "<div>\n",
       "<style scoped>\n",
       "    .dataframe tbody tr th:only-of-type {\n",
       "        vertical-align: middle;\n",
       "    }\n",
       "\n",
       "    .dataframe tbody tr th {\n",
       "        vertical-align: top;\n",
       "    }\n",
       "\n",
       "    .dataframe thead th {\n",
       "        text-align: right;\n",
       "    }\n",
       "</style>\n",
       "<table border=\"1\" class=\"dataframe\">\n",
       "  <thead>\n",
       "    <tr style=\"text-align: right;\">\n",
       "      <th></th>\n",
       "      <th>user_id</th>\n",
       "    </tr>\n",
       "    <tr>\n",
       "      <th>source</th>\n",
       "      <th></th>\n",
       "    </tr>\n",
       "  </thead>\n",
       "  <tbody>\n",
       "    <tr>\n",
       "      <td>yandex_direct</td>\n",
       "      <td>4817</td>\n",
       "    </tr>\n",
       "    <tr>\n",
       "      <td>instagram_new_adverts</td>\n",
       "      <td>3347</td>\n",
       "    </tr>\n",
       "    <tr>\n",
       "      <td>facebook_ads</td>\n",
       "      <td>2726</td>\n",
       "    </tr>\n",
       "    <tr>\n",
       "      <td>youtube_channel_reklama</td>\n",
       "      <td>2686</td>\n",
       "    </tr>\n",
       "  </tbody>\n",
       "</table>\n",
       "</div>"
      ],
      "text/plain": [
       "                         user_id\n",
       "source                          \n",
       "yandex_direct               4817\n",
       "instagram_new_adverts       3347\n",
       "facebook_ads                2726\n",
       "youtube_channel_reklama     2686"
      ]
     },
     "execution_count": 75,
     "metadata": {},
     "output_type": "execute_result"
    }
   ],
   "source": [
    "source_current"
   ]
  },
  {
   "cell_type": "code",
   "execution_count": 76,
   "metadata": {},
   "outputs": [
    {
     "data": {
      "image/png": "[encoded data removed]",
      "text/plain": [
       "<Figure size 864x360 with 1 Axes>"
      ]
     },
     "metadata": {},
     "output_type": "display_data"
    }
   ],
   "source": [
    "source_current.plot(kind='bar', figsize=(12,5), grid=True)\n",
    "plt.title('\\nРаспределение привлеченных пользователей по рекламным источникам\\n')\n",
    "plt.ylabel('Кол-во пользователей\\n')\n",
    "plt.xlabel('\\nРекламный источник')\n",
    "plt.xticks(rotation=0);"
   ]
  },
  {
   "cell_type": "markdown",
   "metadata": {},
   "source": [
    "больше всех привлек `yandex` - 4800 пользователя  \n",
    "остальные источники привлекли по 3000 +/- пользователей\n"
   ]
  },
  {
   "cell_type": "markdown",
   "metadata": {},
   "source": [
    "### расходы по дням"
   ]
  },
  {
   "cell_type": "code",
   "execution_count": 77,
   "metadata": {},
   "outputs": [
    {
     "data": {
      "text/html": [
       "<div>\n",
       "<style scoped>\n",
       "    .dataframe tbody tr th:only-of-type {\n",
       "        vertical-align: middle;\n",
       "    }\n",
       "\n",
       "    .dataframe tbody tr th {\n",
       "        vertical-align: top;\n",
       "    }\n",
       "\n",
       "    .dataframe thead th {\n",
       "        text-align: right;\n",
       "    }\n",
       "</style>\n",
       "<table border=\"1\" class=\"dataframe\">\n",
       "  <thead>\n",
       "    <tr style=\"text-align: right;\">\n",
       "      <th>day</th>\n",
       "      <th>2020-05-03 00:00:00</th>\n",
       "      <th>2020-05-04 00:00:00</th>\n",
       "      <th>2020-05-05 00:00:00</th>\n",
       "      <th>2020-05-06 00:00:00</th>\n",
       "      <th>2020-05-07 00:00:00</th>\n",
       "      <th>2020-05-08 00:00:00</th>\n",
       "      <th>2020-05-09 00:00:00</th>\n",
       "      <th>total</th>\n",
       "    </tr>\n",
       "    <tr>\n",
       "      <th>source</th>\n",
       "      <th></th>\n",
       "      <th></th>\n",
       "      <th></th>\n",
       "      <th></th>\n",
       "      <th></th>\n",
       "      <th></th>\n",
       "      <th></th>\n",
       "      <th></th>\n",
       "    </tr>\n",
       "  </thead>\n",
       "  <tbody>\n",
       "    <tr>\n",
       "      <td>facebook_ads</td>\n",
       "      <td>935.882786</td>\n",
       "      <td>548.354480</td>\n",
       "      <td>260.185754</td>\n",
       "      <td>177.982200</td>\n",
       "      <td>111.766796</td>\n",
       "      <td>68.009276</td>\n",
       "      <td>38.723350</td>\n",
       "      <td>2140.904643</td>\n",
       "    </tr>\n",
       "    <tr>\n",
       "      <td>instagram_new_adverts</td>\n",
       "      <td>943.204717</td>\n",
       "      <td>502.925451</td>\n",
       "      <td>313.970984</td>\n",
       "      <td>173.071145</td>\n",
       "      <td>109.915254</td>\n",
       "      <td>71.578739</td>\n",
       "      <td>46.775400</td>\n",
       "      <td>2161.441691</td>\n",
       "    </tr>\n",
       "    <tr>\n",
       "      <td>yandex_direct</td>\n",
       "      <td>969.139394</td>\n",
       "      <td>554.651494</td>\n",
       "      <td>308.232990</td>\n",
       "      <td>180.917099</td>\n",
       "      <td>114.429338</td>\n",
       "      <td>62.961630</td>\n",
       "      <td>42.779505</td>\n",
       "      <td>2233.111449</td>\n",
       "    </tr>\n",
       "    <tr>\n",
       "      <td>youtube_channel_reklama</td>\n",
       "      <td>454.224943</td>\n",
       "      <td>259.073224</td>\n",
       "      <td>147.041741</td>\n",
       "      <td>88.506074</td>\n",
       "      <td>55.740645</td>\n",
       "      <td>40.217907</td>\n",
       "      <td>23.314669</td>\n",
       "      <td>1068.119204</td>\n",
       "    </tr>\n",
       "    <tr>\n",
       "      <td>total</td>\n",
       "      <td>3302.451840</td>\n",
       "      <td>1865.004649</td>\n",
       "      <td>1029.431469</td>\n",
       "      <td>620.476519</td>\n",
       "      <td>391.852033</td>\n",
       "      <td>242.767553</td>\n",
       "      <td>151.592924</td>\n",
       "      <td>7603.576987</td>\n",
       "    </tr>\n",
       "  </tbody>\n",
       "</table>\n",
       "</div>"
      ],
      "text/plain": [
       "day                      2020-05-03 00:00:00  2020-05-04 00:00:00  \\\n",
       "source                                                              \n",
       "facebook_ads                      935.882786           548.354480   \n",
       "instagram_new_adverts             943.204717           502.925451   \n",
       "yandex_direct                     969.139394           554.651494   \n",
       "youtube_channel_reklama           454.224943           259.073224   \n",
       "total                            3302.451840          1865.004649   \n",
       "\n",
       "day                      2020-05-05 00:00:00  2020-05-06 00:00:00  \\\n",
       "source                                                              \n",
       "facebook_ads                      260.185754           177.982200   \n",
       "instagram_new_adverts             313.970984           173.071145   \n",
       "yandex_direct                     308.232990           180.917099   \n",
       "youtube_channel_reklama           147.041741            88.506074   \n",
       "total                            1029.431469           620.476519   \n",
       "\n",
       "day                      2020-05-07 00:00:00  2020-05-08 00:00:00  \\\n",
       "source                                                              \n",
       "facebook_ads                      111.766796            68.009276   \n",
       "instagram_new_adverts             109.915254            71.578739   \n",
       "yandex_direct                     114.429338            62.961630   \n",
       "youtube_channel_reklama            55.740645            40.217907   \n",
       "total                             391.852033           242.767553   \n",
       "\n",
       "day                      2020-05-09 00:00:00        total  \n",
       "source                                                     \n",
       "facebook_ads                       38.723350  2140.904643  \n",
       "instagram_new_adverts              46.775400  2161.441691  \n",
       "yandex_direct                      42.779505  2233.111449  \n",
       "youtube_channel_reklama            23.314669  1068.119204  \n",
       "total                             151.592924  7603.576987  "
      ]
     },
     "execution_count": 77,
     "metadata": {},
     "output_type": "execute_result"
    }
   ],
   "source": [
    "ad_costs.pivot_table(index='source', \n",
    "                     columns='day', \n",
    "                     values='cost', \n",
    "                     aggfunc='sum', \n",
    "                     margins=True, \n",
    "                     margins_name='total')"
   ]
  },
  {
   "cell_type": "code",
   "execution_count": 78,
   "metadata": {},
   "outputs": [
    {
     "data": {
      "image/png": "[encoded data removed]",
      "text/plain": [
       "<Figure size 1080x576 with 1 Axes>"
      ]
     },
     "metadata": {},
     "output_type": "display_data"
    }
   ],
   "source": [
    "ad_costs_pivot = ad_costs.pivot_table(index='source', columns='day', values='cost', aggfunc='sum')\n",
    "ad_costs_pivot.T.plot(kind='bar', figsize=(15,8), grid=True)\n",
    "plt.title('\\nРаспределение расходов по рекламным источникам c разбивкой по дням\\n')\n",
    "plt.ylabel('Расходы')\n",
    "plt.xlabel('\\nДата')\n",
    "plt.xticks(rotation=45);"
   ]
  },
  {
   "cell_type": "markdown",
   "metadata": {},
   "source": [
    "в первый день на закупку рекламы в общем было потрачено 3302 у.е., далее в течение недели траты снижались, вплоть до 151 у.е. "
   ]
  },
  {
   "cell_type": "markdown",
   "metadata": {},
   "source": [
    "### CAC (стоимость привлечения клиента)"
   ]
  },
  {
   "cell_type": "code",
   "execution_count": 79,
   "metadata": {},
   "outputs": [
    {
     "data": {
      "text/html": [
       "<div>\n",
       "<style scoped>\n",
       "    .dataframe tbody tr th:only-of-type {\n",
       "        vertical-align: middle;\n",
       "    }\n",
       "\n",
       "    .dataframe tbody tr th {\n",
       "        vertical-align: top;\n",
       "    }\n",
       "\n",
       "    .dataframe thead th {\n",
       "        text-align: right;\n",
       "    }\n",
       "</style>\n",
       "<table border=\"1\" class=\"dataframe\">\n",
       "  <thead>\n",
       "    <tr style=\"text-align: right;\">\n",
       "      <th></th>\n",
       "      <th>source</th>\n",
       "      <th>cost</th>\n",
       "    </tr>\n",
       "  </thead>\n",
       "  <tbody>\n",
       "    <tr>\n",
       "      <td>0</td>\n",
       "      <td>facebook_ads</td>\n",
       "      <td>2141.0</td>\n",
       "    </tr>\n",
       "    <tr>\n",
       "      <td>1</td>\n",
       "      <td>instagram_new_adverts</td>\n",
       "      <td>2161.0</td>\n",
       "    </tr>\n",
       "    <tr>\n",
       "      <td>2</td>\n",
       "      <td>yandex_direct</td>\n",
       "      <td>2233.0</td>\n",
       "    </tr>\n",
       "    <tr>\n",
       "      <td>3</td>\n",
       "      <td>youtube_channel_reklama</td>\n",
       "      <td>1068.0</td>\n",
       "    </tr>\n",
       "  </tbody>\n",
       "</table>\n",
       "</div>"
      ],
      "text/plain": [
       "                    source    cost\n",
       "0             facebook_ads  2141.0\n",
       "1    instagram_new_adverts  2161.0\n",
       "2            yandex_direct  2233.0\n",
       "3  youtube_channel_reklama  1068.0"
      ]
     },
     "execution_count": 79,
     "metadata": {},
     "output_type": "execute_result"
    }
   ],
   "source": [
    "source_cost = ad_costs.groupby('source')['cost'].sum().round().reset_index()\n",
    "source_cost"
   ]
  },
  {
   "cell_type": "code",
   "execution_count": 80,
   "metadata": {},
   "outputs": [
    {
     "data": {
      "text/html": [
       "<div>\n",
       "<style scoped>\n",
       "    .dataframe tbody tr th:only-of-type {\n",
       "        vertical-align: middle;\n",
       "    }\n",
       "\n",
       "    .dataframe tbody tr th {\n",
       "        vertical-align: top;\n",
       "    }\n",
       "\n",
       "    .dataframe thead th {\n",
       "        text-align: right;\n",
       "    }\n",
       "</style>\n",
       "<table border=\"1\" class=\"dataframe\">\n",
       "  <thead>\n",
       "    <tr style=\"text-align: right;\">\n",
       "      <th></th>\n",
       "      <th>source</th>\n",
       "      <th>count</th>\n",
       "    </tr>\n",
       "  </thead>\n",
       "  <tbody>\n",
       "    <tr>\n",
       "      <td>0</td>\n",
       "      <td>facebook_ads</td>\n",
       "      <td>2726</td>\n",
       "    </tr>\n",
       "    <tr>\n",
       "      <td>1</td>\n",
       "      <td>instagram_new_adverts</td>\n",
       "      <td>3347</td>\n",
       "    </tr>\n",
       "    <tr>\n",
       "      <td>2</td>\n",
       "      <td>yandex_direct</td>\n",
       "      <td>4817</td>\n",
       "    </tr>\n",
       "    <tr>\n",
       "      <td>3</td>\n",
       "      <td>youtube_channel_reklama</td>\n",
       "      <td>2686</td>\n",
       "    </tr>\n",
       "  </tbody>\n",
       "</table>\n",
       "</div>"
      ],
      "text/plain": [
       "                    source  count\n",
       "0             facebook_ads   2726\n",
       "1    instagram_new_adverts   3347\n",
       "2            yandex_direct   4817\n",
       "3  youtube_channel_reklama   2686"
      ]
     },
     "execution_count": 80,
     "metadata": {},
     "output_type": "execute_result"
    }
   ],
   "source": [
    "source_count = user_source.groupby('source')['user_id'].nunique().reset_index().rename({'user_id':'count'}, axis=1)\n",
    "source_count"
   ]
  },
  {
   "cell_type": "code",
   "execution_count": 81,
   "metadata": {},
   "outputs": [],
   "source": [
    "cac = source_cost.merge(source_count, how='inner', on= 'source')"
   ]
  },
  {
   "cell_type": "code",
   "execution_count": 82,
   "metadata": {},
   "outputs": [],
   "source": [
    "cac['cac'] = (cac['cost'] / cac['count']).round(2)"
   ]
  },
  {
   "cell_type": "code",
   "execution_count": 83,
   "metadata": {},
   "outputs": [
    {
     "data": {
      "text/html": [
       "<div>\n",
       "<style scoped>\n",
       "    .dataframe tbody tr th:only-of-type {\n",
       "        vertical-align: middle;\n",
       "    }\n",
       "\n",
       "    .dataframe tbody tr th {\n",
       "        vertical-align: top;\n",
       "    }\n",
       "\n",
       "    .dataframe thead th {\n",
       "        text-align: right;\n",
       "    }\n",
       "</style>\n",
       "<table border=\"1\" class=\"dataframe\">\n",
       "  <thead>\n",
       "    <tr style=\"text-align: right;\">\n",
       "      <th></th>\n",
       "      <th>source</th>\n",
       "      <th>cost</th>\n",
       "      <th>count</th>\n",
       "      <th>cac</th>\n",
       "    </tr>\n",
       "  </thead>\n",
       "  <tbody>\n",
       "    <tr>\n",
       "      <td>0</td>\n",
       "      <td>facebook_ads</td>\n",
       "      <td>2141.0</td>\n",
       "      <td>2726</td>\n",
       "      <td>0.79</td>\n",
       "    </tr>\n",
       "    <tr>\n",
       "      <td>1</td>\n",
       "      <td>instagram_new_adverts</td>\n",
       "      <td>2161.0</td>\n",
       "      <td>3347</td>\n",
       "      <td>0.65</td>\n",
       "    </tr>\n",
       "    <tr>\n",
       "      <td>2</td>\n",
       "      <td>yandex_direct</td>\n",
       "      <td>2233.0</td>\n",
       "      <td>4817</td>\n",
       "      <td>0.46</td>\n",
       "    </tr>\n",
       "    <tr>\n",
       "      <td>3</td>\n",
       "      <td>youtube_channel_reklama</td>\n",
       "      <td>1068.0</td>\n",
       "      <td>2686</td>\n",
       "      <td>0.40</td>\n",
       "    </tr>\n",
       "  </tbody>\n",
       "</table>\n",
       "</div>"
      ],
      "text/plain": [
       "                    source    cost  count   cac\n",
       "0             facebook_ads  2141.0   2726  0.79\n",
       "1    instagram_new_adverts  2161.0   3347  0.65\n",
       "2            yandex_direct  2233.0   4817  0.46\n",
       "3  youtube_channel_reklama  1068.0   2686  0.40"
      ]
     },
     "execution_count": 83,
     "metadata": {},
     "output_type": "execute_result"
    }
   ],
   "source": [
    "cac"
   ]
  },
  {
   "cell_type": "markdown",
   "metadata": {},
   "source": [
    "Больше всего потратили на источник `yandex_direct` (2233 у.е.)  \n",
    "Самый высокий показатель САС у `facebook_ads` (0.79 у.e.)  \n",
    "Меньше всего потратили на источник `youtube_channel_reklama` , у него же наименьший САС (0.40 у.е.)"
   ]
  },
  {
   "cell_type": "markdown",
   "metadata": {},
   "source": [
    "\n",
    "***  \n",
    "  "
   ]
  },
  {
   "cell_type": "markdown",
   "metadata": {
    "id": "cfu4IBmtOYIm"
   },
   "source": [
    "[План](#section_id_0) \n"
   ]
  },
  {
   "cell_type": "markdown",
   "metadata": {},
   "source": [
    "## 2.6. Анализ игрового баланса <a id='section_id_56'></a>"
   ]
  },
  {
   "cell_type": "markdown",
   "metadata": {},
   "source": [
    "### Время, за которое пользователесь завершает уровень"
   ]
  },
  {
   "cell_type": "code",
   "execution_count": 84,
   "metadata": {},
   "outputs": [
    {
     "data": {
      "text/html": [
       "<div>\n",
       "<style scoped>\n",
       "    .dataframe tbody tr th:only-of-type {\n",
       "        vertical-align: middle;\n",
       "    }\n",
       "\n",
       "    .dataframe tbody tr th {\n",
       "        vertical-align: top;\n",
       "    }\n",
       "\n",
       "    .dataframe thead th {\n",
       "        text-align: right;\n",
       "    }\n",
       "</style>\n",
       "<table border=\"1\" class=\"dataframe\">\n",
       "  <thead>\n",
       "    <tr style=\"text-align: right;\">\n",
       "      <th></th>\n",
       "      <th>event_datetime</th>\n",
       "      <th>event</th>\n",
       "      <th>building_type</th>\n",
       "      <th>user_id</th>\n",
       "      <th>project_type</th>\n",
       "      <th>event_date</th>\n",
       "    </tr>\n",
       "  </thead>\n",
       "  <tbody>\n",
       "    <tr>\n",
       "      <td>0</td>\n",
       "      <td>2020-05-04 00:00:01</td>\n",
       "      <td>building</td>\n",
       "      <td>assembly_shop</td>\n",
       "      <td>55e92310-cb8e-4754-b622-597e124b03de</td>\n",
       "      <td>NaN</td>\n",
       "      <td>2020-05-04</td>\n",
       "    </tr>\n",
       "    <tr>\n",
       "      <td>1</td>\n",
       "      <td>2020-05-04 00:00:03</td>\n",
       "      <td>building</td>\n",
       "      <td>assembly_shop</td>\n",
       "      <td>c07b1c10-f477-44dc-81dc-ec82254b1347</td>\n",
       "      <td>NaN</td>\n",
       "      <td>2020-05-04</td>\n",
       "    </tr>\n",
       "    <tr>\n",
       "      <td>2</td>\n",
       "      <td>2020-05-04 00:00:16</td>\n",
       "      <td>building</td>\n",
       "      <td>assembly_shop</td>\n",
       "      <td>6edd42cc-e753-4ff6-a947-2107cd560710</td>\n",
       "      <td>NaN</td>\n",
       "      <td>2020-05-04</td>\n",
       "    </tr>\n",
       "    <tr>\n",
       "      <td>3</td>\n",
       "      <td>2020-05-04 00:00:16</td>\n",
       "      <td>building</td>\n",
       "      <td>assembly_shop</td>\n",
       "      <td>92c69003-d60a-444a-827f-8cc51bf6bf4c</td>\n",
       "      <td>NaN</td>\n",
       "      <td>2020-05-04</td>\n",
       "    </tr>\n",
       "    <tr>\n",
       "      <td>4</td>\n",
       "      <td>2020-05-04 00:00:35</td>\n",
       "      <td>building</td>\n",
       "      <td>assembly_shop</td>\n",
       "      <td>cdc6bb92-0ccb-4490-9866-ef142f09139d</td>\n",
       "      <td>NaN</td>\n",
       "      <td>2020-05-04</td>\n",
       "    </tr>\n",
       "  </tbody>\n",
       "</table>\n",
       "</div>"
      ],
      "text/plain": [
       "       event_datetime     event  building_type  \\\n",
       "0 2020-05-04 00:00:01  building  assembly_shop   \n",
       "1 2020-05-04 00:00:03  building  assembly_shop   \n",
       "2 2020-05-04 00:00:16  building  assembly_shop   \n",
       "3 2020-05-04 00:00:16  building  assembly_shop   \n",
       "4 2020-05-04 00:00:35  building  assembly_shop   \n",
       "\n",
       "                                user_id project_type event_date  \n",
       "0  55e92310-cb8e-4754-b622-597e124b03de          NaN 2020-05-04  \n",
       "1  c07b1c10-f477-44dc-81dc-ec82254b1347          NaN 2020-05-04  \n",
       "2  6edd42cc-e753-4ff6-a947-2107cd560710          NaN 2020-05-04  \n",
       "3  92c69003-d60a-444a-827f-8cc51bf6bf4c          NaN 2020-05-04  \n",
       "4  cdc6bb92-0ccb-4490-9866-ef142f09139d          NaN 2020-05-04  "
      ]
     },
     "execution_count": 84,
     "metadata": {},
     "output_type": "execute_result"
    }
   ],
   "source": [
    "game_actions.head()"
   ]
  },
  {
   "cell_type": "code",
   "execution_count": 85,
   "metadata": {},
   "outputs": [
    {
     "data": {
      "text/html": [
       "<div>\n",
       "<style scoped>\n",
       "    .dataframe tbody tr th:only-of-type {\n",
       "        vertical-align: middle;\n",
       "    }\n",
       "\n",
       "    .dataframe tbody tr th {\n",
       "        vertical-align: top;\n",
       "    }\n",
       "\n",
       "    .dataframe thead th {\n",
       "        text-align: right;\n",
       "    }\n",
       "</style>\n",
       "<table border=\"1\" class=\"dataframe\">\n",
       "  <thead>\n",
       "    <tr style=\"text-align: right;\">\n",
       "      <th></th>\n",
       "      <th>user_id</th>\n",
       "      <th>first_event</th>\n",
       "    </tr>\n",
       "  </thead>\n",
       "  <tbody>\n",
       "    <tr>\n",
       "      <td>0</td>\n",
       "      <td>0001f83c-c6ac-4621-b7f0-8a28b283ac30</td>\n",
       "      <td>2020-05-06 01:07:37</td>\n",
       "    </tr>\n",
       "  </tbody>\n",
       "</table>\n",
       "</div>"
      ],
      "text/plain": [
       "                                user_id         first_event\n",
       "0  0001f83c-c6ac-4621-b7f0-8a28b283ac30 2020-05-06 01:07:37"
      ]
     },
     "execution_count": 85,
     "metadata": {},
     "output_type": "execute_result"
    }
   ],
   "source": [
    "# первое событие для пользователя\n",
    "first_user_event = game_actions.groupby('user_id')['event_datetime']\\\n",
    "                               .min()\\\n",
    "                               .reset_index()\\\n",
    "                               .rename(columns={'event_datetime':'first_event'})\n",
    "first_user_event.head(1)"
   ]
  },
  {
   "cell_type": "code",
   "execution_count": 86,
   "metadata": {},
   "outputs": [
    {
     "data": {
      "text/plain": [
       "(13576, 2)"
      ]
     },
     "execution_count": 86,
     "metadata": {},
     "output_type": "execute_result"
    }
   ],
   "source": [
    "first_user_event.shape"
   ]
  },
  {
   "cell_type": "code",
   "execution_count": 87,
   "metadata": {},
   "outputs": [
    {
     "data": {
      "text/html": [
       "<div>\n",
       "<style scoped>\n",
       "    .dataframe tbody tr th:only-of-type {\n",
       "        vertical-align: middle;\n",
       "    }\n",
       "\n",
       "    .dataframe tbody tr th {\n",
       "        vertical-align: top;\n",
       "    }\n",
       "\n",
       "    .dataframe thead th {\n",
       "        text-align: right;\n",
       "    }\n",
       "</style>\n",
       "<table border=\"1\" class=\"dataframe\">\n",
       "  <thead>\n",
       "    <tr style=\"text-align: right;\">\n",
       "      <th></th>\n",
       "      <th>user_id</th>\n",
       "      <th>last_event</th>\n",
       "    </tr>\n",
       "  </thead>\n",
       "  <tbody>\n",
       "    <tr>\n",
       "      <td>0</td>\n",
       "      <td>0001f83c-c6ac-4621-b7f0-8a28b283ac30</td>\n",
       "      <td>2020-05-20 11:26:06</td>\n",
       "    </tr>\n",
       "  </tbody>\n",
       "</table>\n",
       "</div>"
      ],
      "text/plain": [
       "                                user_id          last_event\n",
       "0  0001f83c-c6ac-4621-b7f0-8a28b283ac30 2020-05-20 11:26:06"
      ]
     },
     "execution_count": 87,
     "metadata": {},
     "output_type": "execute_result"
    }
   ],
   "source": [
    "# последнее событие для пользователя\n",
    "last_user_event = game_actions.groupby('user_id')['event_datetime']\\\n",
    "                              .max()\\\n",
    "                              .reset_index()\\\n",
    "                              .rename(columns={'event_datetime':'last_event'})\n",
    "last_user_event.head(1)"
   ]
  },
  {
   "cell_type": "code",
   "execution_count": 88,
   "metadata": {},
   "outputs": [
    {
     "data": {
      "text/plain": [
       "(13576, 2)"
      ]
     },
     "execution_count": 88,
     "metadata": {},
     "output_type": "execute_result"
    }
   ],
   "source": [
    "last_user_event.shape"
   ]
  },
  {
   "cell_type": "code",
   "execution_count": 89,
   "metadata": {},
   "outputs": [
    {
     "data": {
      "text/plain": [
       "(135639, 3)"
      ]
     },
     "execution_count": 89,
     "metadata": {},
     "output_type": "execute_result"
    }
   ],
   "source": [
    "# все события совершенные пользователями с датой\n",
    "events_for_users = game_actions[['user_id', 'event_datetime', 'event']]\n",
    "events_for_users.shape"
   ]
  },
  {
   "cell_type": "code",
   "execution_count": 90,
   "metadata": {},
   "outputs": [
    {
     "data": {
      "text/plain": [
       "(1866, 2)"
      ]
     },
     "execution_count": 90,
     "metadata": {},
     "output_type": "execute_result"
    }
   ],
   "source": [
    "# пользователи завершившие главный проект\n",
    "user_project_type = game_actions[['user_id', 'project_type']].query('project_type == \"satellite_orbital_assembly\"')\n",
    "user_project_type.shape"
   ]
  },
  {
   "cell_type": "markdown",
   "metadata": {},
   "source": [
    "соединяем таблицы"
   ]
  },
  {
   "cell_type": "code",
   "execution_count": 91,
   "metadata": {},
   "outputs": [
    {
     "data": {
      "text/html": [
       "<div>\n",
       "<style scoped>\n",
       "    .dataframe tbody tr th:only-of-type {\n",
       "        vertical-align: middle;\n",
       "    }\n",
       "\n",
       "    .dataframe tbody tr th {\n",
       "        vertical-align: top;\n",
       "    }\n",
       "\n",
       "    .dataframe thead th {\n",
       "        text-align: right;\n",
       "    }\n",
       "</style>\n",
       "<table border=\"1\" class=\"dataframe\">\n",
       "  <thead>\n",
       "    <tr style=\"text-align: right;\">\n",
       "      <th></th>\n",
       "      <th>user_id</th>\n",
       "      <th>first_event</th>\n",
       "      <th>last_event</th>\n",
       "    </tr>\n",
       "  </thead>\n",
       "  <tbody>\n",
       "    <tr>\n",
       "      <td>0</td>\n",
       "      <td>0001f83c-c6ac-4621-b7f0-8a28b283ac30</td>\n",
       "      <td>2020-05-06 01:07:37</td>\n",
       "      <td>2020-05-20 11:26:06</td>\n",
       "    </tr>\n",
       "  </tbody>\n",
       "</table>\n",
       "</div>"
      ],
      "text/plain": [
       "                                user_id         first_event  \\\n",
       "0  0001f83c-c6ac-4621-b7f0-8a28b283ac30 2020-05-06 01:07:37   \n",
       "\n",
       "           last_event  \n",
       "0 2020-05-20 11:26:06  "
      ]
     },
     "execution_count": 91,
     "metadata": {},
     "output_type": "execute_result"
    }
   ],
   "source": [
    "users_first_last_event = first_user_event.merge(last_user_event, how='left', on='user_id')\n",
    "users_first_last_event.head(1)"
   ]
  },
  {
   "cell_type": "code",
   "execution_count": 92,
   "metadata": {},
   "outputs": [
    {
     "data": {
      "text/plain": [
       "(13576, 3)"
      ]
     },
     "execution_count": 92,
     "metadata": {},
     "output_type": "execute_result"
    }
   ],
   "source": [
    "users_first_last_event.shape"
   ]
  },
  {
   "cell_type": "code",
   "execution_count": 93,
   "metadata": {},
   "outputs": [
    {
     "data": {
      "text/html": [
       "<div>\n",
       "<style scoped>\n",
       "    .dataframe tbody tr th:only-of-type {\n",
       "        vertical-align: middle;\n",
       "    }\n",
       "\n",
       "    .dataframe tbody tr th {\n",
       "        vertical-align: top;\n",
       "    }\n",
       "\n",
       "    .dataframe thead th {\n",
       "        text-align: right;\n",
       "    }\n",
       "</style>\n",
       "<table border=\"1\" class=\"dataframe\">\n",
       "  <thead>\n",
       "    <tr style=\"text-align: right;\">\n",
       "      <th></th>\n",
       "      <th>user_id</th>\n",
       "      <th>first_event</th>\n",
       "      <th>last_event</th>\n",
       "      <th>event_datetime</th>\n",
       "      <th>event</th>\n",
       "    </tr>\n",
       "  </thead>\n",
       "  <tbody>\n",
       "    <tr>\n",
       "      <td>0</td>\n",
       "      <td>0001f83c-c6ac-4621-b7f0-8a28b283ac30</td>\n",
       "      <td>2020-05-06 01:07:37</td>\n",
       "      <td>2020-05-20 11:26:06</td>\n",
       "      <td>2020-05-20 11:26:06</td>\n",
       "      <td>building</td>\n",
       "    </tr>\n",
       "  </tbody>\n",
       "</table>\n",
       "</div>"
      ],
      "text/plain": [
       "                                user_id         first_event  \\\n",
       "0  0001f83c-c6ac-4621-b7f0-8a28b283ac30 2020-05-06 01:07:37   \n",
       "\n",
       "           last_event      event_datetime     event  \n",
       "0 2020-05-20 11:26:06 2020-05-20 11:26:06  building  "
      ]
     },
     "execution_count": 93,
     "metadata": {},
     "output_type": "execute_result"
    }
   ],
   "source": [
    "users_first_last_event = users_first_last_event.merge(events_for_users, \n",
    "                                                      how='left', \n",
    "                                                      left_on=['user_id', 'last_event'], \n",
    "                                                      right_on=['user_id', 'event_datetime'])\n",
    "users_first_last_event.head(1)"
   ]
  },
  {
   "cell_type": "code",
   "execution_count": 94,
   "metadata": {},
   "outputs": [
    {
     "data": {
      "text/plain": [
       "(13576, 5)"
      ]
     },
     "execution_count": 94,
     "metadata": {},
     "output_type": "execute_result"
    }
   ],
   "source": [
    "users_first_last_event.shape"
   ]
  },
  {
   "cell_type": "code",
   "execution_count": 95,
   "metadata": {},
   "outputs": [
    {
     "data": {
      "text/html": [
       "<div>\n",
       "<style scoped>\n",
       "    .dataframe tbody tr th:only-of-type {\n",
       "        vertical-align: middle;\n",
       "    }\n",
       "\n",
       "    .dataframe tbody tr th {\n",
       "        vertical-align: top;\n",
       "    }\n",
       "\n",
       "    .dataframe thead th {\n",
       "        text-align: right;\n",
       "    }\n",
       "</style>\n",
       "<table border=\"1\" class=\"dataframe\">\n",
       "  <thead>\n",
       "    <tr style=\"text-align: right;\">\n",
       "      <th></th>\n",
       "      <th>user_id</th>\n",
       "      <th>first_event</th>\n",
       "      <th>last_event</th>\n",
       "      <th>event</th>\n",
       "      <th>project_type</th>\n",
       "    </tr>\n",
       "  </thead>\n",
       "  <tbody>\n",
       "    <tr>\n",
       "      <td>0</td>\n",
       "      <td>0001f83c-c6ac-4621-b7f0-8a28b283ac30</td>\n",
       "      <td>2020-05-06 01:07:37</td>\n",
       "      <td>2020-05-20 11:26:06</td>\n",
       "      <td>building</td>\n",
       "      <td>NaN</td>\n",
       "    </tr>\n",
       "  </tbody>\n",
       "</table>\n",
       "</div>"
      ],
      "text/plain": [
       "                                user_id         first_event  \\\n",
       "0  0001f83c-c6ac-4621-b7f0-8a28b283ac30 2020-05-06 01:07:37   \n",
       "\n",
       "           last_event     event project_type  \n",
       "0 2020-05-20 11:26:06  building          NaN  "
      ]
     },
     "execution_count": 95,
     "metadata": {},
     "output_type": "execute_result"
    }
   ],
   "source": [
    "users_first_last_event = users_first_last_event.merge(user_project_type, how='left', on='user_id')\\\n",
    "                                               .drop('event_datetime', axis=1)\n",
    "users_first_last_event.head(1)"
   ]
  },
  {
   "cell_type": "code",
   "execution_count": 96,
   "metadata": {},
   "outputs": [
    {
     "data": {
      "text/plain": [
       "(13576, 5)"
      ]
     },
     "execution_count": 96,
     "metadata": {},
     "output_type": "execute_result"
    }
   ],
   "source": [
    "users_first_last_event.shape"
   ]
  },
  {
   "cell_type": "markdown",
   "metadata": {},
   "source": [
    "заполним пропуски"
   ]
  },
  {
   "cell_type": "code",
   "execution_count": 97,
   "metadata": {},
   "outputs": [],
   "source": [
    "users_first_last_event['project_type'] = users_first_last_event['project_type'].fillna('none')"
   ]
  },
  {
   "cell_type": "markdown",
   "metadata": {},
   "source": [
    "выделим длительность между первым и последним действием"
   ]
  },
  {
   "cell_type": "code",
   "execution_count": 98,
   "metadata": {},
   "outputs": [],
   "source": [
    "users_first_last_event['path_duration'] = users_first_last_event['last_event'] - users_first_last_event['first_event']"
   ]
  },
  {
   "cell_type": "markdown",
   "metadata": {},
   "source": [
    "переведем длительность в дни"
   ]
  },
  {
   "cell_type": "code",
   "execution_count": 99,
   "metadata": {},
   "outputs": [],
   "source": [
    "users_first_last_event['path_days'] = users_first_last_event['path_duration'].dt.days"
   ]
  },
  {
   "cell_type": "code",
   "execution_count": 100,
   "metadata": {},
   "outputs": [
    {
     "data": {
      "text/html": [
       "<div>\n",
       "<style scoped>\n",
       "    .dataframe tbody tr th:only-of-type {\n",
       "        vertical-align: middle;\n",
       "    }\n",
       "\n",
       "    .dataframe tbody tr th {\n",
       "        vertical-align: top;\n",
       "    }\n",
       "\n",
       "    .dataframe thead th {\n",
       "        text-align: right;\n",
       "    }\n",
       "</style>\n",
       "<table border=\"1\" class=\"dataframe\">\n",
       "  <thead>\n",
       "    <tr style=\"text-align: right;\">\n",
       "      <th></th>\n",
       "      <th>user_id</th>\n",
       "      <th>first_event</th>\n",
       "      <th>last_event</th>\n",
       "      <th>event</th>\n",
       "      <th>project_type</th>\n",
       "      <th>path_duration</th>\n",
       "      <th>path_days</th>\n",
       "    </tr>\n",
       "  </thead>\n",
       "  <tbody>\n",
       "    <tr>\n",
       "      <td>0</td>\n",
       "      <td>0001f83c-c6ac-4621-b7f0-8a28b283ac30</td>\n",
       "      <td>2020-05-06 01:07:37</td>\n",
       "      <td>2020-05-20 11:26:06</td>\n",
       "      <td>building</td>\n",
       "      <td>none</td>\n",
       "      <td>14 days 10:18:29</td>\n",
       "      <td>14</td>\n",
       "    </tr>\n",
       "    <tr>\n",
       "      <td>1</td>\n",
       "      <td>00151b4f-ba38-44a8-a650-d7cf130a0105</td>\n",
       "      <td>2020-05-06 03:09:12</td>\n",
       "      <td>2020-05-18 10:46:52</td>\n",
       "      <td>building</td>\n",
       "      <td>none</td>\n",
       "      <td>12 days 07:37:40</td>\n",
       "      <td>12</td>\n",
       "    </tr>\n",
       "    <tr>\n",
       "      <td>2</td>\n",
       "      <td>001aaea6-3d14-43f1-8ca8-7f48820f17aa</td>\n",
       "      <td>2020-05-05 18:08:52</td>\n",
       "      <td>2020-05-14 09:21:27</td>\n",
       "      <td>building</td>\n",
       "      <td>none</td>\n",
       "      <td>8 days 15:12:35</td>\n",
       "      <td>8</td>\n",
       "    </tr>\n",
       "    <tr>\n",
       "      <td>3</td>\n",
       "      <td>001d39dc-366c-4021-9604-6a3b9ff01e25</td>\n",
       "      <td>2020-05-05 21:02:05</td>\n",
       "      <td>2020-05-12 07:40:47</td>\n",
       "      <td>finished_stage_1</td>\n",
       "      <td>none</td>\n",
       "      <td>6 days 10:38:42</td>\n",
       "      <td>6</td>\n",
       "    </tr>\n",
       "    <tr>\n",
       "      <td>4</td>\n",
       "      <td>002f508f-67b6-479f-814b-b05f00d4e995</td>\n",
       "      <td>2020-05-05 13:49:58</td>\n",
       "      <td>2020-05-22 02:46:45</td>\n",
       "      <td>building</td>\n",
       "      <td>none</td>\n",
       "      <td>16 days 12:56:47</td>\n",
       "      <td>16</td>\n",
       "    </tr>\n",
       "  </tbody>\n",
       "</table>\n",
       "</div>"
      ],
      "text/plain": [
       "                                user_id         first_event  \\\n",
       "0  0001f83c-c6ac-4621-b7f0-8a28b283ac30 2020-05-06 01:07:37   \n",
       "1  00151b4f-ba38-44a8-a650-d7cf130a0105 2020-05-06 03:09:12   \n",
       "2  001aaea6-3d14-43f1-8ca8-7f48820f17aa 2020-05-05 18:08:52   \n",
       "3  001d39dc-366c-4021-9604-6a3b9ff01e25 2020-05-05 21:02:05   \n",
       "4  002f508f-67b6-479f-814b-b05f00d4e995 2020-05-05 13:49:58   \n",
       "\n",
       "           last_event             event project_type    path_duration  \\\n",
       "0 2020-05-20 11:26:06          building         none 14 days 10:18:29   \n",
       "1 2020-05-18 10:46:52          building         none 12 days 07:37:40   \n",
       "2 2020-05-14 09:21:27          building         none  8 days 15:12:35   \n",
       "3 2020-05-12 07:40:47  finished_stage_1         none  6 days 10:38:42   \n",
       "4 2020-05-22 02:46:45          building         none 16 days 12:56:47   \n",
       "\n",
       "   path_days  \n",
       "0         14  \n",
       "1         12  \n",
       "2          8  \n",
       "3          6  \n",
       "4         16  "
      ]
     },
     "execution_count": 100,
     "metadata": {},
     "output_type": "execute_result"
    }
   ],
   "source": [
    "users_first_last_event.head()"
   ]
  },
  {
   "cell_type": "markdown",
   "metadata": {},
   "source": [
    "### Пользователи, реализовавшие проект"
   ]
  },
  {
   "cell_type": "code",
   "execution_count": 101,
   "metadata": {},
   "outputs": [
    {
     "name": "stdout",
     "output_type": "stream",
     "text": [
      "Среднее время, за которое пользователь реализует проект: 13 дней\n",
      "Кол-во пользователей, реализовавших проект:  1866\n"
     ]
    }
   ],
   "source": [
    "who_made_project = users_first_last_event.query('project_type != \"none\"')\n",
    "mean_project = round(who_made_project['path_days'].median())\n",
    "\n",
    "print(f'Среднее время, за которое пользователь реализует проект: {mean_project} дней')\n",
    "print('Кол-во пользователей, реализовавших проект: ', len(who_made_project))"
   ]
  },
  {
   "cell_type": "code",
   "execution_count": 102,
   "metadata": {},
   "outputs": [
    {
     "data": {
      "image/png": "[encoded data removed]",
      "text/plain": [
       "<Figure size 720x360 with 1 Axes>"
      ]
     },
     "metadata": {},
     "output_type": "display_data"
    }
   ],
   "source": [
    "who_made_project.hist(bins='auto',figsize=(10,5))\n",
    "plt.title('\\nРаспределение пользователей, реализовавших проект\\n')\n",
    "plt.ylabel('Кол-во пользователей\\n')\n",
    "plt.xlabel('\\nКол-во дней');"
   ]
  },
  {
   "cell_type": "markdown",
   "metadata": {},
   "source": [
    "### Пользователи, победившие первого врага"
   ]
  },
  {
   "cell_type": "code",
   "execution_count": 103,
   "metadata": {},
   "outputs": [
    {
     "name": "stdout",
     "output_type": "stream",
     "text": [
      "Среднее время, за которое пользователь совершает победу над первым врагом: 10 дней\n",
      "Кол-во пользователей, совершивших победу над первым врагом: 3951\n"
     ]
    }
   ],
   "source": [
    "who_made_victory = users_first_last_event.query('project_type == \"none\" and event == \"finished_stage_1\"')\n",
    "mean_victory = round(who_made_victory['path_days'].median())\n",
    "\n",
    "print(f'Среднее время, за которое пользователь совершает победу над первым врагом: {mean_victory} дней')\n",
    "print('Кол-во пользователей, совершивших победу над первым врагом:', len(who_made_victory))"
   ]
  },
  {
   "cell_type": "code",
   "execution_count": 104,
   "metadata": {},
   "outputs": [
    {
     "data": {
      "image/png": "[encoded data removed]",
      "text/plain": [
       "<Figure size 720x360 with 1 Axes>"
      ]
     },
     "metadata": {},
     "output_type": "display_data"
    }
   ],
   "source": [
    "who_made_victory.hist(bins='auto', figsize=(10,5))\n",
    "plt.title('\\nРаспределение пользователей, совершивших победу над первым врагом\\n')\n",
    "plt.ylabel('Кол-во пользователей\\n')\n",
    "plt.xlabel('\\nКол-во дней');"
   ]
  },
  {
   "cell_type": "markdown",
   "metadata": {},
   "source": [
    "### Пользователи, непрошедшие первый уровень"
   ]
  },
  {
   "cell_type": "code",
   "execution_count": 105,
   "metadata": {},
   "outputs": [
    {
     "name": "stdout",
     "output_type": "stream",
     "text": [
      "Среднее время, за которое пользователь останавливается в прогрессе: 9 дней\n",
      "Кол-во пользователей, непрошедшие первый уровень: 7759\n"
     ]
    }
   ],
   "source": [
    "who_lost_game = users_first_last_event.query('event == \"building\"')\n",
    "mean_lost = round(who_lost_game['path_days'].median())\n",
    "\n",
    "print(f'Среднее время, за которое пользователь останавливается в прогрессе: {mean_lost} дней')\n",
    "print('Кол-во пользователей, непрошедшие первый уровень:', len(who_lost_game))"
   ]
  },
  {
   "cell_type": "code",
   "execution_count": 106,
   "metadata": {},
   "outputs": [
    {
     "data": {
      "image/png": "[encoded data removed]",
      "text/plain": [
       "<Figure size 720x360 with 1 Axes>"
      ]
     },
     "metadata": {},
     "output_type": "display_data"
    }
   ],
   "source": [
    "who_lost_game.hist(bins='auto', figsize=(10,5))\n",
    "plt.title('\\nРаспределение пользователей, непрошедшие первый уровень\\n')\n",
    "plt.ylabel('Кол-во пользователей\\n')\n",
    "plt.xlabel('\\nКол-во дней');"
   ]
  },
  {
   "cell_type": "markdown",
   "metadata": {},
   "source": [
    "### Сводная таблица"
   ]
  },
  {
   "cell_type": "code",
   "execution_count": 107,
   "metadata": {},
   "outputs": [
    {
     "data": {
      "text/html": [
       "<div>\n",
       "<style scoped>\n",
       "    .dataframe tbody tr th:only-of-type {\n",
       "        vertical-align: middle;\n",
       "    }\n",
       "\n",
       "    .dataframe tbody tr th {\n",
       "        vertical-align: top;\n",
       "    }\n",
       "\n",
       "    .dataframe thead th {\n",
       "        text-align: right;\n",
       "    }\n",
       "</style>\n",
       "<table border=\"1\" class=\"dataframe\">\n",
       "  <thead>\n",
       "    <tr style=\"text-align: right;\">\n",
       "      <th></th>\n",
       "      <th>event</th>\n",
       "      <th>path_days</th>\n",
       "      <th>user_id</th>\n",
       "    </tr>\n",
       "  </thead>\n",
       "  <tbody>\n",
       "    <tr>\n",
       "      <td>0</td>\n",
       "      <td>who_lost_game</td>\n",
       "      <td>9.285475</td>\n",
       "      <td>7759</td>\n",
       "    </tr>\n",
       "  </tbody>\n",
       "</table>\n",
       "</div>"
      ],
      "text/plain": [
       "           event  path_days  user_id\n",
       "0  who_lost_game   9.285475     7759"
      ]
     },
     "execution_count": 107,
     "metadata": {},
     "output_type": "execute_result"
    }
   ],
   "source": [
    "wlg_pivot = (who_lost_game\n",
    "             .pivot_table(index='event', \n",
    "                          values=['user_id', 'path_days'], \n",
    "                          aggfunc={'user_id':'count', 'path_days':'mean'})\n",
    "             .rename({'building':'who_lost_game'}, axis=0)\n",
    "             .reset_index())\n",
    "wlg_pivot"
   ]
  },
  {
   "cell_type": "code",
   "execution_count": 108,
   "metadata": {},
   "outputs": [
    {
     "data": {
      "text/html": [
       "<div>\n",
       "<style scoped>\n",
       "    .dataframe tbody tr th:only-of-type {\n",
       "        vertical-align: middle;\n",
       "    }\n",
       "\n",
       "    .dataframe tbody tr th {\n",
       "        vertical-align: top;\n",
       "    }\n",
       "\n",
       "    .dataframe thead th {\n",
       "        text-align: right;\n",
       "    }\n",
       "</style>\n",
       "<table border=\"1\" class=\"dataframe\">\n",
       "  <thead>\n",
       "    <tr style=\"text-align: right;\">\n",
       "      <th></th>\n",
       "      <th>event</th>\n",
       "      <th>path_days</th>\n",
       "      <th>user_id</th>\n",
       "    </tr>\n",
       "  </thead>\n",
       "  <tbody>\n",
       "    <tr>\n",
       "      <td>0</td>\n",
       "      <td>who_made_victory</td>\n",
       "      <td>10.606176</td>\n",
       "      <td>3951</td>\n",
       "    </tr>\n",
       "  </tbody>\n",
       "</table>\n",
       "</div>"
      ],
      "text/plain": [
       "              event  path_days  user_id\n",
       "0  who_made_victory  10.606176     3951"
      ]
     },
     "execution_count": 108,
     "metadata": {},
     "output_type": "execute_result"
    }
   ],
   "source": [
    "wmv_pivot = (who_made_victory\n",
    "             .pivot_table(index='event', \n",
    "                          values=['user_id', 'path_days'], \n",
    "                          aggfunc={'user_id':'count', 'path_days':'mean'})\n",
    "             .rename({'finished_stage_1':'who_made_victory'}, axis=0)\n",
    "             .reset_index())\n",
    "wmv_pivot"
   ]
  },
  {
   "cell_type": "code",
   "execution_count": 109,
   "metadata": {},
   "outputs": [
    {
     "data": {
      "text/html": [
       "<div>\n",
       "<style scoped>\n",
       "    .dataframe tbody tr th:only-of-type {\n",
       "        vertical-align: middle;\n",
       "    }\n",
       "\n",
       "    .dataframe tbody tr th {\n",
       "        vertical-align: top;\n",
       "    }\n",
       "\n",
       "    .dataframe thead th {\n",
       "        text-align: right;\n",
       "    }\n",
       "</style>\n",
       "<table border=\"1\" class=\"dataframe\">\n",
       "  <thead>\n",
       "    <tr style=\"text-align: right;\">\n",
       "      <th></th>\n",
       "      <th>event</th>\n",
       "      <th>path_days</th>\n",
       "      <th>user_id</th>\n",
       "    </tr>\n",
       "  </thead>\n",
       "  <tbody>\n",
       "    <tr>\n",
       "      <td>0</td>\n",
       "      <td>who_made_project</td>\n",
       "      <td>12.963023</td>\n",
       "      <td>1866</td>\n",
       "    </tr>\n",
       "  </tbody>\n",
       "</table>\n",
       "</div>"
      ],
      "text/plain": [
       "              event  path_days  user_id\n",
       "0  who_made_project  12.963023     1866"
      ]
     },
     "execution_count": 109,
     "metadata": {},
     "output_type": "execute_result"
    }
   ],
   "source": [
    "wmp_pivot = (who_made_project\n",
    "             .pivot_table(index='event', \n",
    "                          values=['user_id', 'path_days'], \n",
    "                          aggfunc={'user_id':'count', 'path_days':'mean'})\n",
    "             .rename({'finished_stage_1':'who_made_project'}, axis=0)\n",
    "             .reset_index())\n",
    "wmp_pivot"
   ]
  },
  {
   "cell_type": "code",
   "execution_count": 110,
   "metadata": {},
   "outputs": [],
   "source": [
    "who_concat = pd.concat([wlg_pivot, wmv_pivot, wmp_pivot]).reset_index(drop=True)"
   ]
  },
  {
   "cell_type": "code",
   "execution_count": 111,
   "metadata": {},
   "outputs": [],
   "source": [
    "who_concat['path_days'] = round(who_concat['path_days'])"
   ]
  },
  {
   "cell_type": "code",
   "execution_count": 112,
   "metadata": {},
   "outputs": [],
   "source": [
    "who_concat['%_of_total'] = (who_concat['user_id'] / who_concat['user_id'].sum()).round(2)"
   ]
  },
  {
   "cell_type": "code",
   "execution_count": 113,
   "metadata": {},
   "outputs": [
    {
     "data": {
      "text/html": [
       "<div>\n",
       "<style scoped>\n",
       "    .dataframe tbody tr th:only-of-type {\n",
       "        vertical-align: middle;\n",
       "    }\n",
       "\n",
       "    .dataframe tbody tr th {\n",
       "        vertical-align: top;\n",
       "    }\n",
       "\n",
       "    .dataframe thead th {\n",
       "        text-align: right;\n",
       "    }\n",
       "</style>\n",
       "<table border=\"1\" class=\"dataframe\">\n",
       "  <thead>\n",
       "    <tr style=\"text-align: right;\">\n",
       "      <th></th>\n",
       "      <th>event</th>\n",
       "      <th>path_days</th>\n",
       "      <th>user_id</th>\n",
       "      <th>%_of_total</th>\n",
       "    </tr>\n",
       "  </thead>\n",
       "  <tbody>\n",
       "    <tr>\n",
       "      <td>0</td>\n",
       "      <td>who_lost_game</td>\n",
       "      <td>9.0</td>\n",
       "      <td>7759</td>\n",
       "      <td>0.57</td>\n",
       "    </tr>\n",
       "    <tr>\n",
       "      <td>1</td>\n",
       "      <td>who_made_victory</td>\n",
       "      <td>11.0</td>\n",
       "      <td>3951</td>\n",
       "      <td>0.29</td>\n",
       "    </tr>\n",
       "    <tr>\n",
       "      <td>2</td>\n",
       "      <td>who_made_project</td>\n",
       "      <td>13.0</td>\n",
       "      <td>1866</td>\n",
       "      <td>0.14</td>\n",
       "    </tr>\n",
       "  </tbody>\n",
       "</table>\n",
       "</div>"
      ],
      "text/plain": [
       "              event  path_days  user_id  %_of_total\n",
       "0     who_lost_game        9.0     7759        0.57\n",
       "1  who_made_victory       11.0     3951        0.29\n",
       "2  who_made_project       13.0     1866        0.14"
      ]
     },
     "execution_count": 113,
     "metadata": {},
     "output_type": "execute_result"
    }
   ],
   "source": [
    "who_concat"
   ]
  },
  {
   "cell_type": "code",
   "execution_count": 114,
   "metadata": {},
   "outputs": [
    {
     "data": {
      "text/html": [
       "<div>\n",
       "<style scoped>\n",
       "    .dataframe tbody tr th:only-of-type {\n",
       "        vertical-align: middle;\n",
       "    }\n",
       "\n",
       "    .dataframe tbody tr th {\n",
       "        vertical-align: top;\n",
       "    }\n",
       "\n",
       "    .dataframe thead th {\n",
       "        text-align: right;\n",
       "    }\n",
       "</style>\n",
       "<table border=\"1\" class=\"dataframe\">\n",
       "  <thead>\n",
       "    <tr style=\"text-align: right;\">\n",
       "      <th></th>\n",
       "      <th>%_of_total</th>\n",
       "    </tr>\n",
       "    <tr>\n",
       "      <th>event</th>\n",
       "      <th></th>\n",
       "    </tr>\n",
       "  </thead>\n",
       "  <tbody>\n",
       "    <tr>\n",
       "      <td>who_lost_game</td>\n",
       "      <td>0.57</td>\n",
       "    </tr>\n",
       "    <tr>\n",
       "      <td>who_made_victory</td>\n",
       "      <td>0.29</td>\n",
       "    </tr>\n",
       "    <tr>\n",
       "      <td>who_made_project</td>\n",
       "      <td>0.14</td>\n",
       "    </tr>\n",
       "  </tbody>\n",
       "</table>\n",
       "</div>"
      ],
      "text/plain": [
       "                  %_of_total\n",
       "event                       \n",
       "who_lost_game           0.57\n",
       "who_made_victory        0.29\n",
       "who_made_project        0.14"
      ]
     },
     "execution_count": 114,
     "metadata": {},
     "output_type": "execute_result"
    }
   ],
   "source": [
    "who_concat[['event','%_of_total']].set_index('event')"
   ]
  },
  {
   "cell_type": "code",
   "execution_count": 115,
   "metadata": {},
   "outputs": [
    {
     "data": {
      "image/png": "[encoded data removed]",
      "text/plain": [
       "<Figure size 864x360 with 1 Axes>"
      ]
     },
     "metadata": {},
     "output_type": "display_data"
    }
   ],
   "source": [
    "who_concat[['event','%_of_total']].set_index('event').plot(kind='bar', figsize=(12,5), grid=True)\n",
    "plt.title('\\nДоля пользователей завершивших первый уровень\\n')\n",
    "plt.ylabel('Доля\\n')\n",
    "plt.xlabel('\\nИсход')\n",
    "plt.xticks(rotation=0);"
   ]
  },
  {
   "cell_type": "markdown",
   "metadata": {},
   "source": [
    "### Вывод"
   ]
  },
  {
   "cell_type": "markdown",
   "metadata": {},
   "source": [
    " - Большинство пользователей (57%) остановились в прогрессе и не прошли первый уровень\n",
    " - 29% пользователей прошли первый уровень победой над врагом\n",
    " - 14% выбрали путь реализации проекта\n",
    " - Только 43% пользователей прошли первый уровень"
   ]
  },
  {
   "cell_type": "markdown",
   "metadata": {
    "id": "OArrESJnOYIo"
   },
   "source": [
    "[План](#section_id_0) "
   ]
  },
  {
   "cell_type": "markdown",
   "metadata": {},
   "source": [
    "***"
   ]
  },
  {
   "cell_type": "markdown",
   "metadata": {},
   "source": [
    "## 2.7. Влияние источника трафика рекламы на прохождение уровня  <a id='section_id_57'></a>"
   ]
  },
  {
   "cell_type": "markdown",
   "metadata": {},
   "source": [
    "Добавим к таблице **users_first_last_event** таблицу с рекламными источниками, с которых пришли пользователи"
   ]
  },
  {
   "cell_type": "code",
   "execution_count": 116,
   "metadata": {},
   "outputs": [
    {
     "data": {
      "text/html": [
       "<div>\n",
       "<style scoped>\n",
       "    .dataframe tbody tr th:only-of-type {\n",
       "        vertical-align: middle;\n",
       "    }\n",
       "\n",
       "    .dataframe tbody tr th {\n",
       "        vertical-align: top;\n",
       "    }\n",
       "\n",
       "    .dataframe thead th {\n",
       "        text-align: right;\n",
       "    }\n",
       "</style>\n",
       "<table border=\"1\" class=\"dataframe\">\n",
       "  <thead>\n",
       "    <tr style=\"text-align: right;\">\n",
       "      <th></th>\n",
       "      <th>user_id</th>\n",
       "      <th>first_event</th>\n",
       "      <th>last_event</th>\n",
       "      <th>event</th>\n",
       "      <th>project_type</th>\n",
       "      <th>path_duration</th>\n",
       "      <th>path_days</th>\n",
       "    </tr>\n",
       "  </thead>\n",
       "  <tbody>\n",
       "    <tr>\n",
       "      <td>0</td>\n",
       "      <td>0001f83c-c6ac-4621-b7f0-8a28b283ac30</td>\n",
       "      <td>2020-05-06 01:07:37</td>\n",
       "      <td>2020-05-20 11:26:06</td>\n",
       "      <td>building</td>\n",
       "      <td>none</td>\n",
       "      <td>14 days 10:18:29</td>\n",
       "      <td>14</td>\n",
       "    </tr>\n",
       "    <tr>\n",
       "      <td>1</td>\n",
       "      <td>00151b4f-ba38-44a8-a650-d7cf130a0105</td>\n",
       "      <td>2020-05-06 03:09:12</td>\n",
       "      <td>2020-05-18 10:46:52</td>\n",
       "      <td>building</td>\n",
       "      <td>none</td>\n",
       "      <td>12 days 07:37:40</td>\n",
       "      <td>12</td>\n",
       "    </tr>\n",
       "    <tr>\n",
       "      <td>2</td>\n",
       "      <td>001aaea6-3d14-43f1-8ca8-7f48820f17aa</td>\n",
       "      <td>2020-05-05 18:08:52</td>\n",
       "      <td>2020-05-14 09:21:27</td>\n",
       "      <td>building</td>\n",
       "      <td>none</td>\n",
       "      <td>8 days 15:12:35</td>\n",
       "      <td>8</td>\n",
       "    </tr>\n",
       "    <tr>\n",
       "      <td>3</td>\n",
       "      <td>001d39dc-366c-4021-9604-6a3b9ff01e25</td>\n",
       "      <td>2020-05-05 21:02:05</td>\n",
       "      <td>2020-05-12 07:40:47</td>\n",
       "      <td>finished_stage_1</td>\n",
       "      <td>none</td>\n",
       "      <td>6 days 10:38:42</td>\n",
       "      <td>6</td>\n",
       "    </tr>\n",
       "    <tr>\n",
       "      <td>4</td>\n",
       "      <td>002f508f-67b6-479f-814b-b05f00d4e995</td>\n",
       "      <td>2020-05-05 13:49:58</td>\n",
       "      <td>2020-05-22 02:46:45</td>\n",
       "      <td>building</td>\n",
       "      <td>none</td>\n",
       "      <td>16 days 12:56:47</td>\n",
       "      <td>16</td>\n",
       "    </tr>\n",
       "  </tbody>\n",
       "</table>\n",
       "</div>"
      ],
      "text/plain": [
       "                                user_id         first_event  \\\n",
       "0  0001f83c-c6ac-4621-b7f0-8a28b283ac30 2020-05-06 01:07:37   \n",
       "1  00151b4f-ba38-44a8-a650-d7cf130a0105 2020-05-06 03:09:12   \n",
       "2  001aaea6-3d14-43f1-8ca8-7f48820f17aa 2020-05-05 18:08:52   \n",
       "3  001d39dc-366c-4021-9604-6a3b9ff01e25 2020-05-05 21:02:05   \n",
       "4  002f508f-67b6-479f-814b-b05f00d4e995 2020-05-05 13:49:58   \n",
       "\n",
       "           last_event             event project_type    path_duration  \\\n",
       "0 2020-05-20 11:26:06          building         none 14 days 10:18:29   \n",
       "1 2020-05-18 10:46:52          building         none 12 days 07:37:40   \n",
       "2 2020-05-14 09:21:27          building         none  8 days 15:12:35   \n",
       "3 2020-05-12 07:40:47  finished_stage_1         none  6 days 10:38:42   \n",
       "4 2020-05-22 02:46:45          building         none 16 days 12:56:47   \n",
       "\n",
       "   path_days  \n",
       "0         14  \n",
       "1         12  \n",
       "2          8  \n",
       "3          6  \n",
       "4         16  "
      ]
     },
     "execution_count": 116,
     "metadata": {},
     "output_type": "execute_result"
    }
   ],
   "source": [
    "users_first_last_event.head() "
   ]
  },
  {
   "cell_type": "code",
   "execution_count": 117,
   "metadata": {},
   "outputs": [],
   "source": [
    "users_first_last_event = users_first_last_event.merge(user_source, on='user_id', how='left')"
   ]
  },
  {
   "cell_type": "code",
   "execution_count": 118,
   "metadata": {},
   "outputs": [
    {
     "data": {
      "text/html": [
       "<div>\n",
       "<style scoped>\n",
       "    .dataframe tbody tr th:only-of-type {\n",
       "        vertical-align: middle;\n",
       "    }\n",
       "\n",
       "    .dataframe tbody tr th {\n",
       "        vertical-align: top;\n",
       "    }\n",
       "\n",
       "    .dataframe thead th {\n",
       "        text-align: right;\n",
       "    }\n",
       "</style>\n",
       "<table border=\"1\" class=\"dataframe\">\n",
       "  <thead>\n",
       "    <tr style=\"text-align: right;\">\n",
       "      <th></th>\n",
       "      <th>source</th>\n",
       "      <th>event</th>\n",
       "    </tr>\n",
       "  </thead>\n",
       "  <tbody>\n",
       "    <tr>\n",
       "      <td>0</td>\n",
       "      <td>facebook_ads</td>\n",
       "      <td>1150</td>\n",
       "    </tr>\n",
       "    <tr>\n",
       "      <td>1</td>\n",
       "      <td>instagram_new_adverts</td>\n",
       "      <td>1466</td>\n",
       "    </tr>\n",
       "    <tr>\n",
       "      <td>2</td>\n",
       "      <td>yandex_direct</td>\n",
       "      <td>2042</td>\n",
       "    </tr>\n",
       "    <tr>\n",
       "      <td>3</td>\n",
       "      <td>youtube_channel_reklama</td>\n",
       "      <td>1159</td>\n",
       "    </tr>\n",
       "  </tbody>\n",
       "</table>\n",
       "</div>"
      ],
      "text/plain": [
       "                    source  event\n",
       "0             facebook_ads   1150\n",
       "1    instagram_new_adverts   1466\n",
       "2            yandex_direct   2042\n",
       "3  youtube_channel_reklama   1159"
      ]
     },
     "execution_count": 118,
     "metadata": {},
     "output_type": "execute_result"
    }
   ],
   "source": [
    "finished_by_source = users_first_last_event.query('event == \"finished_stage_1\"')\\\n",
    "                                           .groupby('source')['event']\\\n",
    "                                           .count()\\\n",
    "                                           .reset_index()\n",
    "finished_by_source"
   ]
  },
  {
   "cell_type": "markdown",
   "metadata": {},
   "source": [
    "Соединим таблицы **finished_by_source** и **source_current**"
   ]
  },
  {
   "cell_type": "code",
   "execution_count": 119,
   "metadata": {},
   "outputs": [
    {
     "data": {
      "text/html": [
       "<div>\n",
       "<style scoped>\n",
       "    .dataframe tbody tr th:only-of-type {\n",
       "        vertical-align: middle;\n",
       "    }\n",
       "\n",
       "    .dataframe tbody tr th {\n",
       "        vertical-align: top;\n",
       "    }\n",
       "\n",
       "    .dataframe thead th {\n",
       "        text-align: right;\n",
       "    }\n",
       "</style>\n",
       "<table border=\"1\" class=\"dataframe\">\n",
       "  <thead>\n",
       "    <tr style=\"text-align: right;\">\n",
       "      <th></th>\n",
       "      <th>user_id</th>\n",
       "    </tr>\n",
       "    <tr>\n",
       "      <th>source</th>\n",
       "      <th></th>\n",
       "    </tr>\n",
       "  </thead>\n",
       "  <tbody>\n",
       "    <tr>\n",
       "      <td>yandex_direct</td>\n",
       "      <td>4817</td>\n",
       "    </tr>\n",
       "    <tr>\n",
       "      <td>instagram_new_adverts</td>\n",
       "      <td>3347</td>\n",
       "    </tr>\n",
       "    <tr>\n",
       "      <td>facebook_ads</td>\n",
       "      <td>2726</td>\n",
       "    </tr>\n",
       "    <tr>\n",
       "      <td>youtube_channel_reklama</td>\n",
       "      <td>2686</td>\n",
       "    </tr>\n",
       "  </tbody>\n",
       "</table>\n",
       "</div>"
      ],
      "text/plain": [
       "                         user_id\n",
       "source                          \n",
       "yandex_direct               4817\n",
       "instagram_new_adverts       3347\n",
       "facebook_ads                2726\n",
       "youtube_channel_reklama     2686"
      ]
     },
     "execution_count": 119,
     "metadata": {},
     "output_type": "execute_result"
    }
   ],
   "source": [
    "source_current"
   ]
  },
  {
   "cell_type": "code",
   "execution_count": 120,
   "metadata": {},
   "outputs": [],
   "source": [
    "source_current.reset_index(inplace=True)"
   ]
  },
  {
   "cell_type": "code",
   "execution_count": 121,
   "metadata": {},
   "outputs": [],
   "source": [
    "source_merge = finished_by_source.merge(source_current, on='source', how='left')\\\n",
    "                                 .rename(columns={'event':'finished_users', 'user_id':'attracted_users'})"
   ]
  },
  {
   "cell_type": "code",
   "execution_count": 122,
   "metadata": {},
   "outputs": [],
   "source": [
    "source_merge['%_of_finished'] = source_merge['finished_users'] / source_merge['attracted_users']"
   ]
  },
  {
   "cell_type": "code",
   "execution_count": 123,
   "metadata": {},
   "outputs": [],
   "source": [
    "source_merge = source_merge.merge(cac).sort_values(by='%_of_finished', ascending=False)"
   ]
  },
  {
   "cell_type": "code",
   "execution_count": 124,
   "metadata": {},
   "outputs": [
    {
     "data": {
      "text/html": [
       "<div>\n",
       "<style scoped>\n",
       "    .dataframe tbody tr th:only-of-type {\n",
       "        vertical-align: middle;\n",
       "    }\n",
       "\n",
       "    .dataframe tbody tr th {\n",
       "        vertical-align: top;\n",
       "    }\n",
       "\n",
       "    .dataframe thead th {\n",
       "        text-align: right;\n",
       "    }\n",
       "</style>\n",
       "<table border=\"1\" class=\"dataframe\">\n",
       "  <thead>\n",
       "    <tr style=\"text-align: right;\">\n",
       "      <th></th>\n",
       "      <th>source</th>\n",
       "      <th>finished_users</th>\n",
       "      <th>attracted_users</th>\n",
       "      <th>%_of_finished</th>\n",
       "      <th>cost</th>\n",
       "      <th>count</th>\n",
       "      <th>cac</th>\n",
       "    </tr>\n",
       "  </thead>\n",
       "  <tbody>\n",
       "    <tr>\n",
       "      <td>1</td>\n",
       "      <td>instagram_new_adverts</td>\n",
       "      <td>1466</td>\n",
       "      <td>3347</td>\n",
       "      <td>0.438004</td>\n",
       "      <td>2161.0</td>\n",
       "      <td>3347</td>\n",
       "      <td>0.65</td>\n",
       "    </tr>\n",
       "    <tr>\n",
       "      <td>3</td>\n",
       "      <td>youtube_channel_reklama</td>\n",
       "      <td>1159</td>\n",
       "      <td>2686</td>\n",
       "      <td>0.431497</td>\n",
       "      <td>1068.0</td>\n",
       "      <td>2686</td>\n",
       "      <td>0.40</td>\n",
       "    </tr>\n",
       "    <tr>\n",
       "      <td>2</td>\n",
       "      <td>yandex_direct</td>\n",
       "      <td>2042</td>\n",
       "      <td>4817</td>\n",
       "      <td>0.423915</td>\n",
       "      <td>2233.0</td>\n",
       "      <td>4817</td>\n",
       "      <td>0.46</td>\n",
       "    </tr>\n",
       "    <tr>\n",
       "      <td>0</td>\n",
       "      <td>facebook_ads</td>\n",
       "      <td>1150</td>\n",
       "      <td>2726</td>\n",
       "      <td>0.421864</td>\n",
       "      <td>2141.0</td>\n",
       "      <td>2726</td>\n",
       "      <td>0.79</td>\n",
       "    </tr>\n",
       "  </tbody>\n",
       "</table>\n",
       "</div>"
      ],
      "text/plain": [
       "                    source  finished_users  attracted_users  %_of_finished  \\\n",
       "1    instagram_new_adverts            1466             3347       0.438004   \n",
       "3  youtube_channel_reklama            1159             2686       0.431497   \n",
       "2            yandex_direct            2042             4817       0.423915   \n",
       "0             facebook_ads            1150             2726       0.421864   \n",
       "\n",
       "     cost  count   cac  \n",
       "1  2161.0   3347  0.65  \n",
       "3  1068.0   2686  0.40  \n",
       "2  2233.0   4817  0.46  \n",
       "0  2141.0   2726  0.79  "
      ]
     },
     "execution_count": 124,
     "metadata": {},
     "output_type": "execute_result"
    }
   ],
   "source": [
    "source_merge"
   ]
  },
  {
   "cell_type": "markdown",
   "metadata": {},
   "source": [
    "разницы в проценте прохождения первого уровня в зависимости от источника трафика нет;  \n",
    " "
   ]
  },
  {
   "cell_type": "markdown",
   "metadata": {
    "id": "OArrESJnOYIo"
   },
   "source": [
    "[План](#section_id_0) "
   ]
  },
  {
   "cell_type": "markdown",
   "metadata": {},
   "source": [
    "## 2.8. Влияние источника трафика рекламы на стратегию прохождения уровня"
   ]
  },
  {
   "cell_type": "code",
   "execution_count": 125,
   "metadata": {},
   "outputs": [],
   "source": [
    "who_made_victory['strategy'] = 'victory'"
   ]
  },
  {
   "cell_type": "code",
   "execution_count": 126,
   "metadata": {},
   "outputs": [
    {
     "data": {
      "text/html": [
       "<div>\n",
       "<style scoped>\n",
       "    .dataframe tbody tr th:only-of-type {\n",
       "        vertical-align: middle;\n",
       "    }\n",
       "\n",
       "    .dataframe tbody tr th {\n",
       "        vertical-align: top;\n",
       "    }\n",
       "\n",
       "    .dataframe thead th {\n",
       "        text-align: right;\n",
       "    }\n",
       "</style>\n",
       "<table border=\"1\" class=\"dataframe\">\n",
       "  <thead>\n",
       "    <tr style=\"text-align: right;\">\n",
       "      <th></th>\n",
       "      <th>user_id</th>\n",
       "      <th>first_event</th>\n",
       "      <th>last_event</th>\n",
       "      <th>event</th>\n",
       "      <th>project_type</th>\n",
       "      <th>path_duration</th>\n",
       "      <th>path_days</th>\n",
       "      <th>strategy</th>\n",
       "    </tr>\n",
       "  </thead>\n",
       "  <tbody>\n",
       "    <tr>\n",
       "      <td>3</td>\n",
       "      <td>001d39dc-366c-4021-9604-6a3b9ff01e25</td>\n",
       "      <td>2020-05-05 21:02:05</td>\n",
       "      <td>2020-05-12 07:40:47</td>\n",
       "      <td>finished_stage_1</td>\n",
       "      <td>none</td>\n",
       "      <td>6 days 10:38:42</td>\n",
       "      <td>6</td>\n",
       "      <td>victory</td>\n",
       "    </tr>\n",
       "    <tr>\n",
       "      <td>6</td>\n",
       "      <td>003ee7e8-6356-4286-a715-62f22a18d2a1</td>\n",
       "      <td>2020-05-05 08:31:04</td>\n",
       "      <td>2020-05-17 21:47:49</td>\n",
       "      <td>finished_stage_1</td>\n",
       "      <td>none</td>\n",
       "      <td>12 days 13:16:45</td>\n",
       "      <td>12</td>\n",
       "      <td>victory</td>\n",
       "    </tr>\n",
       "    <tr>\n",
       "      <td>7</td>\n",
       "      <td>004074f8-251a-4776-922c-8348dca1a2f6</td>\n",
       "      <td>2020-05-04 01:07:35</td>\n",
       "      <td>2020-05-16 19:57:40</td>\n",
       "      <td>finished_stage_1</td>\n",
       "      <td>none</td>\n",
       "      <td>12 days 18:50:05</td>\n",
       "      <td>12</td>\n",
       "      <td>victory</td>\n",
       "    </tr>\n",
       "    <tr>\n",
       "      <td>9</td>\n",
       "      <td>00464e5e-28ed-4be6-bf44-517ef7b3937b</td>\n",
       "      <td>2020-05-04 08:35:29</td>\n",
       "      <td>2020-05-15 16:02:01</td>\n",
       "      <td>finished_stage_1</td>\n",
       "      <td>none</td>\n",
       "      <td>11 days 07:26:32</td>\n",
       "      <td>11</td>\n",
       "      <td>victory</td>\n",
       "    </tr>\n",
       "    <tr>\n",
       "      <td>10</td>\n",
       "      <td>0056c007-c082-43cc-bdef-afc49bca4cb9</td>\n",
       "      <td>2020-05-10 11:49:47</td>\n",
       "      <td>2020-05-16 13:48:39</td>\n",
       "      <td>finished_stage_1</td>\n",
       "      <td>none</td>\n",
       "      <td>6 days 01:58:52</td>\n",
       "      <td>6</td>\n",
       "      <td>victory</td>\n",
       "    </tr>\n",
       "    <tr>\n",
       "      <td>...</td>\n",
       "      <td>...</td>\n",
       "      <td>...</td>\n",
       "      <td>...</td>\n",
       "      <td>...</td>\n",
       "      <td>...</td>\n",
       "      <td>...</td>\n",
       "      <td>...</td>\n",
       "      <td>...</td>\n",
       "    </tr>\n",
       "    <tr>\n",
       "      <td>13566</td>\n",
       "      <td>ffc6f4fa-3476-47af-85cb-e2ee0551110a</td>\n",
       "      <td>2020-05-04 03:59:12</td>\n",
       "      <td>2020-05-15 12:18:42</td>\n",
       "      <td>finished_stage_1</td>\n",
       "      <td>none</td>\n",
       "      <td>11 days 08:19:30</td>\n",
       "      <td>11</td>\n",
       "      <td>victory</td>\n",
       "    </tr>\n",
       "    <tr>\n",
       "      <td>13568</td>\n",
       "      <td>ffd002f3-3545-423e-8dba-0c6a2d48a3aa</td>\n",
       "      <td>2020-05-06 06:34:18</td>\n",
       "      <td>2020-05-19 04:03:24</td>\n",
       "      <td>finished_stage_1</td>\n",
       "      <td>none</td>\n",
       "      <td>12 days 21:29:06</td>\n",
       "      <td>12</td>\n",
       "      <td>victory</td>\n",
       "    </tr>\n",
       "    <tr>\n",
       "      <td>13570</td>\n",
       "      <td>ffe810f4-1a1f-464b-924d-6f120b0cb8df</td>\n",
       "      <td>2020-05-04 17:46:05</td>\n",
       "      <td>2020-05-18 02:03:36</td>\n",
       "      <td>finished_stage_1</td>\n",
       "      <td>none</td>\n",
       "      <td>13 days 08:17:31</td>\n",
       "      <td>13</td>\n",
       "      <td>victory</td>\n",
       "    </tr>\n",
       "    <tr>\n",
       "      <td>13571</td>\n",
       "      <td>ffef4fed-164c-40e1-bde1-3980f76d0fb5</td>\n",
       "      <td>2020-05-04 01:58:59</td>\n",
       "      <td>2020-05-11 22:15:54</td>\n",
       "      <td>finished_stage_1</td>\n",
       "      <td>none</td>\n",
       "      <td>7 days 20:16:55</td>\n",
       "      <td>7</td>\n",
       "      <td>victory</td>\n",
       "    </tr>\n",
       "    <tr>\n",
       "      <td>13573</td>\n",
       "      <td>fffb626c-5ab6-47c9-8113-2062a2f18494</td>\n",
       "      <td>2020-05-04 02:05:09</td>\n",
       "      <td>2020-05-12 13:01:52</td>\n",
       "      <td>finished_stage_1</td>\n",
       "      <td>none</td>\n",
       "      <td>8 days 10:56:43</td>\n",
       "      <td>8</td>\n",
       "      <td>victory</td>\n",
       "    </tr>\n",
       "  </tbody>\n",
       "</table>\n",
       "<p>3951 rows × 8 columns</p>\n",
       "</div>"
      ],
      "text/plain": [
       "                                    user_id         first_event  \\\n",
       "3      001d39dc-366c-4021-9604-6a3b9ff01e25 2020-05-05 21:02:05   \n",
       "6      003ee7e8-6356-4286-a715-62f22a18d2a1 2020-05-05 08:31:04   \n",
       "7      004074f8-251a-4776-922c-8348dca1a2f6 2020-05-04 01:07:35   \n",
       "9      00464e5e-28ed-4be6-bf44-517ef7b3937b 2020-05-04 08:35:29   \n",
       "10     0056c007-c082-43cc-bdef-afc49bca4cb9 2020-05-10 11:49:47   \n",
       "...                                     ...                 ...   \n",
       "13566  ffc6f4fa-3476-47af-85cb-e2ee0551110a 2020-05-04 03:59:12   \n",
       "13568  ffd002f3-3545-423e-8dba-0c6a2d48a3aa 2020-05-06 06:34:18   \n",
       "13570  ffe810f4-1a1f-464b-924d-6f120b0cb8df 2020-05-04 17:46:05   \n",
       "13571  ffef4fed-164c-40e1-bde1-3980f76d0fb5 2020-05-04 01:58:59   \n",
       "13573  fffb626c-5ab6-47c9-8113-2062a2f18494 2020-05-04 02:05:09   \n",
       "\n",
       "               last_event             event project_type    path_duration  \\\n",
       "3     2020-05-12 07:40:47  finished_stage_1         none  6 days 10:38:42   \n",
       "6     2020-05-17 21:47:49  finished_stage_1         none 12 days 13:16:45   \n",
       "7     2020-05-16 19:57:40  finished_stage_1         none 12 days 18:50:05   \n",
       "9     2020-05-15 16:02:01  finished_stage_1         none 11 days 07:26:32   \n",
       "10    2020-05-16 13:48:39  finished_stage_1         none  6 days 01:58:52   \n",
       "...                   ...               ...          ...              ...   \n",
       "13566 2020-05-15 12:18:42  finished_stage_1         none 11 days 08:19:30   \n",
       "13568 2020-05-19 04:03:24  finished_stage_1         none 12 days 21:29:06   \n",
       "13570 2020-05-18 02:03:36  finished_stage_1         none 13 days 08:17:31   \n",
       "13571 2020-05-11 22:15:54  finished_stage_1         none  7 days 20:16:55   \n",
       "13573 2020-05-12 13:01:52  finished_stage_1         none  8 days 10:56:43   \n",
       "\n",
       "       path_days strategy  \n",
       "3              6  victory  \n",
       "6             12  victory  \n",
       "7             12  victory  \n",
       "9             11  victory  \n",
       "10             6  victory  \n",
       "...          ...      ...  \n",
       "13566         11  victory  \n",
       "13568         12  victory  \n",
       "13570         13  victory  \n",
       "13571          7  victory  \n",
       "13573          8  victory  \n",
       "\n",
       "[3951 rows x 8 columns]"
      ]
     },
     "execution_count": 126,
     "metadata": {},
     "output_type": "execute_result"
    }
   ],
   "source": [
    "who_made_victory"
   ]
  },
  {
   "cell_type": "code",
   "execution_count": 127,
   "metadata": {},
   "outputs": [],
   "source": [
    "who_lost_game['strategy'] = 'lost_game'"
   ]
  },
  {
   "cell_type": "code",
   "execution_count": 128,
   "metadata": {},
   "outputs": [],
   "source": [
    "who_made_project['strategy'] = 'project'"
   ]
  },
  {
   "cell_type": "code",
   "execution_count": 129,
   "metadata": {},
   "outputs": [],
   "source": [
    "source_to_strategy = who_made_victory.append(who_lost_game)"
   ]
  },
  {
   "cell_type": "code",
   "execution_count": 130,
   "metadata": {},
   "outputs": [],
   "source": [
    "source_to_strategy = source_to_strategy.append(who_made_project)"
   ]
  },
  {
   "cell_type": "code",
   "execution_count": 131,
   "metadata": {},
   "outputs": [
    {
     "data": {
      "text/plain": [
       "(13576, 8)"
      ]
     },
     "execution_count": 131,
     "metadata": {},
     "output_type": "execute_result"
    }
   ],
   "source": [
    "source_to_strategy.shape"
   ]
  },
  {
   "cell_type": "code",
   "execution_count": 132,
   "metadata": {},
   "outputs": [],
   "source": [
    "source_to_strategy = source_to_strategy.merge(user_source, how='inner',on='user_id')"
   ]
  },
  {
   "cell_type": "code",
   "execution_count": 133,
   "metadata": {},
   "outputs": [
    {
     "data": {
      "text/plain": [
       "(13576, 9)"
      ]
     },
     "execution_count": 133,
     "metadata": {},
     "output_type": "execute_result"
    }
   ],
   "source": [
    "source_to_strategy.shape"
   ]
  },
  {
   "cell_type": "code",
   "execution_count": 134,
   "metadata": {},
   "outputs": [
    {
     "data": {
      "text/html": [
       "<div>\n",
       "<style scoped>\n",
       "    .dataframe tbody tr th:only-of-type {\n",
       "        vertical-align: middle;\n",
       "    }\n",
       "\n",
       "    .dataframe tbody tr th {\n",
       "        vertical-align: top;\n",
       "    }\n",
       "\n",
       "    .dataframe thead th {\n",
       "        text-align: right;\n",
       "    }\n",
       "</style>\n",
       "<table border=\"1\" class=\"dataframe\">\n",
       "  <thead>\n",
       "    <tr style=\"text-align: right;\">\n",
       "      <th></th>\n",
       "      <th>user_id</th>\n",
       "      <th>first_event</th>\n",
       "      <th>last_event</th>\n",
       "      <th>event</th>\n",
       "      <th>project_type</th>\n",
       "      <th>path_duration</th>\n",
       "      <th>path_days</th>\n",
       "      <th>strategy</th>\n",
       "      <th>source</th>\n",
       "    </tr>\n",
       "  </thead>\n",
       "  <tbody>\n",
       "    <tr>\n",
       "      <td>0</td>\n",
       "      <td>001d39dc-366c-4021-9604-6a3b9ff01e25</td>\n",
       "      <td>2020-05-05 21:02:05</td>\n",
       "      <td>2020-05-12 07:40:47</td>\n",
       "      <td>finished_stage_1</td>\n",
       "      <td>none</td>\n",
       "      <td>6 days 10:38:42</td>\n",
       "      <td>6</td>\n",
       "      <td>victory</td>\n",
       "      <td>instagram_new_adverts</td>\n",
       "    </tr>\n",
       "    <tr>\n",
       "      <td>1</td>\n",
       "      <td>003ee7e8-6356-4286-a715-62f22a18d2a1</td>\n",
       "      <td>2020-05-05 08:31:04</td>\n",
       "      <td>2020-05-17 21:47:49</td>\n",
       "      <td>finished_stage_1</td>\n",
       "      <td>none</td>\n",
       "      <td>12 days 13:16:45</td>\n",
       "      <td>12</td>\n",
       "      <td>victory</td>\n",
       "      <td>instagram_new_adverts</td>\n",
       "    </tr>\n",
       "  </tbody>\n",
       "</table>\n",
       "</div>"
      ],
      "text/plain": [
       "                                user_id         first_event  \\\n",
       "0  001d39dc-366c-4021-9604-6a3b9ff01e25 2020-05-05 21:02:05   \n",
       "1  003ee7e8-6356-4286-a715-62f22a18d2a1 2020-05-05 08:31:04   \n",
       "\n",
       "           last_event             event project_type    path_duration  \\\n",
       "0 2020-05-12 07:40:47  finished_stage_1         none  6 days 10:38:42   \n",
       "1 2020-05-17 21:47:49  finished_stage_1         none 12 days 13:16:45   \n",
       "\n",
       "   path_days strategy                 source  \n",
       "0          6  victory  instagram_new_adverts  \n",
       "1         12  victory  instagram_new_adverts  "
      ]
     },
     "execution_count": 134,
     "metadata": {},
     "output_type": "execute_result"
    }
   ],
   "source": [
    "source_to_strategy.head(2)"
   ]
  },
  {
   "cell_type": "code",
   "execution_count": 135,
   "metadata": {},
   "outputs": [
    {
     "data": {
      "image/png": "[encoded data removed]",
      "text/plain": [
       "<Figure size 864x432 with 1 Axes>"
      ]
     },
     "metadata": {},
     "output_type": "display_data"
    }
   ],
   "source": [
    "fig = plt.figure(figsize=(12,6))\n",
    "sns.countplot(y='source', hue='strategy', data=source_to_strategy)\n",
    "plt.title('\\nСоотношение источника рекламы \\n и стратегии прохождения уровня\\n',fontsize=15) \n",
    "plt.xlabel(\"\\nКоличество игроков\")\n",
    "plt.ylabel(\"Источник рекламы\\n\")\n",
    "plt.show()"
   ]
  },
  {
   "cell_type": "markdown",
   "metadata": {},
   "source": [
    "Вне зависимости от источника рекламы, игроки вдвое чаще завершают первый уровень победой над врагом,   \n",
    "Реализации проекта отдают меньшее предпочтение все "
   ]
  },
  {
   "cell_type": "markdown",
   "metadata": {
    "id": "Q1OIlJFMOYIq"
   },
   "source": [
    "[План](#section_id_0) "
   ]
  },
  {
   "cell_type": "markdown",
   "metadata": {},
   "source": [
    "***"
   ]
  },
  {
   "cell_type": "markdown",
   "metadata": {
    "id": "UBnvMdGnOYIo"
   },
   "source": [
    "# 3. Статистические гипотезы "
   ]
  },
  {
   "cell_type": "markdown",
   "metadata": {
    "id": "mIDrrQp4OYIo"
   },
   "source": [
    "## 3.1. Время завершения уровня различается в зависимости от способа прохождения <a id='section_id_61'></a>"
   ]
  },
  {
   "cell_type": "markdown",
   "metadata": {},
   "source": [
    "Нулева гипотеза: Время завершения уровня, в зависимости от способа прохождения, `НЕ` различается \n",
    "\n",
    "Альтернативная гипотиза: Время завершения уровня, в зависимости от способа прохождения, различается\n",
    "\n",
    "Уровень значимости alpha: 0,05\n",
    "\n",
    "Посчитаем p-value, используя ttest из библиотеки scipy для сравнения средних двух выборок\n",
    "\n",
    "Если p-value будет меньше выбраного уровня значимости alpha, то нулевую гипотизу отвергаем.\n",
    "\n",
    "Если p-value будет больше выбраного уровня значимости alpha, это будет значить, что данные не позволили нам отвергнуть нулевую гипотизу."
   ]
  },
  {
   "cell_type": "code",
   "execution_count": 136,
   "metadata": {},
   "outputs": [
    {
     "name": "stdout",
     "output_type": "stream",
     "text": [
      "p-значение:  2.6237027268062713e-106\n",
      "Отвергаем нулевую гипотезу, время завершения уровня различается\n"
     ]
    }
   ],
   "source": [
    "alpha = 0.05\n",
    "\n",
    "results = st.ttest_ind(who_made_project['path_days'], who_made_victory['path_days'], equal_var = False)\n",
    "print('p-значение: ', results.pvalue)\n",
    "\n",
    "if (results.pvalue < alpha):\n",
    "    print(\"Отвергаем нулевую гипотезу, время завершения уровня различается\")\n",
    "else:\n",
    "    print(\"Данные не позволили нам отвергнуть нулевую гипотизу\")"
   ]
  },
  {
   "cell_type": "code",
   "execution_count": 137,
   "metadata": {},
   "outputs": [
    {
     "data": {
      "text/html": [
       "<div>\n",
       "<style scoped>\n",
       "    .dataframe tbody tr th:only-of-type {\n",
       "        vertical-align: middle;\n",
       "    }\n",
       "\n",
       "    .dataframe tbody tr th {\n",
       "        vertical-align: top;\n",
       "    }\n",
       "\n",
       "    .dataframe thead th {\n",
       "        text-align: right;\n",
       "    }\n",
       "</style>\n",
       "<table border=\"1\" class=\"dataframe\">\n",
       "  <thead>\n",
       "    <tr style=\"text-align: right;\">\n",
       "      <th></th>\n",
       "      <th>event</th>\n",
       "      <th>path_days</th>\n",
       "    </tr>\n",
       "  </thead>\n",
       "  <tbody>\n",
       "    <tr>\n",
       "      <td>1</td>\n",
       "      <td>who_made_victory</td>\n",
       "      <td>11.0</td>\n",
       "    </tr>\n",
       "    <tr>\n",
       "      <td>2</td>\n",
       "      <td>who_made_project</td>\n",
       "      <td>13.0</td>\n",
       "    </tr>\n",
       "  </tbody>\n",
       "</table>\n",
       "</div>"
      ],
      "text/plain": [
       "              event  path_days\n",
       "1  who_made_victory       11.0\n",
       "2  who_made_project       13.0"
      ]
     },
     "execution_count": 137,
     "metadata": {},
     "output_type": "execute_result"
    }
   ],
   "source": [
    "who_concat.drop(0, axis=0).drop({'user_id', '%_of_total'}, axis=1)"
   ]
  },
  {
   "cell_type": "markdown",
   "metadata": {},
   "source": [
    "Те, кто выбирают пройти первый уровень путем реализации проекта - проходят его дольше на 2 дня в сравнении с теми, кто прошел уровень победив первого врага"
   ]
  },
  {
   "cell_type": "markdown",
   "metadata": {
    "id": "wTY9HatLOYIp"
   },
   "source": [
    "## 3.2. Время завершения уровня различается в зависимости от источника перехода <a id='section_id_62'></a>"
   ]
  },
  {
   "cell_type": "code",
   "execution_count": 138,
   "metadata": {},
   "outputs": [
    {
     "data": {
      "text/html": [
       "<div>\n",
       "<style scoped>\n",
       "    .dataframe tbody tr th:only-of-type {\n",
       "        vertical-align: middle;\n",
       "    }\n",
       "\n",
       "    .dataframe tbody tr th {\n",
       "        vertical-align: top;\n",
       "    }\n",
       "\n",
       "    .dataframe thead th {\n",
       "        text-align: right;\n",
       "    }\n",
       "</style>\n",
       "<table border=\"1\" class=\"dataframe\">\n",
       "  <thead>\n",
       "    <tr style=\"text-align: right;\">\n",
       "      <th></th>\n",
       "      <th>source</th>\n",
       "      <th>finished_users</th>\n",
       "      <th>attracted_users</th>\n",
       "      <th>%_of_finished</th>\n",
       "      <th>cost</th>\n",
       "      <th>count</th>\n",
       "      <th>cac</th>\n",
       "    </tr>\n",
       "  </thead>\n",
       "  <tbody>\n",
       "    <tr>\n",
       "      <td>1</td>\n",
       "      <td>instagram_new_adverts</td>\n",
       "      <td>1466</td>\n",
       "      <td>3347</td>\n",
       "      <td>0.438004</td>\n",
       "      <td>2161.0</td>\n",
       "      <td>3347</td>\n",
       "      <td>0.65</td>\n",
       "    </tr>\n",
       "    <tr>\n",
       "      <td>3</td>\n",
       "      <td>youtube_channel_reklama</td>\n",
       "      <td>1159</td>\n",
       "      <td>2686</td>\n",
       "      <td>0.431497</td>\n",
       "      <td>1068.0</td>\n",
       "      <td>2686</td>\n",
       "      <td>0.40</td>\n",
       "    </tr>\n",
       "    <tr>\n",
       "      <td>2</td>\n",
       "      <td>yandex_direct</td>\n",
       "      <td>2042</td>\n",
       "      <td>4817</td>\n",
       "      <td>0.423915</td>\n",
       "      <td>2233.0</td>\n",
       "      <td>4817</td>\n",
       "      <td>0.46</td>\n",
       "    </tr>\n",
       "    <tr>\n",
       "      <td>0</td>\n",
       "      <td>facebook_ads</td>\n",
       "      <td>1150</td>\n",
       "      <td>2726</td>\n",
       "      <td>0.421864</td>\n",
       "      <td>2141.0</td>\n",
       "      <td>2726</td>\n",
       "      <td>0.79</td>\n",
       "    </tr>\n",
       "  </tbody>\n",
       "</table>\n",
       "</div>"
      ],
      "text/plain": [
       "                    source  finished_users  attracted_users  %_of_finished  \\\n",
       "1    instagram_new_adverts            1466             3347       0.438004   \n",
       "3  youtube_channel_reklama            1159             2686       0.431497   \n",
       "2            yandex_direct            2042             4817       0.423915   \n",
       "0             facebook_ads            1150             2726       0.421864   \n",
       "\n",
       "     cost  count   cac  \n",
       "1  2161.0   3347  0.65  \n",
       "3  1068.0   2686  0.40  \n",
       "2  2233.0   4817  0.46  \n",
       "0  2141.0   2726  0.79  "
      ]
     },
     "execution_count": 138,
     "metadata": {},
     "output_type": "execute_result"
    }
   ],
   "source": [
    "source_merge"
   ]
  },
  {
   "cell_type": "markdown",
   "metadata": {
    "id": "7fuv3WviOYIp"
   },
   "source": [
    "Сравним источники с самым высоким процентом прохождения **instagram_new_adverts** *43.8%*, и самым низким **facebook_ads** *42.1%*"
   ]
  },
  {
   "cell_type": "markdown",
   "metadata": {},
   "source": [
    "Нулева гипотеза: Время завершения уровня, в зависимости от источника рекламы, `НЕ` различается \n",
    "\n",
    "Альтернативная гипотиза: Время завершения уровня, в зависимости от источника рекламы, различается\n",
    "\n",
    "Уровень значимости alpha: 0,05\n",
    "\n",
    "Посчитаем p-value, используя ttest из библиотеки scipy для сравнения средних двух выборок\n",
    "\n",
    "Если p-value будет меньше выбраного уровня значимости alpha, то нулевую гипотизу отвергаем.\n",
    "\n",
    "Если p-value будет больше выбраного уровня значимости alpha, это будет значить, что данные не позволили нам отвергнуть нулевую гипотизу."
   ]
  },
  {
   "cell_type": "code",
   "execution_count": 139,
   "metadata": {},
   "outputs": [],
   "source": [
    "facebook = users_first_last_event[['source', 'path_days']].query('source == \"facebook_ads\"')\n",
    "instagram = users_first_last_event[['source', 'path_days']].query('source == \"instagram_new_adverts\"')"
   ]
  },
  {
   "cell_type": "code",
   "execution_count": 140,
   "metadata": {},
   "outputs": [
    {
     "name": "stdout",
     "output_type": "stream",
     "text": [
      "p-значение:  0.5529958757362929\n",
      "Данные не позволили нам отвергнуть нулевую гипотизу\n"
     ]
    }
   ],
   "source": [
    "alpha = 0.05\n",
    "\n",
    "results = st.ttest_ind(facebook['path_days'], instagram['path_days'], equal_var = False)\n",
    "print('p-значение: ', results.pvalue)\n",
    "\n",
    "if (results.pvalue < alpha):\n",
    "    print(\"Отвергаем нулевую гипотезу, время завершения уровня различается\")\n",
    "else:\n",
    "    print(\"Данные не позволили нам отвергнуть нулевую гипотизу\")"
   ]
  },
  {
   "cell_type": "markdown",
   "metadata": {},
   "source": [
    "Время завершения уровня `не` различается, вне зависимости от источника рекламного перехода"
   ]
  },
  {
   "cell_type": "markdown",
   "metadata": {
    "id": "Q1OIlJFMOYIq"
   },
   "source": [
    "[План](#section_id_0) "
   ]
  },
  {
   "cell_type": "markdown",
   "metadata": {
    "id": "n4aHfj4sOYIq"
   },
   "source": [
    "# 4. Выводы и рекомендации "
   ]
  },
  {
   "cell_type": "markdown",
   "metadata": {},
   "source": [
    "### Отчет"
   ]
  },
  {
   "cell_type": "markdown",
   "metadata": {},
   "source": [
    "Проведен анализ поведения игроков в мобильной игре «Космические братья»\n",
    "\n",
    "Данные получены за период с 4 мая 2020 года по 5 июня 2020 года.  \n",
    "Реклама закупалась 6 дней, с 3 мая 2020 года по 9 мая 2020 года.  \n",
    "  \n",
    "В результате анализа выявлено: \n",
    " - Кол-во уникальных пользователей: 13576\n",
    " - Среднее кол-во пользователей в день: 1480\n",
    " ***\n",
    " - Среднее время, за которое пользователь совершает **победу над первым врагом**: `10 дней`\n",
    " - Среднее время, за которое пользователь **реализует проект**: `13 дней`\n",
    " - Среднее время, за которое пользователь **останавливается в прогрессе**: `9 дней`\n",
    " ***\n",
    " - `29%` пользователей прошли первый уровень **победой** над врагом. \n",
    " - `14%` выбрали путь реализации **проекта**.  \n",
    " - `57%` пользователей остановились в прогрессе и **не прошли** первый уровень.  \n",
    " - `43%` пользователей **прошли** первый уровень \n",
    "*** \n",
    " - Разницы в проценте прохождения первого уровня в зависимости от источника трафика нет\n",
    " - Рекламный источник не влияет на соотношение игроков завершивших уровень боем или проектом  \n",
    " - Есть статистически значимое различие времени прохождения уровня от выбранной стратегии. *(Те кто выбирают способ прохождения победу над первым врагом, проходят уровень быстрее)*\n",
    " - Статистически значимого влияния рекламного источника на время прохождения первого уровня не выявлено  \n"
   ]
  },
  {
   "cell_type": "markdown",
   "metadata": {},
   "source": [
    "### Рекомендации  "
   ]
  },
  {
   "cell_type": "markdown",
   "metadata": {
    "id": "otj6LbTSOYIq"
   },
   "source": [
    "Отвечая на вопрос, ***какую модель монетизации стоит выбрать для игрового приложения***, можно рассмотреть варианты:\n",
    "\n",
    "- Ускорение строительства построек посредством просмотра рекламного баннера\n",
    "- Разовые ускорители строительства построек за донат\n",
    "- Покупка построек за донат\n",
    "- Показ рекламного баннера в меню взаимодействия с постройкой\n",
    "- Чтобы окупить затраты на рекламу, цену за показ рекламного баннера рекомендуется ставить не ниже, чем в данном CAC\n",
    "\n",
    "- Соотношения, время и доли в прохождении игры ни как не зависят от рекламного источника, поэтому рекомендуется увеличить вложения в рекламный источник `youtube_channel_reklama`, его САС наименьший, он принесёт много *дешевых не менее качественных пользователей* ."
   ]
  },
  {
   "cell_type": "markdown",
   "metadata": {
    "id": "2JQLx25wOYIr"
   },
   "source": [
    "[План](#section_id_0) "
   ]
  },
  {
   "cell_type": "markdown",
   "metadata": {
    "id": "d2ZiAcCLOYIS"
   },
   "source": [
    "<BR>"
   ]
  }
 ],
 "metadata": {
  "kernelspec": {
   "display_name": "Python 3",
   "language": "python",
   "name": "python3"
  },
  "language_info": {
   "codemirror_mode": {
    "name": "ipython",
    "version": 3
   },
   "file_extension": ".py",
   "mimetype": "text/x-python",
   "name": "python",
   "nbconvert_exporter": "python",
   "pygments_lexer": "ipython3",
   "version": "3.7.8"
  },
  "toc": {
   "base_numbering": 1,
   "nav_menu": {
    "height": "459px",
    "width": "558px"
   },
   "number_sections": false,
   "sideBar": true,
   "skip_h1_title": true,
   "title_cell": "Table of Contents",
   "title_sidebar": "Contents",
   "toc_cell": false,
   "toc_position": {
    "height": "calc(100% - 180px)",
    "left": "10px",
    "top": "150px",
    "width": "307.2px"
   },
   "toc_section_display": true,
   "toc_window_display": false
  }
 },
 "nbformat": 4,
 "nbformat_minor": 2
}
